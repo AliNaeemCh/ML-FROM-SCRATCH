{
 "cells": [
  {
   "cell_type": "code",
   "execution_count": 2,
   "metadata": {},
   "outputs": [],
   "source": [
    "import numpy as np\n",
    "import nltk\n",
    "import string\n",
    "from nltk.corpus import stopwords\n",
    "from nltk.tokenize import word_tokenize\n",
    "from nltk.stem import WordNetLemmatizer\n",
    "from sklearn.model_selection import train_test_split\n",
    "import matplotlib.pyplot as plt\n",
    "from gensim.models import KeyedVectors\n",
    "import pandas as pd\n",
    "import contractions\n",
    "from sklearn.metrics import confusion_matrix, classification_report, ConfusionMatrixDisplay"
   ]
  },
  {
   "cell_type": "code",
   "execution_count": 3,
   "metadata": {},
   "outputs": [
    {
     "data": {
      "text/html": [
       "<div>\n",
       "<style scoped>\n",
       "    .dataframe tbody tr th:only-of-type {\n",
       "        vertical-align: middle;\n",
       "    }\n",
       "\n",
       "    .dataframe tbody tr th {\n",
       "        vertical-align: top;\n",
       "    }\n",
       "\n",
       "    .dataframe thead th {\n",
       "        text-align: right;\n",
       "    }\n",
       "</style>\n",
       "<table border=\"1\" class=\"dataframe\">\n",
       "  <thead>\n",
       "    <tr style=\"text-align: right;\">\n",
       "      <th></th>\n",
       "      <th>Review</th>\n",
       "      <th>Liked</th>\n",
       "    </tr>\n",
       "  </thead>\n",
       "  <tbody>\n",
       "    <tr>\n",
       "      <th>0</th>\n",
       "      <td>Wow... Loved this place.</td>\n",
       "      <td>1</td>\n",
       "    </tr>\n",
       "    <tr>\n",
       "      <th>1</th>\n",
       "      <td>Crust is not good.</td>\n",
       "      <td>0</td>\n",
       "    </tr>\n",
       "    <tr>\n",
       "      <th>2</th>\n",
       "      <td>Not tasty and the texture was just nasty.</td>\n",
       "      <td>0</td>\n",
       "    </tr>\n",
       "    <tr>\n",
       "      <th>3</th>\n",
       "      <td>Stopped by during the late May bank holiday of...</td>\n",
       "      <td>1</td>\n",
       "    </tr>\n",
       "    <tr>\n",
       "      <th>4</th>\n",
       "      <td>The selection on the menu was great and so wer...</td>\n",
       "      <td>1</td>\n",
       "    </tr>\n",
       "  </tbody>\n",
       "</table>\n",
       "</div>"
      ],
      "text/plain": [
       "                                              Review  Liked\n",
       "0                           Wow... Loved this place.      1\n",
       "1                                 Crust is not good.      0\n",
       "2          Not tasty and the texture was just nasty.      0\n",
       "3  Stopped by during the late May bank holiday of...      1\n",
       "4  The selection on the menu was great and so wer...      1"
      ]
     },
     "execution_count": 3,
     "metadata": {},
     "output_type": "execute_result"
    }
   ],
   "source": [
    "df = pd.read_csv('https://firebasestorage.googleapis.com/v0/b/common-e8332.appspot.com/o/Restaurant_Reviews.tsv?alt=media&token=e8c70b99-384c-4feb-a280-9d12dcf8b58c', sep='\\t')\n",
    "df.head()"
   ]
  },
  {
   "cell_type": "code",
   "execution_count": 4,
   "metadata": {},
   "outputs": [],
   "source": [
    "reviews = np.array(df['Review'])\n",
    "labels = np.array(df['Liked'])"
   ]
  },
  {
   "cell_type": "code",
   "execution_count": 5,
   "metadata": {},
   "outputs": [],
   "source": [
    "lemmatizer = WordNetLemmatizer()\n",
    "# Preprocessing\n",
    "def preprocess_review(review):\n",
    "\n",
    "    review = contractions.fix(review)\n",
    "    \n",
    "    # Convert to lowercase\n",
    "    review = review.lower()\n",
    "    \n",
    "    # Tokenize\n",
    "    tokens = word_tokenize(review)\n",
    "    \n",
    "    # Remove punctuation\n",
    "    tokens = [word for word in tokens if word not in string.punctuation]\n",
    "    \n",
    "    # Remove stopwords\n",
    "    stop_words = set(stopwords.words('english'))\n",
    "    tokens = [word for word in tokens if word not in stop_words]\n",
    "    \n",
    "    # Lemmatization\n",
    "    tokens = [lemmatizer.lemmatize(word) for word in tokens]\n",
    "    \n",
    "    return tokens"
   ]
  },
  {
   "cell_type": "code",
   "execution_count": 6,
   "metadata": {},
   "outputs": [],
   "source": [
    "cleaned_reviews = []\n",
    "# Process each review\n",
    "for review in reviews:\n",
    "    cleaned_reviews.append(preprocess_review(review))"
   ]
  },
  {
   "cell_type": "code",
   "execution_count": 7,
   "metadata": {},
   "outputs": [
    {
     "data": {
      "text/plain": [
       "[['think', 'food', 'flavor', 'texture', 'lacking'],\n",
       " ['appetite', 'instantly', 'gone'],\n",
       " ['overall', 'impressed', 'would', 'go', 'back'],\n",
       " ['whole',\n",
       "  'experience',\n",
       "  'underwhelming',\n",
       "  'think',\n",
       "  'go',\n",
       "  'ninja',\n",
       "  'sushi',\n",
       "  'next',\n",
       "  'time'],\n",
       " ['wasted',\n",
       "  'enough',\n",
       "  'life',\n",
       "  'poured',\n",
       "  'salt',\n",
       "  'wound',\n",
       "  'drawing',\n",
       "  'time',\n",
       "  'took',\n",
       "  'bring',\n",
       "  'check']]"
      ]
     },
     "execution_count": 7,
     "metadata": {},
     "output_type": "execute_result"
    }
   ],
   "source": [
    "cleaned_reviews[-5:]"
   ]
  },
  {
   "cell_type": "code",
   "execution_count": 8,
   "metadata": {},
   "outputs": [],
   "source": [
    "# Loading the embedding\n",
    "model_path = 'https://firebasestorage.googleapis.com/v0/b/common-e8332.appspot.com/o/GoogleNews-vectors-negative300-SLIM.bin?alt=media&token=ce5beeda-f8b4-4d27-99b1-0098b6128372'\n",
    "\n",
    "# Load the Word2Vec model\n",
    "word2vec_model = KeyedVectors.load_word2vec_format(model_path, binary=True)"
   ]
  },
  {
   "cell_type": "code",
   "execution_count": 9,
   "metadata": {},
   "outputs": [
    {
     "name": "stderr",
     "output_type": "stream",
     "text": [
      "c:\\Users\\chaud\\AppData\\Local\\Programs\\Python\\Python312\\Lib\\site-packages\\gensim\\models\\keyedvectors.py:551: UserWarning: Adding single vectors to a KeyedVectors which grows by one each time can be costly. Consider adding in batches or preallocating to the required size.\n",
      "  warnings.warn(\n"
     ]
    },
    {
     "data": {
      "text/plain": [
       "299568"
      ]
     },
     "execution_count": 9,
     "metadata": {},
     "output_type": "execute_result"
    }
   ],
   "source": [
    "# Adding special tokens to embedding\n",
    "\n",
    "# Define the embedding size (for the GoogleNews vectors, it's 300)\n",
    "embedding_size = word2vec_model.vector_size\n",
    "\n",
    "# Initialize the <unk> and <pad> vectors (either zero or random)\n",
    "unk_vector = np.random.uniform(-0.25, 0.25, embedding_size)  # Random initialization\n",
    "pad_vector = np.zeros(embedding_size)  # Zero vector for padding\n",
    "\n",
    "# Add <unk> and <pad> to the model's vocabulary\n",
    "word2vec_model.add_vector('<unk>', unk_vector)\n",
    "word2vec_model.add_vector('<pad>', pad_vector)"
   ]
  },
  {
   "cell_type": "code",
   "execution_count": 10,
   "metadata": {},
   "outputs": [
    {
     "name": "stdout",
     "output_type": "stream",
     "text": [
      "Mean Sequence Length: 10.894\n"
     ]
    }
   ],
   "source": [
    "mean_sequence_length = np.array([len(s.split()) for s in reviews]).mean()\n",
    "print(\"Mean Sequence Length:\", mean_sequence_length)"
   ]
  },
  {
   "cell_type": "code",
   "execution_count": 12,
   "metadata": {},
   "outputs": [],
   "source": [
    "sequence_length = 15\n",
    "# Replace words with indices based on vocabulary and pad sequences\n",
    "indexed_reviews = []\n",
    "for review in cleaned_reviews:\n",
    "    indexed_review = []\n",
    "    \n",
    "    # Replace words with indices, use <unk> if word is not in vocabulary\n",
    "    for word in review:\n",
    "        if word in word2vec_model.key_to_index:\n",
    "            indexed_review.append(word2vec_model.key_to_index[word])\n",
    "        else:\n",
    "            indexed_review.append(word2vec_model.key_to_index['<unk>'])  # Use <unk> if word is missing\n",
    "\n",
    "    # Pad with <pad> token if the sequence is shorter than the sequence length\n",
    "    if len(indexed_review) < sequence_length:\n",
    "        indexed_review.extend([word2vec_model.key_to_index['<pad>']] * (sequence_length - len(indexed_review)))\n",
    "    \n",
    "    # Truncate to the maximum sequence length if too long\n",
    "    indexed_reviews.append(indexed_review[:sequence_length])\n",
    "\n",
    "# Convert to numpy array for consistency\n",
    "indexed_reviews = np.array(indexed_reviews)"
   ]
  },
  {
   "cell_type": "code",
   "execution_count": 13,
   "metadata": {},
   "outputs": [
    {
     "data": {
      "text/plain": [
       "array([[ 18099, 299567,   2979,    207, 299568, 299568, 299568, 299568,\n",
       "        299568, 299568, 299568, 299568, 299568, 299568, 299568],\n",
       "       [ 24573,    120, 299568, 299568, 299568, 299568, 299568, 299568,\n",
       "        299568, 299568, 299568, 299568, 299568, 299568, 299568]])"
      ]
     },
     "execution_count": 13,
     "metadata": {},
     "output_type": "execute_result"
    }
   ],
   "source": [
    "indexed_reviews[:2]"
   ]
  },
  {
   "cell_type": "code",
   "execution_count": 14,
   "metadata": {},
   "outputs": [],
   "source": [
    "X_train, X_test, y_train, y_test = train_test_split(indexed_reviews, labels, test_size=0.2, random_state=20, stratify=labels)"
   ]
  },
  {
   "cell_type": "code",
   "execution_count": 15,
   "metadata": {},
   "outputs": [
    {
     "data": {
      "text/plain": [
       "((800, 15), (200, 15))"
      ]
     },
     "execution_count": 15,
     "metadata": {},
     "output_type": "execute_result"
    }
   ],
   "source": [
    "X_train.shape, X_test.shape"
   ]
  },
  {
   "cell_type": "code",
   "execution_count": 16,
   "metadata": {},
   "outputs": [],
   "source": [
    "class AdamOptimizer:\n",
    "    def __init__(self, alpha, params, beta1=0.9, beta2=0.999, epsilon=10e-8):\n",
    "        self.alpha = alpha\n",
    "        self.beta1 = beta1\n",
    "        self.beta2 = beta2\n",
    "        self.epsilon = epsilon\n",
    "        self.moments = []\n",
    "        self.epoch = 0\n",
    "        if not params:\n",
    "            raise Exception(\"Parameters can't be undefined!\")\n",
    "        for i in range(len(params)):\n",
    "            self.moments.append(\n",
    "                {\n",
    "                    'V': np.zeros_like(params[i]),\n",
    "                    'S': np.zeros_like(params[i])\n",
    "                }\n",
    "            )\n",
    "\n",
    "    def update(self, params=[], grads=[]):\n",
    "        params_len = len(params)\n",
    "        grads_len = len(grads)\n",
    "        if params_len != grads_len or params_len == 0:\n",
    "            raise Exception(\"Empty or Inconsistant Parameters and Gradients List!\")\n",
    "\n",
    "        self.epoch += 1\n",
    "\n",
    "        for i in range(grads_len):\n",
    "            # Update biased first moment estimate\n",
    "            self.moments[i]['V'] = self.beta1 * self.moments[i]['V'] + (1 - self.beta1) * grads[i]\n",
    "            # Update biased second raw moment estimate (RMSProp part)\n",
    "            self.moments[i]['S'] = self.beta2 * self.moments[i]['S'] + (1 - self.beta2) * np.square(grads[i])\n",
    "            # Compute bias-corrected first moment estimate\n",
    "            VdW_corrected = self.moments[i]['V'] / (1 - self.beta1 ** self.epoch)\n",
    "            # Compute bias-corrected second raw moment estimate (RMSProp part)\n",
    "            SdW_corrected = self.moments[i]['S'] / (1 - self.beta2 ** self.epoch)\n",
    "            # Update parameters\n",
    "            params[i] -= self.alpha * VdW_corrected / (np.sqrt(SdW_corrected) + self.epsilon)\n",
    "        \n",
    "        return params"
   ]
  },
  {
   "cell_type": "code",
   "execution_count": 48,
   "metadata": {},
   "outputs": [],
   "source": [
    "class RNN:\n",
    "    '''\n",
    "    Specifications:\n",
    "        * Only contains single RNN layer\n",
    "        * RNN Layer Activation Function: tanh\n",
    "    '''\n",
    "    def __init__(self, units, seq_len, total_classes, total_features=None, embedding_matrix=None, lr=0.1):\n",
    "        self.embedding_matrix = embedding_matrix\n",
    "        self.lr = lr\n",
    "        self.seq_len = seq_len\n",
    "        self.total_classes = total_classes\n",
    "        if self.embedding_matrix is not None:\n",
    "            self.total_features = self.embedding_matrix.shape[1]\n",
    "            self.get_input_matrix = self.get_input_matrix_from_embedding_matrix\n",
    "        else:\n",
    "            if not total_features:\n",
    "                raise Exception(\"Define total features!\")\n",
    "            self.total_features = total_features\n",
    "            self.get_input_matrix = self.get_input_matrix_from_3d_input\n",
    "        self.out_vals = 1 if self.total_classes == 2 else self.total_classes\n",
    "        self.units = units\n",
    "        self.reset_weights_biases() # Initializing Weights and Biases\n",
    "        if self.out_vals == 1:\n",
    "            self.calc_loss = self.calc_bce\n",
    "            self.calc_accuracy = self.calc_accuracy_for_bin_classification\n",
    "            self.out_func = self.sigmoid\n",
    "            self.loss = 'BCE'\n",
    "        else:\n",
    "            self.calc_loss = self.calc_cce\n",
    "            self.calc_accuracy = self.calc_accuracy_for_mult_class_classification\n",
    "            self.out_func = self.softmax\n",
    "            self.loss = 'CCE'\n",
    "        \n",
    "        self.epoch = 0\n",
    "    \n",
    "    def sigmoid(self, z):\n",
    "        return (1/(1+np.exp(-z)))\n",
    "    \n",
    "    def softmax(self, Z):\n",
    "        num = np.exp(Z)\n",
    "        den = np.sum(num, axis=0)\n",
    "        return num/den\n",
    "    \n",
    "    def diag(self, array):\n",
    "        flat_array = array.flatten()\n",
    "        return np.diag(flat_array)\n",
    "    \n",
    "    def get_input_matrix_from_3d_input(self, input, idx):\n",
    "        return input[idx, :, :]\n",
    "    \n",
    "    def get_input_matrix_from_embedding_matrix(self, input, idx):\n",
    "        return self.embedding_matrix[input[idx,:]].T\n",
    "    \n",
    "    def predict(self, input):\n",
    "        if input.ndim == 3:\n",
    "            input = input.transpose(1, 2, 0)\n",
    "        else:\n",
    "            input = input.T\n",
    "        total_input_examples = input.shape[-1]\n",
    "        A = np.zeros((self.units, total_input_examples))\n",
    "        for seq_len_idx in range(self.seq_len):\n",
    "            input_matrix = self.get_input_matrix(input, idx=seq_len_idx)    #Dim: total_features x M\n",
    "            A = np.tanh ( self.W_i.T @ input_matrix + self.W_h @ A + self.b_h )\n",
    "        return self.out_func( self.w_o.T @ A + self.b_o ).T\n",
    "    \n",
    "    def forward_prop(self, input, return_pred=True):\n",
    "        total_input_examples = input.shape[-1]\n",
    "        self.A = np.zeros((self.seq_len+1, self.units, total_input_examples))\n",
    "        for seq_len_idx in range(self.seq_len):\n",
    "            input_matrix = self.get_input_matrix(input, idx=seq_len_idx)    #Dim: total_features x M\n",
    "            self.A[seq_len_idx+1] = np.tanh ( self.W_i.T @ input_matrix + self.W_h @ self.A[seq_len_idx] + self.b_h )\n",
    "        if return_pred:\n",
    "            return self.out_func( self.w_o.T @ self.A[-1] + self.b_o )\n",
    "        return\n",
    "    \n",
    "    def backward_prop(self, input, true_labels):\n",
    "        dL_by_db_o = np.zeros((self.out_vals, 1))\n",
    "        dL_by_dw_o = np.zeros((self.units, self.out_vals))\n",
    "        dL_by_db_h = np.zeros((self.units, 1))\n",
    "        dL_by_dW_i = np.zeros((self.total_features, self.units))\n",
    "        dL_by_dW_h = np.zeros((self.units, self.units))\n",
    "        y_pred = self.out_func( self.w_o.T @ self.A[-1] + self.b_o )\n",
    "        P = y_pred - true_labels\n",
    "        # b_o\n",
    "        dL_by_db_o += np.sum(P, axis=1).reshape(self.out_vals, 1)\n",
    "        # w_o\n",
    "        dL_by_dw_o += self.A[-1] @ P.T\n",
    "        P = (self.w_o @ P) * (1 - np.square(self.A[-1]))  # Dim: hxM\n",
    "        # b_h\n",
    "        dL_by_db_h += np.sum(P, axis=1).reshape(self.units, 1)\n",
    "        input_matrix = self.get_input_matrix(input, idx=-1)\n",
    "        # W_i\n",
    "        dL_by_dW_i += input_matrix @ P.T # Dim: total_features x units   # First word of sequence\n",
    "        # W_h\n",
    "        dL_by_dW_h += P @ self.A[-2].T # Dim: units x units\n",
    "\n",
    "        for seq_len_idx in range(1, self.seq_len):\n",
    "            input_matrix = self.get_input_matrix(input, idx=-seq_len_idx-1)\n",
    "            P = (self.W_h.T @ P) * (1 - np.square(self.A[-seq_len_idx-1]))\n",
    "            # b_h\n",
    "            dL_by_db_h += np.sum(P, axis=1).reshape(self.units, 1)\n",
    "            # W_i\n",
    "            dL_by_dW_i += input_matrix @ P.T\n",
    "            # W_h\n",
    "            dL_by_dW_h += P @ self.A[-seq_len_idx-2].T\n",
    "        return dL_by_db_o, dL_by_dw_o, dL_by_db_h, dL_by_dW_i, dL_by_dW_h\n",
    "\n",
    "    def update_w_sgd(self, batch_size, dL_by_db_o, dL_by_dw_o, dL_by_db_h, dL_by_dW_i, dL_by_dW_h):\n",
    "        norm_1 = 1/(batch_size)\n",
    "        norm_2 = norm_1 / self.seq_len\n",
    "        self.w_o -= self.lr * norm_1 * dL_by_dw_o\n",
    "        self.b_o -= self.lr * norm_1 * dL_by_db_o\n",
    "        self.b_h -= self.lr * norm_2 * dL_by_db_h\n",
    "        self.W_i -= self.lr * norm_2 * dL_by_dW_i\n",
    "        self.W_h -= self.lr * norm_2 * dL_by_dW_h\n",
    "        return\n",
    "    \n",
    "    def update_w_adam_optimizer(self, batch_size, dL_by_db_o, dL_by_dw_o, dL_by_db_h, dL_by_dW_i, dL_by_dW_h):\n",
    "        norm_1 = 1/(batch_size)\n",
    "        norm_2 = norm_1 / self.seq_len\n",
    "\n",
    "        dL_by_db_o *= norm_1\n",
    "        dL_by_dw_o *= norm_1\n",
    "        dL_by_db_h *= norm_2\n",
    "        dL_by_dW_i *= norm_2\n",
    "        dL_by_dW_h *= norm_2\n",
    "        self.b_o, self.w_o, self.b_h, self.W_i, self.W_h = self.optimizer.update(params=[self.b_o, self.w_o, self.b_h, self.W_i, self.W_h], grads=[dL_by_db_o, dL_by_dw_o, dL_by_db_h, dL_by_dW_i, dL_by_dW_h])\n",
    "        return\n",
    "\n",
    "    def reset_weights_biases(self):\n",
    "        self.b_o = np.zeros((self.out_vals, 1))\n",
    "        self.w_o = np.random.randn(self.units, self.out_vals) * np.sqrt(2 / (self.units + self.out_vals))\n",
    "        self.b_h = np.zeros((self.units, 1))\n",
    "        self.W_i = np.random.randn(self.total_features, self.units) * np.sqrt(2 / (self.total_features + self.units))\n",
    "        self.W_h = np.random.randn(self.units, self.units) * np.sqrt(2 / (self.units + self.units))\n",
    "\n",
    "    def calc_bce(self, y_pred, true_label):\n",
    "        # Calculate the BCE for each example\n",
    "        loss = - (true_label * np.log(y_pred) + (1 - true_label) * np.log(1 - y_pred))\n",
    "        \n",
    "        # Return the total loss (sum of all individual losses)\n",
    "        return np.sum(loss)\n",
    "        \n",
    "    def calc_cce(self, y_pred, true_label):\n",
    "        # Clip y_pred to avoid log(0) and very small values that may cause numerical instability\n",
    "        y_pred = np.clip(y_pred, 1e-15, 1 - 1e-15)\n",
    "        \n",
    "        # Calculate the categorical cross-entropy for each example\n",
    "        cce = -np.sum(true_label * np.log(y_pred), axis=0)\n",
    "        \n",
    "        # Calculate the mean loss over all examples\n",
    "        total_loss = np.sum(cce)\n",
    "        \n",
    "        return total_loss\n",
    "    \n",
    "    def calc_accuracy_for_bin_classification(self, true_labels, predictions):\n",
    "        wrong_decisions = np.sum( ((predictions <= 0.5) & (true_labels == 1)) | ((predictions > 0.5) & (true_labels == 0)) )\n",
    "        total_examples = true_labels.shape[1]\n",
    "        accuracy = (total_examples-wrong_decisions)/total_examples * 100\n",
    "        return accuracy\n",
    "    \n",
    "    def calc_accuracy_for_mult_class_classification(self, true_labels, predictions):\n",
    "        pred_indices = np.argmax(predictions, axis=0)\n",
    "        true_indices = np.argmax(true_labels, axis=0)\n",
    "        wrong_decisions = np.sum(pred_indices != true_indices)\n",
    "        total_examples = true_indices.size\n",
    "        accuracy = (total_examples-wrong_decisions)/total_examples * 100\n",
    "        return accuracy\n",
    "    \n",
    "    def evaluate(self, X, labels, reshape=True):\n",
    "        if reshape:\n",
    "            if X.ndim == 3:\n",
    "                X = X.transpose(1, 2, 0)\n",
    "            else:\n",
    "                X = X.T\n",
    "            labels = labels.T\n",
    "        # Check if the array is 1D\n",
    "        if labels.ndim == 1:\n",
    "            # Reshape to a column vector with shape (x, 1)\n",
    "            labels = labels.reshape(1, labels.size)\n",
    "        predictions = self.forward_prop(X)\n",
    "        loss = self.calc_loss(predictions, labels)\n",
    "        loss *= 1/X.shape[-1]\n",
    "        accuracy = self.calc_accuracy(labels, predictions)\n",
    "\n",
    "        return accuracy.item(), loss.item()\n",
    "        \n",
    "    def train(self, X_train, y_train, X_test, y_test, epochs, resume=False, verbose=True, adam_optimizer=False):\n",
    "        if X_train.ndim == 3:\n",
    "            X_train = X_train.transpose(1, 2, 0)\n",
    "            X_test = X_test.transpose(1, 2, 0)\n",
    "        else:\n",
    "            X_train = X_train.T\n",
    "            X_test = X_test.T\n",
    "        y_train = y_train.T\n",
    "        y_test = y_test.T\n",
    "        if adam_optimizer:\n",
    "            self.update = self.update_w_adam_optimizer\n",
    "            self.optimizer = AdamOptimizer(self.lr, params=[self.b_o, self.w_o, self.b_h, self.W_i, self.W_h])\n",
    "        else:\n",
    "            self.update = self.update_w_sgd\n",
    "        if not resume:\n",
    "            self.epoch = 0\n",
    "            self.reset_weights_biases()\n",
    "\n",
    "        total_training_examples = X_train.shape[-1]\n",
    "        epoch_idx = 0\n",
    "        training_ds_loss_history = []\n",
    "        testing_ds_loss_history = []\n",
    "        while epoch_idx < epochs:\n",
    "            epoch_idx += 1\n",
    "            self.epoch +=1 \n",
    "            self.forward_prop(X_train, return_pred=False)\n",
    "            dL_by_db_o, dL_by_dw_o, dL_by_db_h, dL_by_dW_i, dL_by_dW_h = self.backward_prop(X_train, y_train)\n",
    "            self.update(total_training_examples, dL_by_db_o, dL_by_dw_o, dL_by_db_h, dL_by_dW_i, dL_by_dW_h)\n",
    "            if verbose:\n",
    "                training_ds_accuracy, training_ds_loss = self.evaluate(X_train, y_train, reshape=False)\n",
    "                testing_ds_accuracy, testing_ds_loss = self.evaluate(X_test, y_test, reshape=False)\n",
    "                training_ds_loss_history.append(training_ds_loss)\n",
    "                testing_ds_loss_history.append(testing_ds_loss)\n",
    "                print(f\"Epoch {self.epoch:03d} | \"\n",
    "                      f\"Train Accuracy: {training_ds_accuracy:.2f}% | Train Loss ({self.loss}): {training_ds_loss:.4f} | \"\n",
    "                      f\"Test Accuracy: {testing_ds_accuracy:.2f}% | Test Loss ({self.loss}): {testing_ds_loss:.4f}\\n\")\n",
    "        return training_ds_loss_history, testing_ds_loss_history"
   ]
  },
  {
   "cell_type": "code",
   "execution_count": 49,
   "metadata": {},
   "outputs": [],
   "source": [
    "rnn = RNN(units=64, seq_len=sequence_length, embedding_matrix=word2vec_model.vectors, total_classes=2, lr=0.0005)"
   ]
  },
  {
   "cell_type": "code",
   "execution_count": 60,
   "metadata": {},
   "outputs": [
    {
     "name": "stdout",
     "output_type": "stream",
     "text": [
      "Epoch 001 | Train Accuracy: 55.25% | Train Loss (BCE): 0.6860 | Test Accuracy: 52.00% | Test Loss (BCE): 0.6953\n",
      "\n",
      "Epoch 002 | Train Accuracy: 61.38% | Train Loss (BCE): 0.6739 | Test Accuracy: 56.50% | Test Loss (BCE): 0.6821\n",
      "\n",
      "Epoch 003 | Train Accuracy: 62.62% | Train Loss (BCE): 0.6621 | Test Accuracy: 61.50% | Test Loss (BCE): 0.6699\n",
      "\n",
      "Epoch 004 | Train Accuracy: 64.62% | Train Loss (BCE): 0.6484 | Test Accuracy: 63.00% | Test Loss (BCE): 0.6563\n",
      "\n",
      "Epoch 005 | Train Accuracy: 68.12% | Train Loss (BCE): 0.6307 | Test Accuracy: 65.00% | Test Loss (BCE): 0.6388\n",
      "\n",
      "Epoch 006 | Train Accuracy: 69.75% | Train Loss (BCE): 0.6096 | Test Accuracy: 70.00% | Test Loss (BCE): 0.6177\n",
      "\n",
      "Epoch 007 | Train Accuracy: 71.50% | Train Loss (BCE): 0.5886 | Test Accuracy: 72.00% | Test Loss (BCE): 0.5963\n",
      "\n",
      "Epoch 008 | Train Accuracy: 73.00% | Train Loss (BCE): 0.5698 | Test Accuracy: 75.00% | Test Loss (BCE): 0.5768\n",
      "\n",
      "Epoch 009 | Train Accuracy: 74.00% | Train Loss (BCE): 0.5508 | Test Accuracy: 76.00% | Test Loss (BCE): 0.5561\n",
      "\n",
      "Epoch 010 | Train Accuracy: 75.88% | Train Loss (BCE): 0.5319 | Test Accuracy: 75.50% | Test Loss (BCE): 0.5348\n",
      "\n",
      "Epoch 011 | Train Accuracy: 76.00% | Train Loss (BCE): 0.5166 | Test Accuracy: 77.50% | Test Loss (BCE): 0.5193\n",
      "\n",
      "Epoch 012 | Train Accuracy: 76.88% | Train Loss (BCE): 0.5042 | Test Accuracy: 78.00% | Test Loss (BCE): 0.5088\n",
      "\n",
      "Epoch 013 | Train Accuracy: 78.12% | Train Loss (BCE): 0.4908 | Test Accuracy: 79.00% | Test Loss (BCE): 0.4963\n",
      "\n",
      "Epoch 014 | Train Accuracy: 79.12% | Train Loss (BCE): 0.4782 | Test Accuracy: 79.50% | Test Loss (BCE): 0.4814\n",
      "\n",
      "Epoch 015 | Train Accuracy: 80.50% | Train Loss (BCE): 0.4685 | Test Accuracy: 80.00% | Test Loss (BCE): 0.4693\n",
      "\n",
      "Epoch 016 | Train Accuracy: 80.00% | Train Loss (BCE): 0.4585 | Test Accuracy: 81.50% | Test Loss (BCE): 0.4622\n",
      "\n",
      "Epoch 017 | Train Accuracy: 80.62% | Train Loss (BCE): 0.4479 | Test Accuracy: 81.00% | Test Loss (BCE): 0.4599\n",
      "\n",
      "Epoch 018 | Train Accuracy: 81.62% | Train Loss (BCE): 0.4386 | Test Accuracy: 80.50% | Test Loss (BCE): 0.4595\n",
      "\n",
      "Epoch 019 | Train Accuracy: 82.00% | Train Loss (BCE): 0.4285 | Test Accuracy: 81.50% | Test Loss (BCE): 0.4543\n",
      "\n",
      "Epoch 020 | Train Accuracy: 82.38% | Train Loss (BCE): 0.4170 | Test Accuracy: 81.50% | Test Loss (BCE): 0.4450\n",
      "\n",
      "Epoch 021 | Train Accuracy: 83.12% | Train Loss (BCE): 0.4067 | Test Accuracy: 82.50% | Test Loss (BCE): 0.4377\n",
      "\n",
      "Epoch 022 | Train Accuracy: 83.50% | Train Loss (BCE): 0.3973 | Test Accuracy: 83.00% | Test Loss (BCE): 0.4337\n",
      "\n",
      "Epoch 023 | Train Accuracy: 83.75% | Train Loss (BCE): 0.3885 | Test Accuracy: 82.00% | Test Loss (BCE): 0.4312\n",
      "\n",
      "Epoch 024 | Train Accuracy: 84.12% | Train Loss (BCE): 0.3814 | Test Accuracy: 81.50% | Test Loss (BCE): 0.4293\n",
      "\n",
      "Epoch 025 | Train Accuracy: 84.38% | Train Loss (BCE): 0.3745 | Test Accuracy: 80.50% | Test Loss (BCE): 0.4268\n",
      "\n",
      "Epoch 026 | Train Accuracy: 85.38% | Train Loss (BCE): 0.3667 | Test Accuracy: 81.00% | Test Loss (BCE): 0.4238\n",
      "\n",
      "Epoch 027 | Train Accuracy: 86.50% | Train Loss (BCE): 0.3591 | Test Accuracy: 81.50% | Test Loss (BCE): 0.4220\n",
      "\n",
      "Epoch 028 | Train Accuracy: 86.38% | Train Loss (BCE): 0.3516 | Test Accuracy: 82.00% | Test Loss (BCE): 0.4203\n",
      "\n",
      "Epoch 029 | Train Accuracy: 86.50% | Train Loss (BCE): 0.3446 | Test Accuracy: 82.50% | Test Loss (BCE): 0.4187\n",
      "\n",
      "Epoch 030 | Train Accuracy: 86.62% | Train Loss (BCE): 0.3380 | Test Accuracy: 82.50% | Test Loss (BCE): 0.4178\n",
      "\n",
      "Epoch 031 | Train Accuracy: 87.12% | Train Loss (BCE): 0.3308 | Test Accuracy: 82.00% | Test Loss (BCE): 0.4172\n",
      "\n",
      "Epoch 032 | Train Accuracy: 87.75% | Train Loss (BCE): 0.3236 | Test Accuracy: 83.00% | Test Loss (BCE): 0.4166\n",
      "\n",
      "Epoch 033 | Train Accuracy: 87.62% | Train Loss (BCE): 0.3161 | Test Accuracy: 81.50% | Test Loss (BCE): 0.4147\n",
      "\n",
      "Epoch 034 | Train Accuracy: 88.25% | Train Loss (BCE): 0.3094 | Test Accuracy: 80.50% | Test Loss (BCE): 0.4127\n",
      "\n",
      "Epoch 035 | Train Accuracy: 88.62% | Train Loss (BCE): 0.3031 | Test Accuracy: 80.50% | Test Loss (BCE): 0.4109\n",
      "\n",
      "Epoch 036 | Train Accuracy: 88.88% | Train Loss (BCE): 0.2972 | Test Accuracy: 81.00% | Test Loss (BCE): 0.4098\n",
      "\n",
      "Epoch 037 | Train Accuracy: 89.50% | Train Loss (BCE): 0.2914 | Test Accuracy: 82.00% | Test Loss (BCE): 0.4081\n",
      "\n",
      "Epoch 038 | Train Accuracy: 90.00% | Train Loss (BCE): 0.2857 | Test Accuracy: 82.50% | Test Loss (BCE): 0.4058\n",
      "\n",
      "Epoch 039 | Train Accuracy: 90.00% | Train Loss (BCE): 0.2799 | Test Accuracy: 82.50% | Test Loss (BCE): 0.4054\n",
      "\n",
      "Epoch 040 | Train Accuracy: 90.00% | Train Loss (BCE): 0.2744 | Test Accuracy: 82.50% | Test Loss (BCE): 0.4068\n",
      "\n",
      "Epoch 041 | Train Accuracy: 90.50% | Train Loss (BCE): 0.2691 | Test Accuracy: 82.50% | Test Loss (BCE): 0.4064\n",
      "\n",
      "Epoch 042 | Train Accuracy: 91.00% | Train Loss (BCE): 0.2640 | Test Accuracy: 82.50% | Test Loss (BCE): 0.4060\n",
      "\n",
      "Epoch 043 | Train Accuracy: 91.50% | Train Loss (BCE): 0.2588 | Test Accuracy: 83.50% | Test Loss (BCE): 0.4076\n",
      "\n",
      "Epoch 044 | Train Accuracy: 91.88% | Train Loss (BCE): 0.2536 | Test Accuracy: 84.00% | Test Loss (BCE): 0.4069\n",
      "\n",
      "Epoch 045 | Train Accuracy: 92.38% | Train Loss (BCE): 0.2489 | Test Accuracy: 83.00% | Test Loss (BCE): 0.4048\n",
      "\n",
      "Epoch 046 | Train Accuracy: 92.75% | Train Loss (BCE): 0.2441 | Test Accuracy: 83.50% | Test Loss (BCE): 0.4079\n",
      "\n",
      "Epoch 047 | Train Accuracy: 93.12% | Train Loss (BCE): 0.2393 | Test Accuracy: 83.50% | Test Loss (BCE): 0.4101\n",
      "\n",
      "Epoch 048 | Train Accuracy: 93.50% | Train Loss (BCE): 0.2344 | Test Accuracy: 84.00% | Test Loss (BCE): 0.4106\n",
      "\n",
      "Epoch 049 | Train Accuracy: 93.75% | Train Loss (BCE): 0.2294 | Test Accuracy: 83.50% | Test Loss (BCE): 0.4169\n",
      "\n",
      "Epoch 050 | Train Accuracy: 93.88% | Train Loss (BCE): 0.2245 | Test Accuracy: 84.00% | Test Loss (BCE): 0.4194\n",
      "\n"
     ]
    }
   ],
   "source": [
    "training_ds_loss_history, testing_ds_loss_history = rnn.train(X_train, y_train, X_test, y_test, 50, adam_optimizer=True)"
   ]
  },
  {
   "cell_type": "code",
   "execution_count": 61,
   "metadata": {},
   "outputs": [
    {
     "data": {
      "image/png": "[encoded data removed]",
      "text/plain": [
       "<Figure size 900x600 with 1 Axes>"
      ]
     },
     "metadata": {},
     "output_type": "display_data"
    }
   ],
   "source": [
    "iterations = np.arange(1, len(training_ds_loss_history)+1)\n",
    "plt.figure(figsize=(9, 6))\n",
    "plt.plot(iterations, training_ds_loss_history, linewidth=2, label='Training Dataset')\n",
    "plt.plot(iterations, testing_ds_loss_history, linewidth=2, label='Testing Dataset')\n",
    "plt.title('Binary Cross Entropy vs Epochs', fontsize=25)\n",
    "plt.xlabel('Epoch', fontsize=20)\n",
    "plt.ylabel('Binary Cross Entropy ', fontsize=20)\n",
    "plt.xticks(fontsize=16)\n",
    "plt.yticks(fontsize=16)\n",
    "plt.grid(True)\n",
    "plt.tight_layout()\n",
    "plt.legend(fontsize=16)\n",
    "# plt.savefig('bce_gru.png', dpi=300)\n",
    "plt.show()"
   ]
  },
  {
   "cell_type": "code",
   "execution_count": 62,
   "metadata": {},
   "outputs": [
    {
     "name": "stdout",
     "output_type": "stream",
     "text": [
      "Training Dataset Accuracy: 93.88% | Training Dataset Loss (BCE): 0.2245\n"
     ]
    }
   ],
   "source": [
    "accuracy_train, bce_train = rnn.evaluate(X_train, y_train)\n",
    "print(f\"Training Dataset Accuracy: {accuracy_train:.2f}% | Training Dataset Loss (BCE): {bce_train:.4f}\")"
   ]
  },
  {
   "cell_type": "code",
   "execution_count": 63,
   "metadata": {},
   "outputs": [
    {
     "name": "stdout",
     "output_type": "stream",
     "text": [
      "Testing Dataset Accuracy: 84.00% | Testing Dataset Loss (BCE): 0.4194\n"
     ]
    }
   ],
   "source": [
    "accuracy_test, bce_test = rnn.evaluate(X_test, y_test)\n",
    "print(f\"Testing Dataset Accuracy: {accuracy_test:.2f}% | Testing Dataset Loss (BCE): {bce_test:.4f}\")"
   ]
  },
  {
   "cell_type": "code",
   "execution_count": 67,
   "metadata": {},
   "outputs": [
    {
     "name": "stdout",
     "output_type": "stream",
     "text": [
      "Confusion Matrix:\n",
      " [[91  9]\n",
      " [23 77]] \n",
      "\n",
      "True negative (Actually negative, classified as negative): 91\n",
      "False positive (Actually negative, classified as positive): 9\n",
      "False negative (Actually positive, classified as negative): 23\n",
      "True positive (Actually positive, classified as positive): 77\n"
     ]
    }
   ],
   "source": [
    "# Generating Confusion matrix\n",
    "y_pred = rnn.predict(X_test)\n",
    "y_pred_classes = np.where(y_pred > 0.5, 1, 0)\n",
    "cm = confusion_matrix(y_test, y_pred_classes)\n",
    "print('Confusion Matrix:\\n', cm, '\\n')\n",
    "print('True negative (Actually negative, classified as negative):', cm[0][0])\n",
    "print('False positive (Actually negative, classified as positive):', cm[0][1])\n",
    "print('False negative (Actually positive, classified as negative):', cm[1][0])\n",
    "print('True positive (Actually positive, classified as positive):', cm[1][1])"
   ]
  },
  {
   "cell_type": "code",
   "execution_count": 68,
   "metadata": {},
   "outputs": [
    {
     "data": {
      "image/png": "[encoded data removed]",
      "text/plain": [
       "<Figure size 640x480 with 2 Axes>"
      ]
     },
     "metadata": {},
     "output_type": "display_data"
    }
   ],
   "source": [
    "disp = ConfusionMatrixDisplay(confusion_matrix=cm)\n",
    "disp.plot(cmap=plt.cm.Blues)\n",
    "plt.title('Confusion Matrix for Testing Dataset')\n",
    "# plt.savefig('cm_rnn', dpi=300)\n",
    "plt.show()"
   ]
  },
  {
   "cell_type": "code",
   "execution_count": 69,
   "metadata": {},
   "outputs": [
    {
     "name": "stdout",
     "output_type": "stream",
     "text": [
      "Classification Report\n",
      "\n",
      "               precision    recall  f1-score   support\n",
      "\n",
      "           0       0.80      0.91      0.85       100\n",
      "           1       0.90      0.77      0.83       100\n",
      "\n",
      "    accuracy                           0.84       200\n",
      "   macro avg       0.85      0.84      0.84       200\n",
      "weighted avg       0.85      0.84      0.84       200\n",
      "\n"
     ]
    }
   ],
   "source": [
    "# Generating classification report from scikit-learn\n",
    "cr = classification_report(y_test, y_pred_classes)\n",
    "print('Classification Report\\n\\n', cr)"
   ]
  }
 ],
 "metadata": {
  "kernelspec": {
   "display_name": "Python 3",
   "language": "python",
   "name": "python3"
  },
  "language_info": {
   "codemirror_mode": {
    "name": "ipython",
    "version": 3
   },
   "file_extension": ".py",
   "mimetype": "text/x-python",
   "name": "python",
   "nbconvert_exporter": "python",
   "pygments_lexer": "ipython3",
   "version": "3.12.4"
  }
 },
 "nbformat": 4,
 "nbformat_minor": 2
}
