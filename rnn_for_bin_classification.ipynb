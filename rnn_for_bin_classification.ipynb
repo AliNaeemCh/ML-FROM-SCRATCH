{
 "cells": [
  {
   "cell_type": "code",
   "execution_count": 379,
   "metadata": {},
   "outputs": [],
   "source": [
    "import numpy as np\n",
    "import string\n",
    "from nltk.corpus import stopwords\n",
    "from nltk.tokenize import word_tokenize\n",
    "from nltk.stem import WordNetLemmatizer\n",
    "from sklearn.model_selection import train_test_split\n",
    "import matplotlib.pyplot as plt\n",
    "from gensim.models import KeyedVectors\n",
    "import pandas as pd\n",
    "import contractions\n",
    "import plotly.graph_objects as go\n",
    "from sklearn.metrics import confusion_matrix, classification_report, ConfusionMatrixDisplay"
   ]
  },
  {
   "cell_type": "code",
   "execution_count": 4,
   "metadata": {},
   "outputs": [
    {
     "data": {
      "text/html": [
       "<div>\n",
       "<style scoped>\n",
       "    .dataframe tbody tr th:only-of-type {\n",
       "        vertical-align: middle;\n",
       "    }\n",
       "\n",
       "    .dataframe tbody tr th {\n",
       "        vertical-align: top;\n",
       "    }\n",
       "\n",
       "    .dataframe thead th {\n",
       "        text-align: right;\n",
       "    }\n",
       "</style>\n",
       "<table border=\"1\" class=\"dataframe\">\n",
       "  <thead>\n",
       "    <tr style=\"text-align: right;\">\n",
       "      <th></th>\n",
       "      <th>Review</th>\n",
       "      <th>Liked</th>\n",
       "    </tr>\n",
       "  </thead>\n",
       "  <tbody>\n",
       "    <tr>\n",
       "      <th>0</th>\n",
       "      <td>Wow... Loved this place.</td>\n",
       "      <td>1</td>\n",
       "    </tr>\n",
       "    <tr>\n",
       "      <th>1</th>\n",
       "      <td>Crust is not good.</td>\n",
       "      <td>0</td>\n",
       "    </tr>\n",
       "    <tr>\n",
       "      <th>2</th>\n",
       "      <td>Not tasty and the texture was just nasty.</td>\n",
       "      <td>0</td>\n",
       "    </tr>\n",
       "    <tr>\n",
       "      <th>3</th>\n",
       "      <td>Stopped by during the late May bank holiday of...</td>\n",
       "      <td>1</td>\n",
       "    </tr>\n",
       "    <tr>\n",
       "      <th>4</th>\n",
       "      <td>The selection on the menu was great and so wer...</td>\n",
       "      <td>1</td>\n",
       "    </tr>\n",
       "  </tbody>\n",
       "</table>\n",
       "</div>"
      ],
      "text/plain": [
       "                                              Review  Liked\n",
       "0                           Wow... Loved this place.      1\n",
       "1                                 Crust is not good.      0\n",
       "2          Not tasty and the texture was just nasty.      0\n",
       "3  Stopped by during the late May bank holiday of...      1\n",
       "4  The selection on the menu was great and so wer...      1"
      ]
     },
     "execution_count": 4,
     "metadata": {},
     "output_type": "execute_result"
    }
   ],
   "source": [
    "df = pd.read_csv('https://firebasestorage.googleapis.com/v0/b/common-e8332.appspot.com/o/Restaurant_Reviews.tsv?alt=media&token=e8c70b99-384c-4feb-a280-9d12dcf8b58c', sep='\\t')\n",
    "df.head()"
   ]
  },
  {
   "cell_type": "code",
   "execution_count": 6,
   "metadata": {},
   "outputs": [],
   "source": [
    "reviews = np.array(df['Review'])\n",
    "labels = np.array(df['Liked'])"
   ]
  },
  {
   "cell_type": "code",
   "execution_count": 24,
   "metadata": {},
   "outputs": [],
   "source": [
    "lemmatizer = WordNetLemmatizer()\n",
    "# Preprocessing\n",
    "def preprocess_review(review):\n",
    "\n",
    "    review = contractions.fix(review)\n",
    "    \n",
    "    # Convert to lowercase\n",
    "    review = review.lower()\n",
    "    \n",
    "    # Tokenize\n",
    "    tokens = word_tokenize(review)\n",
    "    \n",
    "    # Remove punctuation\n",
    "    tokens = [word for word in tokens if word not in string.punctuation]\n",
    "\n",
    "    important_stop_words = {\n",
    "    \"not\",   # Crucial for negation\n",
    "    \"no\",    # Important for negation\n",
    "    \"very\",  # Intensifies sentiment\n",
    "    \"too\",   # Can indicate excess or negativity\n",
    "    \"just\"}  # Often used to soften statements\n",
    "\n",
    "    \n",
    "    # Remove stopwords\n",
    "    stop_words = set(stopwords.words('english')) - important_stop_words\n",
    "    tokens = [word for word in tokens if word not in stop_words]\n",
    "    \n",
    "    # Lemmatization\n",
    "    tokens = [lemmatizer.lemmatize(word) for word in tokens]\n",
    "    \n",
    "    return tokens"
   ]
  },
  {
   "cell_type": "code",
   "execution_count": 25,
   "metadata": {},
   "outputs": [],
   "source": [
    "stop_words = set(stopwords.words('english'))"
   ]
  },
  {
   "cell_type": "code",
   "execution_count": 26,
   "metadata": {},
   "outputs": [],
   "source": [
    "cleaned_reviews = []\n",
    "# Process each review\n",
    "for review in reviews:\n",
    "    cleaned_reviews.append(preprocess_review(review))"
   ]
  },
  {
   "cell_type": "code",
   "execution_count": 27,
   "metadata": {},
   "outputs": [
    {
     "data": {
      "text/plain": [
       "[['wow', '...', 'loved', 'place'],\n",
       " ['crust', 'not', 'good'],\n",
       " ['not', 'tasty', 'texture', 'just', 'nasty'],\n",
       " ['stopped',\n",
       "  'late',\n",
       "  'may',\n",
       "  'bank',\n",
       "  'holiday',\n",
       "  'rick',\n",
       "  'steve',\n",
       "  'recommendation',\n",
       "  'loved'],\n",
       " ['selection', 'menu', 'great', 'price']]"
      ]
     },
     "execution_count": 27,
     "metadata": {},
     "output_type": "execute_result"
    }
   ],
   "source": [
    "cleaned_reviews[:5]"
   ]
  },
  {
   "cell_type": "code",
   "execution_count": 28,
   "metadata": {},
   "outputs": [],
   "source": [
    "# Loading the embedding (It is better to download the file and import from the local directory)\n",
    "model_path = 'https://firebasestorage.googleapis.com/v0/b/common-e8332.appspot.com/o/GoogleNews-vectors-negative300-SLIM.bin?alt=media&token=ce5beeda-f8b4-4d27-99b1-0098b6128372'\n",
    "\n",
    "# Load the Word2Vec model\n",
    "word2vec_model = KeyedVectors.load_word2vec_format(model_path, binary=True)"
   ]
  },
  {
   "cell_type": "code",
   "execution_count": 29,
   "metadata": {},
   "outputs": [
    {
     "name": "stderr",
     "output_type": "stream",
     "text": [
      "c:\\Users\\chaud\\AppData\\Local\\Programs\\Python\\Python312\\Lib\\site-packages\\gensim\\models\\keyedvectors.py:551: UserWarning: Adding single vectors to a KeyedVectors which grows by one each time can be costly. Consider adding in batches or preallocating to the required size.\n",
      "  warnings.warn(\n"
     ]
    },
    {
     "data": {
      "text/plain": [
       "299568"
      ]
     },
     "execution_count": 29,
     "metadata": {},
     "output_type": "execute_result"
    }
   ],
   "source": [
    "# Adding special tokens to embedding\n",
    "\n",
    "# Define the embedding size (for the GoogleNews vectors, it's 300)\n",
    "embedding_size = word2vec_model.vector_size\n",
    "\n",
    "# Initialize the <unk> and <pad> vectors (either zero or random)\n",
    "unk_vector = np.random.uniform(-0.25, 0.25, embedding_size)  # Random initialization\n",
    "pad_vector = np.zeros(embedding_size)  # Zero vector for padding\n",
    "\n",
    "# Add <unk> and <pad> to the model's vocabulary\n",
    "word2vec_model.add_vector('<unk>', unk_vector)\n",
    "word2vec_model.add_vector('<pad>', pad_vector)"
   ]
  },
  {
   "cell_type": "code",
   "execution_count": 331,
   "metadata": {},
   "outputs": [
    {
     "name": "stdout",
     "output_type": "stream",
     "text": [
      "Mean Sequence Length: 10.894\n"
     ]
    }
   ],
   "source": [
    "mean_sequence_length = np.array([len(s.split()) for s in reviews]).mean()\n",
    "print(\"Mean Sequence Length:\", mean_sequence_length)"
   ]
  },
  {
   "cell_type": "code",
   "execution_count": 299,
   "metadata": {},
   "outputs": [],
   "source": [
    "sequence_length = 15\n",
    "# Replace words with indices based on vocabulary and pad sequences\n",
    "indexed_reviews = []\n",
    "for review in cleaned_reviews:\n",
    "    indexed_review = []\n",
    "    \n",
    "    # Replace words with indices, use <unk> if word is not in vocabulary\n",
    "    for word in review:\n",
    "        if word in word2vec_model.key_to_index:\n",
    "            indexed_review.append(word2vec_model.key_to_index[word])\n",
    "        else:\n",
    "            indexed_review.append(word2vec_model.key_to_index['<unk>'])  # Use <unk> if word is missing\n",
    "\n",
    "    # Pad with <pad> token if the sequence is shorter than the sequence length\n",
    "    if len(indexed_review) < sequence_length:\n",
    "        indexed_review.extend([word2vec_model.key_to_index['<pad>']] * (sequence_length - len(indexed_review)))\n",
    "    \n",
    "    # Truncate to the maximum sequence length if too long\n",
    "    indexed_reviews.append(indexed_review[:sequence_length])\n",
    "\n",
    "# Convert to numpy array for consistency\n",
    "indexed_reviews = np.array(indexed_reviews)"
   ]
  },
  {
   "cell_type": "code",
   "execution_count": 300,
   "metadata": {},
   "outputs": [
    {
     "data": {
      "text/plain": [
       "array([[ 18099, 299567,   2979,    207, 299568, 299568, 299568, 299568,\n",
       "        299568, 299568, 299568, 299568, 299568, 299568, 299568],\n",
       "       [ 24573,     11,    120, 299568, 299568, 299568, 299568, 299568,\n",
       "        299568, 299568, 299568, 299568, 299568, 299568, 299568]])"
      ]
     },
     "execution_count": 300,
     "metadata": {},
     "output_type": "execute_result"
    }
   ],
   "source": [
    "indexed_reviews[:2]"
   ]
  },
  {
   "cell_type": "code",
   "execution_count": 301,
   "metadata": {},
   "outputs": [
    {
     "data": {
      "text/plain": [
       "(1000, 15)"
      ]
     },
     "execution_count": 301,
     "metadata": {},
     "output_type": "execute_result"
    }
   ],
   "source": [
    "indexed_reviews.shape"
   ]
  },
  {
   "cell_type": "code",
   "execution_count": 302,
   "metadata": {},
   "outputs": [],
   "source": [
    "X_train, X_test, y_train, y_test = train_test_split(indexed_reviews, labels, test_size=0.2, random_state=20, stratify=labels)"
   ]
  },
  {
   "cell_type": "code",
   "execution_count": 303,
   "metadata": {},
   "outputs": [
    {
     "name": "stdout",
     "output_type": "stream",
     "text": [
      "X_train shape (examples x sequence length): (800, 15)\n",
      "X_test shape (examples x sequence length))): (200, 15)\n",
      "y_train shape (examples x target variables): (800,)\n",
      "y_test shape (examples x target variables): (200,)\n"
     ]
    }
   ],
   "source": [
    "print('X_train shape (examples x sequence length):', X_train.shape)\n",
    "print('X_test shape (examples x sequence length))):', X_test.shape)\n",
    "print(\"y_train shape (examples x target variables):\", y_train.shape)\n",
    "print(\"y_test shape (examples x target variables):\", y_test.shape)"
   ]
  },
  {
   "cell_type": "code",
   "execution_count": 261,
   "metadata": {},
   "outputs": [],
   "source": [
    "class AdamOptimizer:\n",
    "    def __init__(self, alpha, params, beta1=0.9, beta2=0.999, epsilon=10e-8):\n",
    "        self.alpha = alpha\n",
    "        self.beta1 = beta1\n",
    "        self.beta2 = beta2\n",
    "        self.epsilon = epsilon\n",
    "        self.moments = []\n",
    "        self.epoch = 0\n",
    "        if not params:\n",
    "            raise Exception(\"Parameters can't be undefined!\")\n",
    "        for i in range(len(params)):\n",
    "            self.moments.append(\n",
    "                {\n",
    "                    'V': np.zeros_like(params[i]),\n",
    "                    'S': np.zeros_like(params[i])\n",
    "                }\n",
    "            )\n",
    "\n",
    "    def update(self, params=[], grads=[]):\n",
    "        params_len = len(params)\n",
    "        grads_len = len(grads)\n",
    "        if params_len != grads_len or params_len == 0:\n",
    "            raise Exception(\"Empty or Inconsistant Parameters and Gradients List!\")\n",
    "\n",
    "        self.epoch += 1\n",
    "\n",
    "        for i in range(grads_len):\n",
    "            # Update biased first moment estimate\n",
    "            self.moments[i]['V'] = self.beta1 * self.moments[i]['V'] + (1 - self.beta1) * grads[i]\n",
    "            # Update biased second raw moment estimate (RMSProp part)\n",
    "            self.moments[i]['S'] = self.beta2 * self.moments[i]['S'] + (1 - self.beta2) * np.square(grads[i])\n",
    "            # Compute bias-corrected first moment estimate\n",
    "            VdW_corrected = self.moments[i]['V'] / (1 - self.beta1 ** self.epoch)\n",
    "            # Compute bias-corrected second raw moment estimate (RMSProp part)\n",
    "            SdW_corrected = self.moments[i]['S'] / (1 - self.beta2 ** self.epoch)\n",
    "            # Update parameters\n",
    "            params[i] -= self.alpha * VdW_corrected / (np.sqrt(SdW_corrected) + self.epsilon)\n",
    "        \n",
    "        return params"
   ]
  },
  {
   "cell_type": "code",
   "execution_count": 400,
   "metadata": {},
   "outputs": [],
   "source": [
    "class RNN:\n",
    "    '''\n",
    "    Specifications:\n",
    "        * Capable of binary classification only\n",
    "        * Only contains single layer\n",
    "        * Activation function: tanh\n",
    "    '''\n",
    "    def __init__(self, h, T, embedding_matrix):\n",
    "        self.T = T\n",
    "        self.d = embedding_matrix.shape[1] # total features\n",
    "        self.h = h\n",
    "        self.reset_weights_biases() # Initializing Weights and Biases\n",
    "        self.embedding_matrix = embedding_matrix\n",
    "    \n",
    "    def sigmoid(self, z):\n",
    "        return (1/(1+np.exp(-z)))\n",
    "    \n",
    "    def predict(self, input):\n",
    "        input = input.T\n",
    "        M = input.shape[1]\n",
    "        A = np.zeros((self.h, M))\n",
    "        for t in range(self.T):\n",
    "            X = self.embedding_matrix[input[t, :]].T\n",
    "            A = np.tanh ( self.W_h @ A + self.W_i.T @ X + self.b_h )\n",
    "        return self.sigmoid( self.w_o.T @ A + self.b_o ).T\n",
    "    \n",
    "    def forward_prop(self, input, return_pred=True):\n",
    "        M = input.shape[1]\n",
    "        self.A = np.zeros((self.T + 1, self.h, M))\n",
    "        for t in range(self.T):\n",
    "            X = self.embedding_matrix[input[t, :]].T\n",
    "            self.A[t+1] = np.tanh ( self.W_h @ self.A[t] + self.W_i.T @ X + self.b_h )\n",
    "        if return_pred:\n",
    "            return self.sigmoid( self.w_o.T @ self.A[-1] + self.b_o )\n",
    "        return\n",
    "    \n",
    "    def backward_prop(self, input, y, y_hat=None):\n",
    "        M = input.shape[1]\n",
    "        X = self.embedding_matrix[input[-1, :]].T    # Dim: d x M\n",
    "        if not y_hat:\n",
    "            y_hat = self.sigmoid( self.w_o.T @ self.A[-1] + self.b_o )\n",
    "        if y_hat.shape != y.shape:\n",
    "            y = y.reshape(y_hat.shape)\n",
    "        P = y_hat - y\n",
    "        dL_by_db_o = np.sum(P, axis=1).item()\n",
    "        dL_by_dw_o = self.A[-1] @ P.T\n",
    "        P = (np.broadcast_to(P, (self.h, P.size)) * np.broadcast_to(self.w_o, (self.h, M)) * (1 - np.square(self.A[-1])))  # Dim: h x M\n",
    "        # b_h\n",
    "        dL_by_db_h = np.sum(P, axis=1).reshape(self.h, 1)\n",
    "        # W_i\n",
    "        dL_by_dW_i = X @ P.T\n",
    "        # W_h\n",
    "        dL_by_dW_h = P @ self.A[-2].T\n",
    "\n",
    "        for t in range(-2, -self.T-1, -1):\n",
    "            X = self.embedding_matrix[input[t, :]].T\n",
    "            P = (self.W_h.T @ P) * (1 - np.square(self.A[t]))\n",
    "            # b_h\n",
    "            dL_by_db_h += np.sum(P, axis=1).reshape(self.h, 1)\n",
    "            # W_i\n",
    "            dL_by_dW_i += X @ P.T\n",
    "            # W_h\n",
    "            dL_by_dW_h += P @ self.A[t-1].T\n",
    "        return dL_by_db_o, dL_by_dw_o, dL_by_db_h, dL_by_dW_i, dL_by_dW_h\n",
    "\n",
    "    def update_w_sgd(self, dL_by_db_o, dL_by_dw_o, dL_by_db_h, dL_by_dW_i, dL_by_dW_h, M, lr):\n",
    "        norm_1 = 1/M\n",
    "        norm_2 = norm_1 / self.T\n",
    "        self.b_o = lr * norm_1 * dL_by_db_o\n",
    "        self.w_o -= lr * norm_1 * dL_by_dw_o\n",
    "        self.b_h -= lr * norm_2 * dL_by_db_h\n",
    "        self.W_i -= lr * norm_2 * dL_by_dW_i\n",
    "        self.W_h -= lr * norm_2 * dL_by_dW_h\n",
    "        return\n",
    "    \n",
    "    def update_w_adam_optimizer(self, dL_by_db_o, dL_by_dw_o, dL_by_db_h, dL_by_dW_i, dL_by_dW_h, M, lr):\n",
    "        norm_1 = 1/M\n",
    "        norm_2 = norm_1 / self.T\n",
    "\n",
    "        dL_by_db_o *= norm_1\n",
    "        dL_by_dw_o *= norm_1 \n",
    "        dL_by_db_h *= norm_2\n",
    "        dL_by_dW_i *= norm_2\n",
    "        dL_by_dW_h *= norm_2\n",
    "\n",
    "        self.b_o, self.w_o, self.b_h, self.W_i, self.W_h = self.optimizer.update(params=[self.b_o, self.w_o, self.b_h, self.W_i, self.W_h], grads=[dL_by_db_o, dL_by_dw_o, dL_by_db_h, dL_by_dW_i, dL_by_dW_h])\n",
    "        return\n",
    "\n",
    "    def reset_weights_biases(self):\n",
    "        self.W_i = np.random.randn(self.d, self.h) * np.sqrt(2 / (self.h + self.h))\n",
    "        self.W_h = np.random.randn(self.h, self.h) * np.sqrt(2 / (self.h + self.h))\n",
    "        self.w_o = np.random.randn(self.h, 1) * np.sqrt(2 / (self.h + 1))\n",
    "        self.b_h = np.zeros((self.h, 1))\n",
    "        self.b_o = np.zeros((1, 1))\n",
    "\n",
    "    def calc_bce(self, y_hat, y):\n",
    "        # Calculate the BCE for each example\n",
    "        loss = - (y * np.log(y_hat) + (1 - y) * np.log(1 - y_hat))\n",
    "        \n",
    "        # Return the total loss (sum of all individual losses)\n",
    "        return np.sum(loss)\n",
    "    \n",
    "    def calc_accuracy(self, y, y_hat):\n",
    "        wrong_decisions = np.sum( ((y_hat <= 0.5) & (y == 1)) | ((y_hat > 0.5) & (y == 0)))\n",
    "        M = y.size\n",
    "        accuracy = (M-wrong_decisions)/M * 100\n",
    "        return accuracy\n",
    "    \n",
    "    def evaluate(self, X, y, reshape=True):\n",
    "        # Check if the array is 1D\n",
    "        if y.ndim == 1:\n",
    "            # Reshape to a column vector with shape (x, 1)\n",
    "            y = y.reshape(-1, 1)\n",
    "        if reshape:\n",
    "            X = X.T\n",
    "        y_hat = self.forward_prop(X).T\n",
    "        loss = self.calc_bce(y_hat, y)\n",
    "        loss *= 1/y.size\n",
    "        accuracy = self.calc_accuracy(y, y_hat)\n",
    "\n",
    "        return accuracy.item(), loss.item()\n",
    "        \n",
    "    def train(self, X_train, y_train, X_test, y_test, epochs, lr=0.1, verbose=True, adam_optimizer=False):\n",
    "        # Variable 'X_train, X_test' will come as a matrix with dimensions: M x T (total examples x sequence length)\n",
    "        if adam_optimizer:\n",
    "            self.update = self.update_w_adam_optimizer\n",
    "            self.optimizer = AdamOptimizer(lr, params=[self.b_o, self.w_o, self.b_h, self.W_i, self.W_h])\n",
    "        else:\n",
    "            self.update = self.update_w_sgd\n",
    "        X_train = X_train.T\n",
    "        X_test = X_test.T\n",
    "        M = X_train.shape[1]\n",
    "        training_ds_loss_history = []\n",
    "        testing_ds_loss_history = []\n",
    "        epoch_idx = 0\n",
    "        self.reset_weights_biases()\n",
    "        while epoch_idx < epochs:\n",
    "            epoch_idx += 1\n",
    "            self.forward_prop(X_train, return_pred=False)\n",
    "            dL_by_db_o, dL_by_dw_o, dL_by_db_h, dL_by_dW_i, dL_by_dW_h = self.backward_prop(X_train, y_train)\n",
    "            self.update(dL_by_db_o, dL_by_dw_o, dL_by_db_h, dL_by_dW_i, dL_by_dW_h, M, lr)\n",
    "            if verbose:\n",
    "                training_ds_accuracy, training_ds_loss = self.evaluate(X_train, y_train, reshape=False)\n",
    "                testing_ds_accuracy, testing_ds_loss = self.evaluate(X_test, y_test, reshape=False)\n",
    "                training_ds_loss_history.append(training_ds_loss)\n",
    "                testing_ds_loss_history.append(testing_ds_loss)\n",
    "                print(f\"Epoch {epoch_idx:03d} | \"\n",
    "                      f\"Train Accuracy: {training_ds_accuracy:.2f}% | Train Loss (BCE): {training_ds_loss:.4f} | \"\n",
    "                      f\"Test Accuracy: {testing_ds_accuracy:.2f}% | Test Loss (BCE): {testing_ds_loss:.4f}\\n\")\n",
    "        return training_ds_loss_history, testing_ds_loss_history"
   ]
  },
  {
   "cell_type": "code",
   "execution_count": 401,
   "metadata": {},
   "outputs": [],
   "source": [
    "rnn = RNN(h=64, T=sequence_length, embedding_matrix=word2vec_model.vectors)"
   ]
  },
  {
   "cell_type": "code",
   "execution_count": null,
   "metadata": {},
   "outputs": [],
   "source": [
    "training_ds_loss_history, testing_ds_loss_history = rnn.train(X_train, y_train, X_test, y_test, epochs=50, adam_optimizer=True, lr=0.0005)"
   ]
  },
  {
   "cell_type": "code",
   "execution_count": 432,
   "metadata": {},
   "outputs": [
    {
     "data": {
      "image/png": "[encoded data removed]",
      "text/plain": [
       "<Figure size 900x600 with 1 Axes>"
      ]
     },
     "metadata": {},
     "output_type": "display_data"
    }
   ],
   "source": [
    "iterations = np.arange(1, len(training_ds_loss_history)+1)\n",
    "plt.figure(figsize=(9, 6))\n",
    "plt.plot(iterations, training_ds_loss_history, linewidth=2, label='Training Dataset')\n",
    "plt.plot(iterations, testing_ds_loss_history, linewidth=2, label='Testing Dataset')\n",
    "plt.title('Binary Cross Entropy vs Epochs', fontsize=25)\n",
    "plt.xlabel('Epoch', fontsize=20)\n",
    "plt.ylabel('Binary Cross Entropy ', fontsize=20)\n",
    "plt.xticks(fontsize=16)\n",
    "plt.yticks(fontsize=16)\n",
    "plt.grid(True)\n",
    "plt.tight_layout()\n",
    "plt.legend(fontsize=16)\n",
    "# plt.savefig('bce_rnn.png', dpi=300)\n",
    "plt.show()"
   ]
  },
  {
   "cell_type": "code",
   "execution_count": 421,
   "metadata": {},
   "outputs": [
    {
     "name": "stdout",
     "output_type": "stream",
     "text": [
      "Training Dataset Accuracy: 92.62% | Training Dataset Loss (BCE): 0.2550\n"
     ]
    }
   ],
   "source": [
    "accuracy_train, bce_train = rnn.evaluate(X_train, y_train)\n",
    "print(f\"Training Dataset Accuracy: {accuracy_train:.2f}% | Training Dataset Loss (BCE): {bce_train:.4f}\")"
   ]
  },
  {
   "cell_type": "code",
   "execution_count": 422,
   "metadata": {},
   "outputs": [
    {
     "name": "stdout",
     "output_type": "stream",
     "text": [
      "Testing Dataset Accuracy: 83.50% | Testing Dataset Loss (BCE): 0.4222\n"
     ]
    }
   ],
   "source": [
    "accuracy_test, bce_test = rnn.evaluate(X_test, y_test)\n",
    "print(f\"Testing Dataset Accuracy: {accuracy_test:.2f}% | Testing Dataset Loss (BCE): {bce_test:.4f}\")"
   ]
  },
  {
   "cell_type": "code",
   "execution_count": 429,
   "metadata": {},
   "outputs": [
    {
     "data": {
      "application/vnd.plotly.v1+json": {
       "config": {
        "plotlyServerURL": "https://plot.ly"
       },
       "data": [
        {
         "gauge": {
          "axis": {
           "range": [
            0,
            100
           ]
          },
          "bar": {
           "color": "green"
          },
          "steps": [
           {
            "color": "lightcoral",
            "range": [
             0,
             50
            ]
           },
           {
            "color": "#FFA500",
            "range": [
             50,
             70
            ]
           },
           {
            "color": "yellow",
            "range": [
             70,
             90
            ]
           },
           {
            "color": "lightgreen",
            "range": [
             90,
             100
            ]
           }
          ]
         },
         "mode": "gauge+number",
         "number": {
          "suffix": "%"
         },
         "title": {
          "text": "Model Accuracy for Training Dataset"
         },
         "type": "indicator",
         "value": 92.625
        }
       ],
       "layout": {
        "height": 400,
        "template": {
         "data": {
          "bar": [
           {
            "error_x": {
             "color": "#2a3f5f"
            },
            "error_y": {
             "color": "#2a3f5f"
            },
            "marker": {
             "line": {
              "color": "#E5ECF6",
              "width": 0.5
             },
             "pattern": {
              "fillmode": "overlay",
              "size": 10,
              "solidity": 0.2
             }
            },
            "type": "bar"
           }
          ],
          "barpolar": [
           {
            "marker": {
             "line": {
              "color": "#E5ECF6",
              "width": 0.5
             },
             "pattern": {
              "fillmode": "overlay",
              "size": 10,
              "solidity": 0.2
             }
            },
            "type": "barpolar"
           }
          ],
          "carpet": [
           {
            "aaxis": {
             "endlinecolor": "#2a3f5f",
             "gridcolor": "white",
             "linecolor": "white",
             "minorgridcolor": "white",
             "startlinecolor": "#2a3f5f"
            },
            "baxis": {
             "endlinecolor": "#2a3f5f",
             "gridcolor": "white",
             "linecolor": "white",
             "minorgridcolor": "white",
             "startlinecolor": "#2a3f5f"
            },
            "type": "carpet"
           }
          ],
          "choropleth": [
           {
            "colorbar": {
             "outlinewidth": 0,
             "ticks": ""
            },
            "type": "choropleth"
           }
          ],
          "contour": [
           {
            "colorbar": {
             "outlinewidth": 0,
             "ticks": ""
            },
            "colorscale": [
             [
              0,
              "#0d0887"
             ],
             [
              0.1111111111111111,
              "#46039f"
             ],
             [
              0.2222222222222222,
              "#7201a8"
             ],
             [
              0.3333333333333333,
              "#9c179e"
             ],
             [
              0.4444444444444444,
              "#bd3786"
             ],
             [
              0.5555555555555556,
              "#d8576b"
             ],
             [
              0.6666666666666666,
              "#ed7953"
             ],
             [
              0.7777777777777778,
              "#fb9f3a"
             ],
             [
              0.8888888888888888,
              "#fdca26"
             ],
             [
              1,
              "#f0f921"
             ]
            ],
            "type": "contour"
           }
          ],
          "contourcarpet": [
           {
            "colorbar": {
             "outlinewidth": 0,
             "ticks": ""
            },
            "type": "contourcarpet"
           }
          ],
          "heatmap": [
           {
            "colorbar": {
             "outlinewidth": 0,
             "ticks": ""
            },
            "colorscale": [
             [
              0,
              "#0d0887"
             ],
             [
              0.1111111111111111,
              "#46039f"
             ],
             [
              0.2222222222222222,
              "#7201a8"
             ],
             [
              0.3333333333333333,
              "#9c179e"
             ],
             [
              0.4444444444444444,
              "#bd3786"
             ],
             [
              0.5555555555555556,
              "#d8576b"
             ],
             [
              0.6666666666666666,
              "#ed7953"
             ],
             [
              0.7777777777777778,
              "#fb9f3a"
             ],
             [
              0.8888888888888888,
              "#fdca26"
             ],
             [
              1,
              "#f0f921"
             ]
            ],
            "type": "heatmap"
           }
          ],
          "heatmapgl": [
           {
            "colorbar": {
             "outlinewidth": 0,
             "ticks": ""
            },
            "colorscale": [
             [
              0,
              "#0d0887"
             ],
             [
              0.1111111111111111,
              "#46039f"
             ],
             [
              0.2222222222222222,
              "#7201a8"
             ],
             [
              0.3333333333333333,
              "#9c179e"
             ],
             [
              0.4444444444444444,
              "#bd3786"
             ],
             [
              0.5555555555555556,
              "#d8576b"
             ],
             [
              0.6666666666666666,
              "#ed7953"
             ],
             [
              0.7777777777777778,
              "#fb9f3a"
             ],
             [
              0.8888888888888888,
              "#fdca26"
             ],
             [
              1,
              "#f0f921"
             ]
            ],
            "type": "heatmapgl"
           }
          ],
          "histogram": [
           {
            "marker": {
             "pattern": {
              "fillmode": "overlay",
              "size": 10,
              "solidity": 0.2
             }
            },
            "type": "histogram"
           }
          ],
          "histogram2d": [
           {
            "colorbar": {
             "outlinewidth": 0,
             "ticks": ""
            },
            "colorscale": [
             [
              0,
              "#0d0887"
             ],
             [
              0.1111111111111111,
              "#46039f"
             ],
             [
              0.2222222222222222,
              "#7201a8"
             ],
             [
              0.3333333333333333,
              "#9c179e"
             ],
             [
              0.4444444444444444,
              "#bd3786"
             ],
             [
              0.5555555555555556,
              "#d8576b"
             ],
             [
              0.6666666666666666,
              "#ed7953"
             ],
             [
              0.7777777777777778,
              "#fb9f3a"
             ],
             [
              0.8888888888888888,
              "#fdca26"
             ],
             [
              1,
              "#f0f921"
             ]
            ],
            "type": "histogram2d"
           }
          ],
          "histogram2dcontour": [
           {
            "colorbar": {
             "outlinewidth": 0,
             "ticks": ""
            },
            "colorscale": [
             [
              0,
              "#0d0887"
             ],
             [
              0.1111111111111111,
              "#46039f"
             ],
             [
              0.2222222222222222,
              "#7201a8"
             ],
             [
              0.3333333333333333,
              "#9c179e"
             ],
             [
              0.4444444444444444,
              "#bd3786"
             ],
             [
              0.5555555555555556,
              "#d8576b"
             ],
             [
              0.6666666666666666,
              "#ed7953"
             ],
             [
              0.7777777777777778,
              "#fb9f3a"
             ],
             [
              0.8888888888888888,
              "#fdca26"
             ],
             [
              1,
              "#f0f921"
             ]
            ],
            "type": "histogram2dcontour"
           }
          ],
          "mesh3d": [
           {
            "colorbar": {
             "outlinewidth": 0,
             "ticks": ""
            },
            "type": "mesh3d"
           }
          ],
          "parcoords": [
           {
            "line": {
             "colorbar": {
              "outlinewidth": 0,
              "ticks": ""
             }
            },
            "type": "parcoords"
           }
          ],
          "pie": [
           {
            "automargin": true,
            "type": "pie"
           }
          ],
          "scatter": [
           {
            "fillpattern": {
             "fillmode": "overlay",
             "size": 10,
             "solidity": 0.2
            },
            "type": "scatter"
           }
          ],
          "scatter3d": [
           {
            "line": {
             "colorbar": {
              "outlinewidth": 0,
              "ticks": ""
             }
            },
            "marker": {
             "colorbar": {
              "outlinewidth": 0,
              "ticks": ""
             }
            },
            "type": "scatter3d"
           }
          ],
          "scattercarpet": [
           {
            "marker": {
             "colorbar": {
              "outlinewidth": 0,
              "ticks": ""
             }
            },
            "type": "scattercarpet"
           }
          ],
          "scattergeo": [
           {
            "marker": {
             "colorbar": {
              "outlinewidth": 0,
              "ticks": ""
             }
            },
            "type": "scattergeo"
           }
          ],
          "scattergl": [
           {
            "marker": {
             "colorbar": {
              "outlinewidth": 0,
              "ticks": ""
             }
            },
            "type": "scattergl"
           }
          ],
          "scattermapbox": [
           {
            "marker": {
             "colorbar": {
              "outlinewidth": 0,
              "ticks": ""
             }
            },
            "type": "scattermapbox"
           }
          ],
          "scatterpolar": [
           {
            "marker": {
             "colorbar": {
              "outlinewidth": 0,
              "ticks": ""
             }
            },
            "type": "scatterpolar"
           }
          ],
          "scatterpolargl": [
           {
            "marker": {
             "colorbar": {
              "outlinewidth": 0,
              "ticks": ""
             }
            },
            "type": "scatterpolargl"
           }
          ],
          "scatterternary": [
           {
            "marker": {
             "colorbar": {
              "outlinewidth": 0,
              "ticks": ""
             }
            },
            "type": "scatterternary"
           }
          ],
          "surface": [
           {
            "colorbar": {
             "outlinewidth": 0,
             "ticks": ""
            },
            "colorscale": [
             [
              0,
              "#0d0887"
             ],
             [
              0.1111111111111111,
              "#46039f"
             ],
             [
              0.2222222222222222,
              "#7201a8"
             ],
             [
              0.3333333333333333,
              "#9c179e"
             ],
             [
              0.4444444444444444,
              "#bd3786"
             ],
             [
              0.5555555555555556,
              "#d8576b"
             ],
             [
              0.6666666666666666,
              "#ed7953"
             ],
             [
              0.7777777777777778,
              "#fb9f3a"
             ],
             [
              0.8888888888888888,
              "#fdca26"
             ],
             [
              1,
              "#f0f921"
             ]
            ],
            "type": "surface"
           }
          ],
          "table": [
           {
            "cells": {
             "fill": {
              "color": "#EBF0F8"
             },
             "line": {
              "color": "white"
             }
            },
            "header": {
             "fill": {
              "color": "#C8D4E3"
             },
             "line": {
              "color": "white"
             }
            },
            "type": "table"
           }
          ]
         },
         "layout": {
          "annotationdefaults": {
           "arrowcolor": "#2a3f5f",
           "arrowhead": 0,
           "arrowwidth": 1
          },
          "autotypenumbers": "strict",
          "coloraxis": {
           "colorbar": {
            "outlinewidth": 0,
            "ticks": ""
           }
          },
          "colorscale": {
           "diverging": [
            [
             0,
             "#8e0152"
            ],
            [
             0.1,
             "#c51b7d"
            ],
            [
             0.2,
             "#de77ae"
            ],
            [
             0.3,
             "#f1b6da"
            ],
            [
             0.4,
             "#fde0ef"
            ],
            [
             0.5,
             "#f7f7f7"
            ],
            [
             0.6,
             "#e6f5d0"
            ],
            [
             0.7,
             "#b8e186"
            ],
            [
             0.8,
             "#7fbc41"
            ],
            [
             0.9,
             "#4d9221"
            ],
            [
             1,
             "#276419"
            ]
           ],
           "sequential": [
            [
             0,
             "#0d0887"
            ],
            [
             0.1111111111111111,
             "#46039f"
            ],
            [
             0.2222222222222222,
             "#7201a8"
            ],
            [
             0.3333333333333333,
             "#9c179e"
            ],
            [
             0.4444444444444444,
             "#bd3786"
            ],
            [
             0.5555555555555556,
             "#d8576b"
            ],
            [
             0.6666666666666666,
             "#ed7953"
            ],
            [
             0.7777777777777778,
             "#fb9f3a"
            ],
            [
             0.8888888888888888,
             "#fdca26"
            ],
            [
             1,
             "#f0f921"
            ]
           ],
           "sequentialminus": [
            [
             0,
             "#0d0887"
            ],
            [
             0.1111111111111111,
             "#46039f"
            ],
            [
             0.2222222222222222,
             "#7201a8"
            ],
            [
             0.3333333333333333,
             "#9c179e"
            ],
            [
             0.4444444444444444,
             "#bd3786"
            ],
            [
             0.5555555555555556,
             "#d8576b"
            ],
            [
             0.6666666666666666,
             "#ed7953"
            ],
            [
             0.7777777777777778,
             "#fb9f3a"
            ],
            [
             0.8888888888888888,
             "#fdca26"
            ],
            [
             1,
             "#f0f921"
            ]
           ]
          },
          "colorway": [
           "#636efa",
           "#EF553B",
           "#00cc96",
           "#ab63fa",
           "#FFA15A",
           "#19d3f3",
           "#FF6692",
           "#B6E880",
           "#FF97FF",
           "#FECB52"
          ],
          "font": {
           "color": "#2a3f5f"
          },
          "geo": {
           "bgcolor": "white",
           "lakecolor": "white",
           "landcolor": "#E5ECF6",
           "showlakes": true,
           "showland": true,
           "subunitcolor": "white"
          },
          "hoverlabel": {
           "align": "left"
          },
          "hovermode": "closest",
          "mapbox": {
           "style": "light"
          },
          "paper_bgcolor": "white",
          "plot_bgcolor": "#E5ECF6",
          "polar": {
           "angularaxis": {
            "gridcolor": "white",
            "linecolor": "white",
            "ticks": ""
           },
           "bgcolor": "#E5ECF6",
           "radialaxis": {
            "gridcolor": "white",
            "linecolor": "white",
            "ticks": ""
           }
          },
          "scene": {
           "xaxis": {
            "backgroundcolor": "#E5ECF6",
            "gridcolor": "white",
            "gridwidth": 2,
            "linecolor": "white",
            "showbackground": true,
            "ticks": "",
            "zerolinecolor": "white"
           },
           "yaxis": {
            "backgroundcolor": "#E5ECF6",
            "gridcolor": "white",
            "gridwidth": 2,
            "linecolor": "white",
            "showbackground": true,
            "ticks": "",
            "zerolinecolor": "white"
           },
           "zaxis": {
            "backgroundcolor": "#E5ECF6",
            "gridcolor": "white",
            "gridwidth": 2,
            "linecolor": "white",
            "showbackground": true,
            "ticks": "",
            "zerolinecolor": "white"
           }
          },
          "shapedefaults": {
           "line": {
            "color": "#2a3f5f"
           }
          },
          "ternary": {
           "aaxis": {
            "gridcolor": "white",
            "linecolor": "white",
            "ticks": ""
           },
           "baxis": {
            "gridcolor": "white",
            "linecolor": "white",
            "ticks": ""
           },
           "bgcolor": "#E5ECF6",
           "caxis": {
            "gridcolor": "white",
            "linecolor": "white",
            "ticks": ""
           }
          },
          "title": {
           "x": 0.05
          },
          "xaxis": {
           "automargin": true,
           "gridcolor": "white",
           "linecolor": "white",
           "ticks": "",
           "title": {
            "standoff": 15
           },
           "zerolinecolor": "white",
           "zerolinewidth": 2
          },
          "yaxis": {
           "automargin": true,
           "gridcolor": "white",
           "linecolor": "white",
           "ticks": "",
           "title": {
            "standoff": 15
           },
           "zerolinecolor": "white",
           "zerolinewidth": 2
          }
         }
        },
        "width": 600
       }
      }
     },
     "metadata": {},
     "output_type": "display_data"
    }
   ],
   "source": [
    "fig = go.Figure(go.Indicator(\n",
    "    mode=\"gauge+number\",\n",
    "    value=accuracy_train,\n",
    "    title={'text': \"Model Accuracy for Training Dataset\"},\n",
    "    number={'suffix': \"%\"},\n",
    "    gauge={\n",
    "        'axis': {'range': [0, 100]},\n",
    "        'bar': {'color': \"green\"},\n",
    "        'steps': [\n",
    "            {'range': [0, 50], 'color': \"lightcoral\"},\n",
    "            {'range': [50, 70], 'color': \"#FFA500\"},\n",
    "            {'range': [70, 90], 'color': \"yellow\"},\n",
    "            {'range': [90, 100], 'color': \"lightgreen\"}\n",
    "        ],\n",
    "    }\n",
    "))\n",
    "fig.update_layout(\n",
    "    width=600,\n",
    "    height=400,\n",
    ")\n",
    "# fig.write_image(\"accuracy_train.png\", scale=2)\n",
    "fig.show()\n"
   ]
  },
  {
   "cell_type": "code",
   "execution_count": 430,
   "metadata": {},
   "outputs": [
    {
     "data": {
      "application/vnd.plotly.v1+json": {
       "config": {
        "plotlyServerURL": "https://plot.ly"
       },
       "data": [
        {
         "gauge": {
          "axis": {
           "range": [
            0,
            100
           ]
          },
          "bar": {
           "color": "#FFC107"
          },
          "steps": [
           {
            "color": "lightcoral",
            "range": [
             0,
             50
            ]
           },
           {
            "color": "#FFA500",
            "range": [
             50,
             70
            ]
           },
           {
            "color": "yellow",
            "range": [
             70,
             90
            ]
           },
           {
            "color": "lightgreen",
            "range": [
             90,
             100
            ]
           }
          ]
         },
         "mode": "gauge+number",
         "number": {
          "suffix": "%"
         },
         "title": {
          "text": "Model Accuracy for Testing Dataset"
         },
         "type": "indicator",
         "value": 83.5
        }
       ],
       "layout": {
        "height": 400,
        "template": {
         "data": {
          "bar": [
           {
            "error_x": {
             "color": "#2a3f5f"
            },
            "error_y": {
             "color": "#2a3f5f"
            },
            "marker": {
             "line": {
              "color": "#E5ECF6",
              "width": 0.5
             },
             "pattern": {
              "fillmode": "overlay",
              "size": 10,
              "solidity": 0.2
             }
            },
            "type": "bar"
           }
          ],
          "barpolar": [
           {
            "marker": {
             "line": {
              "color": "#E5ECF6",
              "width": 0.5
             },
             "pattern": {
              "fillmode": "overlay",
              "size": 10,
              "solidity": 0.2
             }
            },
            "type": "barpolar"
           }
          ],
          "carpet": [
           {
            "aaxis": {
             "endlinecolor": "#2a3f5f",
             "gridcolor": "white",
             "linecolor": "white",
             "minorgridcolor": "white",
             "startlinecolor": "#2a3f5f"
            },
            "baxis": {
             "endlinecolor": "#2a3f5f",
             "gridcolor": "white",
             "linecolor": "white",
             "minorgridcolor": "white",
             "startlinecolor": "#2a3f5f"
            },
            "type": "carpet"
           }
          ],
          "choropleth": [
           {
            "colorbar": {
             "outlinewidth": 0,
             "ticks": ""
            },
            "type": "choropleth"
           }
          ],
          "contour": [
           {
            "colorbar": {
             "outlinewidth": 0,
             "ticks": ""
            },
            "colorscale": [
             [
              0,
              "#0d0887"
             ],
             [
              0.1111111111111111,
              "#46039f"
             ],
             [
              0.2222222222222222,
              "#7201a8"
             ],
             [
              0.3333333333333333,
              "#9c179e"
             ],
             [
              0.4444444444444444,
              "#bd3786"
             ],
             [
              0.5555555555555556,
              "#d8576b"
             ],
             [
              0.6666666666666666,
              "#ed7953"
             ],
             [
              0.7777777777777778,
              "#fb9f3a"
             ],
             [
              0.8888888888888888,
              "#fdca26"
             ],
             [
              1,
              "#f0f921"
             ]
            ],
            "type": "contour"
           }
          ],
          "contourcarpet": [
           {
            "colorbar": {
             "outlinewidth": 0,
             "ticks": ""
            },
            "type": "contourcarpet"
           }
          ],
          "heatmap": [
           {
            "colorbar": {
             "outlinewidth": 0,
             "ticks": ""
            },
            "colorscale": [
             [
              0,
              "#0d0887"
             ],
             [
              0.1111111111111111,
              "#46039f"
             ],
             [
              0.2222222222222222,
              "#7201a8"
             ],
             [
              0.3333333333333333,
              "#9c179e"
             ],
             [
              0.4444444444444444,
              "#bd3786"
             ],
             [
              0.5555555555555556,
              "#d8576b"
             ],
             [
              0.6666666666666666,
              "#ed7953"
             ],
             [
              0.7777777777777778,
              "#fb9f3a"
             ],
             [
              0.8888888888888888,
              "#fdca26"
             ],
             [
              1,
              "#f0f921"
             ]
            ],
            "type": "heatmap"
           }
          ],
          "heatmapgl": [
           {
            "colorbar": {
             "outlinewidth": 0,
             "ticks": ""
            },
            "colorscale": [
             [
              0,
              "#0d0887"
             ],
             [
              0.1111111111111111,
              "#46039f"
             ],
             [
              0.2222222222222222,
              "#7201a8"
             ],
             [
              0.3333333333333333,
              "#9c179e"
             ],
             [
              0.4444444444444444,
              "#bd3786"
             ],
             [
              0.5555555555555556,
              "#d8576b"
             ],
             [
              0.6666666666666666,
              "#ed7953"
             ],
             [
              0.7777777777777778,
              "#fb9f3a"
             ],
             [
              0.8888888888888888,
              "#fdca26"
             ],
             [
              1,
              "#f0f921"
             ]
            ],
            "type": "heatmapgl"
           }
          ],
          "histogram": [
           {
            "marker": {
             "pattern": {
              "fillmode": "overlay",
              "size": 10,
              "solidity": 0.2
             }
            },
            "type": "histogram"
           }
          ],
          "histogram2d": [
           {
            "colorbar": {
             "outlinewidth": 0,
             "ticks": ""
            },
            "colorscale": [
             [
              0,
              "#0d0887"
             ],
             [
              0.1111111111111111,
              "#46039f"
             ],
             [
              0.2222222222222222,
              "#7201a8"
             ],
             [
              0.3333333333333333,
              "#9c179e"
             ],
             [
              0.4444444444444444,
              "#bd3786"
             ],
             [
              0.5555555555555556,
              "#d8576b"
             ],
             [
              0.6666666666666666,
              "#ed7953"
             ],
             [
              0.7777777777777778,
              "#fb9f3a"
             ],
             [
              0.8888888888888888,
              "#fdca26"
             ],
             [
              1,
              "#f0f921"
             ]
            ],
            "type": "histogram2d"
           }
          ],
          "histogram2dcontour": [
           {
            "colorbar": {
             "outlinewidth": 0,
             "ticks": ""
            },
            "colorscale": [
             [
              0,
              "#0d0887"
             ],
             [
              0.1111111111111111,
              "#46039f"
             ],
             [
              0.2222222222222222,
              "#7201a8"
             ],
             [
              0.3333333333333333,
              "#9c179e"
             ],
             [
              0.4444444444444444,
              "#bd3786"
             ],
             [
              0.5555555555555556,
              "#d8576b"
             ],
             [
              0.6666666666666666,
              "#ed7953"
             ],
             [
              0.7777777777777778,
              "#fb9f3a"
             ],
             [
              0.8888888888888888,
              "#fdca26"
             ],
             [
              1,
              "#f0f921"
             ]
            ],
            "type": "histogram2dcontour"
           }
          ],
          "mesh3d": [
           {
            "colorbar": {
             "outlinewidth": 0,
             "ticks": ""
            },
            "type": "mesh3d"
           }
          ],
          "parcoords": [
           {
            "line": {
             "colorbar": {
              "outlinewidth": 0,
              "ticks": ""
             }
            },
            "type": "parcoords"
           }
          ],
          "pie": [
           {
            "automargin": true,
            "type": "pie"
           }
          ],
          "scatter": [
           {
            "fillpattern": {
             "fillmode": "overlay",
             "size": 10,
             "solidity": 0.2
            },
            "type": "scatter"
           }
          ],
          "scatter3d": [
           {
            "line": {
             "colorbar": {
              "outlinewidth": 0,
              "ticks": ""
             }
            },
            "marker": {
             "colorbar": {
              "outlinewidth": 0,
              "ticks": ""
             }
            },
            "type": "scatter3d"
           }
          ],
          "scattercarpet": [
           {
            "marker": {
             "colorbar": {
              "outlinewidth": 0,
              "ticks": ""
             }
            },
            "type": "scattercarpet"
           }
          ],
          "scattergeo": [
           {
            "marker": {
             "colorbar": {
              "outlinewidth": 0,
              "ticks": ""
             }
            },
            "type": "scattergeo"
           }
          ],
          "scattergl": [
           {
            "marker": {
             "colorbar": {
              "outlinewidth": 0,
              "ticks": ""
             }
            },
            "type": "scattergl"
           }
          ],
          "scattermapbox": [
           {
            "marker": {
             "colorbar": {
              "outlinewidth": 0,
              "ticks": ""
             }
            },
            "type": "scattermapbox"
           }
          ],
          "scatterpolar": [
           {
            "marker": {
             "colorbar": {
              "outlinewidth": 0,
              "ticks": ""
             }
            },
            "type": "scatterpolar"
           }
          ],
          "scatterpolargl": [
           {
            "marker": {
             "colorbar": {
              "outlinewidth": 0,
              "ticks": ""
             }
            },
            "type": "scatterpolargl"
           }
          ],
          "scatterternary": [
           {
            "marker": {
             "colorbar": {
              "outlinewidth": 0,
              "ticks": ""
             }
            },
            "type": "scatterternary"
           }
          ],
          "surface": [
           {
            "colorbar": {
             "outlinewidth": 0,
             "ticks": ""
            },
            "colorscale": [
             [
              0,
              "#0d0887"
             ],
             [
              0.1111111111111111,
              "#46039f"
             ],
             [
              0.2222222222222222,
              "#7201a8"
             ],
             [
              0.3333333333333333,
              "#9c179e"
             ],
             [
              0.4444444444444444,
              "#bd3786"
             ],
             [
              0.5555555555555556,
              "#d8576b"
             ],
             [
              0.6666666666666666,
              "#ed7953"
             ],
             [
              0.7777777777777778,
              "#fb9f3a"
             ],
             [
              0.8888888888888888,
              "#fdca26"
             ],
             [
              1,
              "#f0f921"
             ]
            ],
            "type": "surface"
           }
          ],
          "table": [
           {
            "cells": {
             "fill": {
              "color": "#EBF0F8"
             },
             "line": {
              "color": "white"
             }
            },
            "header": {
             "fill": {
              "color": "#C8D4E3"
             },
             "line": {
              "color": "white"
             }
            },
            "type": "table"
           }
          ]
         },
         "layout": {
          "annotationdefaults": {
           "arrowcolor": "#2a3f5f",
           "arrowhead": 0,
           "arrowwidth": 1
          },
          "autotypenumbers": "strict",
          "coloraxis": {
           "colorbar": {
            "outlinewidth": 0,
            "ticks": ""
           }
          },
          "colorscale": {
           "diverging": [
            [
             0,
             "#8e0152"
            ],
            [
             0.1,
             "#c51b7d"
            ],
            [
             0.2,
             "#de77ae"
            ],
            [
             0.3,
             "#f1b6da"
            ],
            [
             0.4,
             "#fde0ef"
            ],
            [
             0.5,
             "#f7f7f7"
            ],
            [
             0.6,
             "#e6f5d0"
            ],
            [
             0.7,
             "#b8e186"
            ],
            [
             0.8,
             "#7fbc41"
            ],
            [
             0.9,
             "#4d9221"
            ],
            [
             1,
             "#276419"
            ]
           ],
           "sequential": [
            [
             0,
             "#0d0887"
            ],
            [
             0.1111111111111111,
             "#46039f"
            ],
            [
             0.2222222222222222,
             "#7201a8"
            ],
            [
             0.3333333333333333,
             "#9c179e"
            ],
            [
             0.4444444444444444,
             "#bd3786"
            ],
            [
             0.5555555555555556,
             "#d8576b"
            ],
            [
             0.6666666666666666,
             "#ed7953"
            ],
            [
             0.7777777777777778,
             "#fb9f3a"
            ],
            [
             0.8888888888888888,
             "#fdca26"
            ],
            [
             1,
             "#f0f921"
            ]
           ],
           "sequentialminus": [
            [
             0,
             "#0d0887"
            ],
            [
             0.1111111111111111,
             "#46039f"
            ],
            [
             0.2222222222222222,
             "#7201a8"
            ],
            [
             0.3333333333333333,
             "#9c179e"
            ],
            [
             0.4444444444444444,
             "#bd3786"
            ],
            [
             0.5555555555555556,
             "#d8576b"
            ],
            [
             0.6666666666666666,
             "#ed7953"
            ],
            [
             0.7777777777777778,
             "#fb9f3a"
            ],
            [
             0.8888888888888888,
             "#fdca26"
            ],
            [
             1,
             "#f0f921"
            ]
           ]
          },
          "colorway": [
           "#636efa",
           "#EF553B",
           "#00cc96",
           "#ab63fa",
           "#FFA15A",
           "#19d3f3",
           "#FF6692",
           "#B6E880",
           "#FF97FF",
           "#FECB52"
          ],
          "font": {
           "color": "#2a3f5f"
          },
          "geo": {
           "bgcolor": "white",
           "lakecolor": "white",
           "landcolor": "#E5ECF6",
           "showlakes": true,
           "showland": true,
           "subunitcolor": "white"
          },
          "hoverlabel": {
           "align": "left"
          },
          "hovermode": "closest",
          "mapbox": {
           "style": "light"
          },
          "paper_bgcolor": "white",
          "plot_bgcolor": "#E5ECF6",
          "polar": {
           "angularaxis": {
            "gridcolor": "white",
            "linecolor": "white",
            "ticks": ""
           },
           "bgcolor": "#E5ECF6",
           "radialaxis": {
            "gridcolor": "white",
            "linecolor": "white",
            "ticks": ""
           }
          },
          "scene": {
           "xaxis": {
            "backgroundcolor": "#E5ECF6",
            "gridcolor": "white",
            "gridwidth": 2,
            "linecolor": "white",
            "showbackground": true,
            "ticks": "",
            "zerolinecolor": "white"
           },
           "yaxis": {
            "backgroundcolor": "#E5ECF6",
            "gridcolor": "white",
            "gridwidth": 2,
            "linecolor": "white",
            "showbackground": true,
            "ticks": "",
            "zerolinecolor": "white"
           },
           "zaxis": {
            "backgroundcolor": "#E5ECF6",
            "gridcolor": "white",
            "gridwidth": 2,
            "linecolor": "white",
            "showbackground": true,
            "ticks": "",
            "zerolinecolor": "white"
           }
          },
          "shapedefaults": {
           "line": {
            "color": "#2a3f5f"
           }
          },
          "ternary": {
           "aaxis": {
            "gridcolor": "white",
            "linecolor": "white",
            "ticks": ""
           },
           "baxis": {
            "gridcolor": "white",
            "linecolor": "white",
            "ticks": ""
           },
           "bgcolor": "#E5ECF6",
           "caxis": {
            "gridcolor": "white",
            "linecolor": "white",
            "ticks": ""
           }
          },
          "title": {
           "x": 0.05
          },
          "xaxis": {
           "automargin": true,
           "gridcolor": "white",
           "linecolor": "white",
           "ticks": "",
           "title": {
            "standoff": 15
           },
           "zerolinecolor": "white",
           "zerolinewidth": 2
          },
          "yaxis": {
           "automargin": true,
           "gridcolor": "white",
           "linecolor": "white",
           "ticks": "",
           "title": {
            "standoff": 15
           },
           "zerolinecolor": "white",
           "zerolinewidth": 2
          }
         }
        },
        "width": 600
       }
      }
     },
     "metadata": {},
     "output_type": "display_data"
    }
   ],
   "source": [
    "fig = go.Figure(go.Indicator(\n",
    "    mode=\"gauge+number\",\n",
    "    value=accuracy_test,\n",
    "    title={'text': \"Model Accuracy for Testing Dataset\"},\n",
    "    number={'suffix': \"%\"},\n",
    "    gauge={\n",
    "        'axis': {'range': [0, 100]},\n",
    "        'bar': {'color': \"#FFC107\"},\n",
    "        'steps': [\n",
    "            {'range': [0, 50], 'color': \"lightcoral\"},\n",
    "            {'range': [50, 70], 'color': \"#FFA500\"},\n",
    "            {'range': [70, 90], 'color': \"yellow\"},\n",
    "            {'range': [90, 100], 'color': \"lightgreen\"}\n",
    "        ],\n",
    "    }\n",
    "))\n",
    "fig.update_layout(\n",
    "    width=600,\n",
    "    height=400,\n",
    ")\n",
    "# fig.write_image(\"accuracy_test.png\", scale=2)\n",
    "fig.show()\n"
   ]
  },
  {
   "cell_type": "code",
   "execution_count": 425,
   "metadata": {},
   "outputs": [
    {
     "name": "stdout",
     "output_type": "stream",
     "text": [
      "Confusion Matrix:\n",
      " [[87 13]\n",
      " [20 80]] \n",
      "\n",
      "True negative (Actually negative, classified as negative): 87\n",
      "False positive (Actually negative, classified as positive): 13\n",
      "False negative (Actually positive, classified as negative): 20\n",
      "True positive (Actually positive, classified as positive): 80\n"
     ]
    }
   ],
   "source": [
    "# Generating Confusion matrix\n",
    "y_pred = rnn.predict(X_test)\n",
    "y_pred_classes = np.where(y_pred > 0.5, 1, 0)\n",
    "cm = confusion_matrix(y_test, y_pred_classes)\n",
    "print('Confusion Matrix:\\n', cm, '\\n')\n",
    "print('True negative (Actually negative, classified as negative):', cm[0][0])\n",
    "print('False positive (Actually negative, classified as positive):', cm[0][1])\n",
    "print('False negative (Actually positive, classified as negative):', cm[1][0])\n",
    "print('True positive (Actually positive, classified as positive):', cm[1][1])"
   ]
  },
  {
   "cell_type": "code",
   "execution_count": 431,
   "metadata": {},
   "outputs": [
    {
     "data": {
      "image/png": "[encoded data removed]",
      "text/plain": [
       "<Figure size 640x480 with 2 Axes>"
      ]
     },
     "metadata": {},
     "output_type": "display_data"
    }
   ],
   "source": [
    "disp = ConfusionMatrixDisplay(confusion_matrix=cm)\n",
    "disp.plot(cmap=plt.cm.Blues)\n",
    "plt.title('Confusion Matrix for Testing Dataset')\n",
    "# plt.savefig('cm_rnn', dpi=300)\n",
    "plt.show()"
   ]
  },
  {
   "cell_type": "code",
   "execution_count": 427,
   "metadata": {},
   "outputs": [
    {
     "name": "stdout",
     "output_type": "stream",
     "text": [
      "Classification Report\n",
      "\n",
      "               precision    recall  f1-score   support\n",
      "\n",
      "           0       0.81      0.87      0.84       100\n",
      "           1       0.86      0.80      0.83       100\n",
      "\n",
      "    accuracy                           0.83       200\n",
      "   macro avg       0.84      0.83      0.83       200\n",
      "weighted avg       0.84      0.83      0.83       200\n",
      "\n"
     ]
    }
   ],
   "source": [
    "# Generating classification report from scikit-learn\n",
    "cr = classification_report(y_test, y_pred_classes)\n",
    "print('Classification Report\\n\\n', cr)"
   ]
  }
 ],
 "metadata": {
  "kernelspec": {
   "display_name": "Python 3",
   "language": "python",
   "name": "python3"
  },
  "language_info": {
   "codemirror_mode": {
    "name": "ipython",
    "version": 3
   },
   "file_extension": ".py",
   "mimetype": "text/x-python",
   "name": "python",
   "nbconvert_exporter": "python",
   "pygments_lexer": "ipython3",
   "version": "3.12.4"
  }
 },
 "nbformat": 4,
 "nbformat_minor": 2
}
