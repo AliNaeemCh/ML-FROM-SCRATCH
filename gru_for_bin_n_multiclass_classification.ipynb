{
 "cells": [
  {
   "cell_type": "code",
   "execution_count": 150,
   "metadata": {},
   "outputs": [],
   "source": [
    "import numpy as np\n",
    "import nltk\n",
    "import string\n",
    "from nltk.corpus import stopwords\n",
    "from nltk.tokenize import word_tokenize\n",
    "from nltk.stem import WordNetLemmatizer\n",
    "from sklearn.model_selection import train_test_split\n",
    "import matplotlib.pyplot as plt\n",
    "from gensim.models import KeyedVectors\n",
    "import pandas as pd\n",
    "import contractions\n",
    "from sklearn.metrics import confusion_matrix, classification_report, ConfusionMatrixDisplay"
   ]
  },
  {
   "cell_type": "code",
   "execution_count": 93,
   "metadata": {},
   "outputs": [
    {
     "data": {
      "text/html": [
       "<div>\n",
       "<style scoped>\n",
       "    .dataframe tbody tr th:only-of-type {\n",
       "        vertical-align: middle;\n",
       "    }\n",
       "\n",
       "    .dataframe tbody tr th {\n",
       "        vertical-align: top;\n",
       "    }\n",
       "\n",
       "    .dataframe thead th {\n",
       "        text-align: right;\n",
       "    }\n",
       "</style>\n",
       "<table border=\"1\" class=\"dataframe\">\n",
       "  <thead>\n",
       "    <tr style=\"text-align: right;\">\n",
       "      <th></th>\n",
       "      <th>Unnamed: 0</th>\n",
       "      <th>reviews</th>\n",
       "      <th>labels</th>\n",
       "    </tr>\n",
       "  </thead>\n",
       "  <tbody>\n",
       "    <tr>\n",
       "      <th>0</th>\n",
       "      <td>0</td>\n",
       "      <td>Amazing movie, great acting!</td>\n",
       "      <td>1</td>\n",
       "    </tr>\n",
       "    <tr>\n",
       "      <th>1</th>\n",
       "      <td>1</td>\n",
       "      <td>Loved the plot and characters.</td>\n",
       "      <td>1</td>\n",
       "    </tr>\n",
       "    <tr>\n",
       "      <th>2</th>\n",
       "      <td>2</td>\n",
       "      <td>Best experience I've had!</td>\n",
       "      <td>1</td>\n",
       "    </tr>\n",
       "    <tr>\n",
       "      <th>3</th>\n",
       "      <td>3</td>\n",
       "      <td>Impressive direction and cast.</td>\n",
       "      <td>1</td>\n",
       "    </tr>\n",
       "    <tr>\n",
       "      <th>4</th>\n",
       "      <td>4</td>\n",
       "      <td>Heartwarming and emotional journey.</td>\n",
       "      <td>1</td>\n",
       "    </tr>\n",
       "  </tbody>\n",
       "</table>\n",
       "</div>"
      ],
      "text/plain": [
       "   Unnamed: 0                              reviews  labels\n",
       "0           0         Amazing movie, great acting!       1\n",
       "1           1       Loved the plot and characters.       1\n",
       "2           2            Best experience I've had!       1\n",
       "3           3       Impressive direction and cast.       1\n",
       "4           4  Heartwarming and emotional journey.       1"
      ]
     },
     "execution_count": 93,
     "metadata": {},
     "output_type": "execute_result"
    }
   ],
   "source": [
    "df = pd.read_csv('https://firebasestorage.googleapis.com/v0/b/common-e8332.appspot.com/o/95_reviews.csv?alt=media&token=0f30ab16-7754-4988-b64f-69ea4b4b12c7')\n",
    "df.head()"
   ]
  },
  {
   "cell_type": "code",
   "execution_count": 94,
   "metadata": {},
   "outputs": [],
   "source": [
    "reviews = np.array(df['reviews'])\n",
    "labels = np.array(df['labels'])"
   ]
  },
  {
   "cell_type": "code",
   "execution_count": 95,
   "metadata": {},
   "outputs": [],
   "source": [
    "lemmatizer = WordNetLemmatizer()\n",
    "# Preprocessing\n",
    "def preprocess_review(review):\n",
    "\n",
    "    review = contractions.fix(review)\n",
    "    \n",
    "    # Convert to lowercase\n",
    "    review = review.lower()\n",
    "    \n",
    "    # Tokenize\n",
    "    tokens = word_tokenize(review)\n",
    "    \n",
    "    # Remove punctuation\n",
    "    tokens = [word for word in tokens if word not in string.punctuation]\n",
    "    \n",
    "    # Remove stopwords\n",
    "    stop_words = set(stopwords.words('english'))\n",
    "    tokens = [word for word in tokens if word not in stop_words]\n",
    "    \n",
    "    # Lemmatization\n",
    "    tokens = [lemmatizer.lemmatize(word) for word in tokens]\n",
    "    \n",
    "    return tokens"
   ]
  },
  {
   "cell_type": "code",
   "execution_count": 96,
   "metadata": {},
   "outputs": [],
   "source": [
    "cleaned_reviews = []\n",
    "# Process each review\n",
    "for review in reviews:\n",
    "    cleaned_reviews.append(preprocess_review(review))"
   ]
  },
  {
   "cell_type": "code",
   "execution_count": 97,
   "metadata": {},
   "outputs": [
    {
     "data": {
      "text/plain": [
       "[['emotionally', 'charged', 'powerful', 'film'],\n",
       " ['could', 'stop', 'thinking', 'ended'],\n",
       " ['predictable', 'formulaic', 'seen'],\n",
       " ['touching', 'heartwarming', 'experience'],\n",
       " ['failed', 'keep', 'interest', 'quite', 'bland']]"
      ]
     },
     "execution_count": 97,
     "metadata": {},
     "output_type": "execute_result"
    }
   ],
   "source": [
    "cleaned_reviews[-5:]"
   ]
  },
  {
   "cell_type": "code",
   "execution_count": null,
   "metadata": {},
   "outputs": [],
   "source": [
    "# Loading the embedding\n",
    "model_path = 'https://firebasestorage.googleapis.com/v0/b/common-e8332.appspot.com/o/GoogleNews-vectors-negative300-SLIM.bin?alt=media&token=ce5beeda-f8b4-4d27-99b1-0098b6128372'\n",
    "\n",
    "# Load the Word2Vec model\n",
    "word2vec_model = KeyedVectors.load_word2vec_format(model_path, binary=True)"
   ]
  },
  {
   "cell_type": "code",
   "execution_count": 98,
   "metadata": {},
   "outputs": [
    {
     "name": "stderr",
     "output_type": "stream",
     "text": [
      "c:\\Users\\chaud\\AppData\\Local\\Programs\\Python\\Python312\\Lib\\site-packages\\gensim\\models\\keyedvectors.py:551: UserWarning: Adding single vectors to a KeyedVectors which grows by one each time can be costly. Consider adding in batches or preallocating to the required size.\n",
      "  warnings.warn(\n"
     ]
    },
    {
     "data": {
      "text/plain": [
       "299569"
      ]
     },
     "execution_count": 98,
     "metadata": {},
     "output_type": "execute_result"
    }
   ],
   "source": [
    "# Adding special tokens to embedding\n",
    "\n",
    "# Define the embedding size (for the GoogleNews vectors, it's 300)\n",
    "embedding_size = word2vec_model.vector_size\n",
    "\n",
    "# Initialize the <unk> and <pad> vectors (either zero or random)\n",
    "unk_vector = np.random.uniform(-0.25, 0.25, embedding_size)  # Random initialization\n",
    "pad_vector = np.zeros(embedding_size)  # Zero vector for padding\n",
    "\n",
    "# Add <unk> and <pad> to the model's vocabulary\n",
    "word2vec_model.add_vector('<unk>', unk_vector)\n",
    "word2vec_model.add_vector('<pad>', pad_vector)"
   ]
  },
  {
   "cell_type": "code",
   "execution_count": 99,
   "metadata": {},
   "outputs": [
    {
     "name": "stdout",
     "output_type": "stream",
     "text": [
      "Mean Sequence Length: 5.389473684210526\n"
     ]
    }
   ],
   "source": [
    "mean_sequence_length = np.array([len(s.split()) for s in reviews]).mean()\n",
    "print(\"Mean Sequence Length:\", mean_sequence_length)"
   ]
  },
  {
   "cell_type": "code",
   "execution_count": 100,
   "metadata": {},
   "outputs": [],
   "source": [
    "sequence_length = 10\n",
    "# Replace words with indices based on vocabulary and pad sequences\n",
    "indexed_reviews = []\n",
    "for review in cleaned_reviews:\n",
    "    indexed_review = []\n",
    "    \n",
    "    # Replace words with indices, use <unk> if word is not in vocabulary\n",
    "    for word in review:\n",
    "        if word in word2vec_model.key_to_index:\n",
    "            indexed_review.append(word2vec_model.key_to_index[word])\n",
    "        else:\n",
    "            indexed_review.append(word2vec_model.key_to_index['<unk>'])  # Use <unk> if word is missing\n",
    "\n",
    "    # Pad with <pad> token if the sequence is shorter than the sequence length\n",
    "    if len(indexed_review) < sequence_length:\n",
    "        indexed_review.extend([word2vec_model.key_to_index['<pad>']] * (sequence_length - len(indexed_review)))\n",
    "    \n",
    "    # Truncate to the maximum sequence length if too long\n",
    "    indexed_reviews.append(indexed_review[:sequence_length])\n",
    "\n",
    "# Convert to numpy array for consistency\n",
    "indexed_reviews = np.array(indexed_reviews)"
   ]
  },
  {
   "cell_type": "code",
   "execution_count": 101,
   "metadata": {},
   "outputs": [
    {
     "data": {
      "text/plain": [
       "array([[  2756,   1083,    251,   2456, 299568, 299568, 299568, 299568,\n",
       "        299568, 299568],\n",
       "       [  2979,   4004,   1924, 299568, 299568, 299568, 299568, 299568,\n",
       "        299568, 299568]])"
      ]
     },
     "execution_count": 101,
     "metadata": {},
     "output_type": "execute_result"
    }
   ],
   "source": [
    "indexed_reviews[:2]"
   ]
  },
  {
   "cell_type": "code",
   "execution_count": 102,
   "metadata": {},
   "outputs": [],
   "source": [
    "X_train, X_test, y_train, y_test = train_test_split(indexed_reviews, labels, test_size=0.2, random_state=20, stratify=labels)"
   ]
  },
  {
   "cell_type": "code",
   "execution_count": 103,
   "metadata": {},
   "outputs": [
    {
     "data": {
      "text/plain": [
       "((76, 10), (19, 10))"
      ]
     },
     "execution_count": 103,
     "metadata": {},
     "output_type": "execute_result"
    }
   ],
   "source": [
    "X_train.shape, X_test.shape"
   ]
  },
  {
   "cell_type": "code",
   "execution_count": 104,
   "metadata": {},
   "outputs": [],
   "source": [
    "class AdamOptimizer:\n",
    "    def __init__(self, alpha, params, beta1=0.9, beta2=0.999, epsilon=10e-8):\n",
    "        self.alpha = alpha\n",
    "        self.beta1 = beta1\n",
    "        self.beta2 = beta2\n",
    "        self.epsilon = epsilon\n",
    "        self.moments = []\n",
    "        self.epoch = 0\n",
    "        if not params:\n",
    "            raise Exception(\"Parameters can't be undefined!\")\n",
    "        for i in range(len(params)):\n",
    "            self.moments.append(\n",
    "                {\n",
    "                    'V': np.zeros_like(params[i]),\n",
    "                    'S': np.zeros_like(params[i])\n",
    "                }\n",
    "            )\n",
    "\n",
    "    def update(self, params=[], grads=[]):\n",
    "        params_len = len(params)\n",
    "        grads_len = len(grads)\n",
    "        if params_len != grads_len or params_len == 0:\n",
    "            raise Exception(\"Empty or Inconsistant Parameters and Gradients List!\")\n",
    "\n",
    "        self.epoch += 1\n",
    "\n",
    "        for i in range(grads_len):\n",
    "            # Update biased first moment estimate\n",
    "            self.moments[i]['V'] = self.beta1 * self.moments[i]['V'] + (1 - self.beta1) * grads[i]\n",
    "            # Update biased second raw moment estimate (RMSProp part)\n",
    "            self.moments[i]['S'] = self.beta2 * self.moments[i]['S'] + (1 - self.beta2) * np.square(grads[i])\n",
    "            # Compute bias-corrected first moment estimate\n",
    "            VdW_corrected = self.moments[i]['V'] / (1 - self.beta1 ** self.epoch)\n",
    "            # Compute bias-corrected second raw moment estimate (RMSProp part)\n",
    "            SdW_corrected = self.moments[i]['S'] / (1 - self.beta2 ** self.epoch)\n",
    "            # Update parameters\n",
    "            params[i] -= self.alpha * VdW_corrected / (np.sqrt(SdW_corrected) + self.epsilon)\n",
    "        \n",
    "        return params"
   ]
  },
  {
   "cell_type": "code",
   "execution_count": 105,
   "metadata": {},
   "outputs": [],
   "source": [
    "class GRU:\n",
    "    '''\n",
    "    Specifications:\n",
    "        * Only contains single GRU layer\n",
    "        * GRU Layer Activation Function: tanh\n",
    "    '''\n",
    "    def __init__(self, units, seq_len, total_classes, total_features=None, embedding_matrix=None, lr=0.1):\n",
    "        self.embedding_matrix = embedding_matrix\n",
    "        self.lr = lr\n",
    "        self.seq_len = seq_len\n",
    "        self.total_classes = total_classes\n",
    "        if self.embedding_matrix is not None:\n",
    "            self.total_features = self.embedding_matrix.shape[1]\n",
    "            self.get_input_matrix = self.get_input_matrix_from_embedding_matrix\n",
    "        else:\n",
    "            if not total_features:\n",
    "                raise Exception(\"Define total features!\")\n",
    "            self.total_features = total_features\n",
    "            self.get_input_matrix = self.get_input_matrix_from_3d_input\n",
    "        self.out_vals = 1 if self.total_classes == 2 else self.total_classes\n",
    "        self.units = units\n",
    "        self.reset_weights_biases() # Initializing Weights and Biases\n",
    "        if self.out_vals == 1:\n",
    "            self.calc_loss = self.calc_bce\n",
    "            self.calc_accuracy = self.calc_accuracy_for_bin_classification\n",
    "            self.out_func = self.sigmoid\n",
    "            self.loss = 'BCE'\n",
    "        else:\n",
    "            self.calc_loss = self.calc_cce\n",
    "            self.calc_accuracy = self.calc_accuracy_for_mult_class_classification\n",
    "            self.out_func = self.softmax\n",
    "            self.loss = 'CCE'\n",
    "        \n",
    "        self.epoch = 0\n",
    "    \n",
    "    def sigmoid(self, z):\n",
    "        return (1/(1+np.exp(-z)))\n",
    "    \n",
    "    def softmax(self, Z):\n",
    "        num = np.exp(Z)\n",
    "        den = np.sum(num, axis=0)\n",
    "        return num/den\n",
    "    \n",
    "    def diag(self, array):\n",
    "        flat_array = array.flatten()\n",
    "        return np.diag(flat_array)\n",
    "    \n",
    "    def get_input_matrix_from_3d_input(self, input, idx):\n",
    "        return input[idx, :, :]\n",
    "    \n",
    "    def get_input_matrix_from_embedding_matrix(self, input, idx):\n",
    "        return self.embedding_matrix[input[idx,:]].T\n",
    "    \n",
    "    def predict(self, input):\n",
    "        if input.ndim == 3:\n",
    "            input = input.transpose(1, 2, 0)\n",
    "        else:\n",
    "            input = input.T\n",
    "        total_input_examples = input.shape[-1]\n",
    "        A = np.zeros((self.units, total_input_examples))\n",
    "        Z = np.zeros_like(A)\n",
    "        R = np.zeros_like(A)\n",
    "        Ac = np.zeros_like(A)\n",
    "        for seq_len_idx in range(self.seq_len):\n",
    "            input_matrix = self.get_input_matrix(input, idx=seq_len_idx)    #Dim: total_features x M\n",
    "            Z = self.sigmoid(self.W_iz.T @ input_matrix + self.W_hz @ A + self.b_z)\n",
    "            R = self.sigmoid(self.W_ir.T @ input_matrix + self.W_hr @ A + self.b_r)\n",
    "            Ac = np.tanh ( R * (self.W_h @ A) + self.W_i.T @ input_matrix + self.b_h )\n",
    "            A = (1 - Z) * Ac + Z * A\n",
    "        return self.out_func( self.w_o.T @ A + self.b_o ).T\n",
    "    \n",
    "    def forward_prop(self, input, return_pred=True):\n",
    "        total_input_examples = input.shape[-1]\n",
    "        self.A = np.zeros((self.seq_len+1, self.units, total_input_examples))\n",
    "        self.Z = np.zeros((self.seq_len, self.units, total_input_examples))\n",
    "        self.R = np.zeros_like(self.Z)\n",
    "        self.Ac = np.zeros_like(self.Z)\n",
    "        for seq_len_idx in range(self.seq_len):\n",
    "            input_matrix = self.get_input_matrix(input, idx=seq_len_idx)    #Dim: total_features x M\n",
    "            self.Z[seq_len_idx] = self.sigmoid(self.W_iz.T @ input_matrix + self.W_hz @ self.A[seq_len_idx] + self.b_z)\n",
    "            self.R[seq_len_idx] = self.sigmoid(self.W_ir.T @ input_matrix + self.W_hr @ self.A[seq_len_idx] + self.b_r)\n",
    "            self.Ac[seq_len_idx] = np.tanh ( self.R[seq_len_idx] * (self.W_h @ self.A[seq_len_idx]) + self.W_i.T @ input_matrix + self.b_h )\n",
    "            self.A[seq_len_idx+1] = (1 - self.Z[seq_len_idx]) * self.Ac[seq_len_idx] + self.Z[seq_len_idx] * self.A[seq_len_idx]\n",
    "        if return_pred:\n",
    "            return self.out_func( self.w_o.T @ self.A[-1] + self.b_o )\n",
    "        return\n",
    "    \n",
    "    def backward_prop(self, input, true_labels):\n",
    "        dL_by_db_o = np.zeros((self.out_vals, 1))\n",
    "        dL_by_dw_o = np.zeros((self.units, self.out_vals))\n",
    "        dL_by_db_z = np.zeros((self.units, 1))\n",
    "        dL_by_dW_iz = np.zeros((self.total_features, self.units))\n",
    "        dL_by_dW_hz = np.zeros((self.units, self.units))\n",
    "        dL_by_db_r = np.zeros((self.units, 1))\n",
    "        dL_by_dW_ir = np.zeros((self.total_features, self.units))\n",
    "        dL_by_dW_hr = np.zeros((self.units, self.units))\n",
    "        dL_by_db_h = np.zeros((self.units, 1))\n",
    "        dL_by_dW_i = np.zeros((self.total_features, self.units))\n",
    "        dL_by_dW_h = np.zeros((self.units, self.units))\n",
    "        y_pred = self.out_func( self.w_o.T @ self.A[-1] + self.b_o )\n",
    "        temp_1 = y_pred - true_labels\n",
    "        # b_o\n",
    "        dL_by_db_o += np.sum(temp_1, axis=1).reshape(self.out_vals, 1)\n",
    "        # w_o\n",
    "        dL_by_dw_o += self.A[-1] @ temp_1.T\n",
    "        temp_1 = self.w_o @ temp_1  # Dim: hxM\n",
    "        # b_z\n",
    "        hold = temp_1 * (self.A[-2] - self.Ac[-1]) * (self.Z[-1] * (1 - self.Z[-1]))\n",
    "        dL_by_db_z += np.sum(hold, axis=1).reshape(self.units, 1)\n",
    "        input_matrix = self.get_input_matrix(input, idx=-1)\n",
    "        # W_iz\n",
    "        dL_by_dW_iz += input_matrix @ hold.T\n",
    "        # W_hz\n",
    "        dL_by_dW_hz += hold @ self.A[-2].T\n",
    "        # b_h\n",
    "        temp_2 = temp_1 * (1 - self.Z[-1])\n",
    "        hold = temp_2 * (1 - np.square(self.Ac[-1]))\n",
    "        dL_by_db_h += np.sum(hold, axis=1).reshape(self.units, 1)\n",
    "        # W_i\n",
    "        dL_by_dW_i += input_matrix @ hold.T # Dim: total_features x units   # First word of sequence\n",
    "        # W_h\n",
    "        dL_by_dW_h += (hold * self.R[-1]) @ self.A[-2].T # Dim: units x units\n",
    "        # b_r\n",
    "        hold = hold * (self.W_h @ self.A[-2]) * (self.R[-1] * (1 - self.R[-1]))\n",
    "        dL_by_db_r += np.sum(hold, axis=1).reshape(self.units, 1)\n",
    "        # W_ir\n",
    "        dL_by_dW_ir += input_matrix @ hold.T\n",
    "        # W_hr\n",
    "        dL_by_dW_hr += hold @ self.A[-2].T\n",
    "\n",
    "        for seq_len_idx in range(1, self.seq_len):\n",
    "            temp_1 = temp_1 * self.Z[-seq_len_idx]\n",
    "            input_matrix = self.get_input_matrix(input, idx=-seq_len_idx-1)\n",
    "            # b_z\n",
    "            hold = temp_1 * (self.A[-seq_len_idx-2] - self.Ac[-seq_len_idx-1]) * (self.Z[-seq_len_idx-1] * (1 - self.Z[-seq_len_idx-1]))\n",
    "            dL_by_db_z += np.sum(hold, axis=1).reshape(self.units, 1)\n",
    "            # W_iz\n",
    "            dL_by_dW_iz += input_matrix @ hold.T\n",
    "            # W_hz\n",
    "            dL_by_dW_hz += hold @ self.A[-seq_len_idx-2].T\n",
    "            # b_h\n",
    "            temp_2 = temp_1 * (1 - self.Z[-seq_len_idx-1])\n",
    "            hold = temp_2 * (1 - np.square(self.Ac[-seq_len_idx-1]))\n",
    "            dL_by_db_h += np.sum(hold, axis=1).reshape(self.units, 1)\n",
    "            # W_i\n",
    "            dL_by_dW_i += input_matrix @ hold.T # Dim: total_features x units   \n",
    "            # W_h\n",
    "            dL_by_dW_h += (hold * self.R[-seq_len_idx-1]) @ self.A[-seq_len_idx-2].T # Dim: units x units\n",
    "            # b_r\n",
    "            hold = hold * (self.W_h @ self.A[-seq_len_idx-2]) * (self.R[-seq_len_idx-1] * (1 - self.R[-seq_len_idx-1]))\n",
    "            dL_by_db_r += np.sum(hold, axis=1).reshape(self.units, 1)\n",
    "            # W_ir\n",
    "            dL_by_dW_ir += input_matrix @ hold.T\n",
    "            # W_hr\n",
    "            dL_by_dW_hr += hold @ self.A[-seq_len_idx-2].T\n",
    "        return dL_by_db_o, dL_by_dw_o, dL_by_db_z, dL_by_dW_iz, dL_by_dW_hz, dL_by_db_r, dL_by_dW_ir, dL_by_dW_hr, dL_by_db_h, dL_by_dW_i, dL_by_dW_h\n",
    "\n",
    "    def update_w_sgd(self, batch_size, dL_by_db_o, dL_by_dw_o, dL_by_db_z, dL_by_dW_iz, dL_by_dW_hz, dL_by_db_r, dL_by_dW_ir, dL_by_dW_hr, dL_by_db_h, dL_by_dW_i, dL_by_dW_h):\n",
    "        norm_1 = 1/(batch_size)\n",
    "        norm_2 = norm_1 / self.seq_len\n",
    "        self.w_o -= self.lr * norm_1 * dL_by_dw_o\n",
    "        self.b_o -= self.lr * norm_1 * dL_by_db_o\n",
    "        self.b_z -= self.lr * norm_2 * dL_by_db_z\n",
    "        self.W_iz -= self.lr * norm_2 * dL_by_dW_iz\n",
    "        self.W_hz -= self.lr * norm_2 * dL_by_dW_hz\n",
    "        self.b_r -= self.lr * norm_2 * dL_by_db_r\n",
    "        self.W_ir -= self.lr * norm_2 * dL_by_dW_ir\n",
    "        self.W_hr -= self.lr * norm_2 * dL_by_dW_hr\n",
    "        self.b_h -= self.lr * norm_2 * dL_by_db_h\n",
    "        self.W_i -= self.lr * norm_2 * dL_by_dW_i\n",
    "        self.W_h -= self.lr * norm_2 * dL_by_dW_h\n",
    "        return\n",
    "    \n",
    "    def update_w_adam_optimizer(self, batch_size, dL_by_db_o, dL_by_dw_o, dL_by_db_z, dL_by_dW_iz, dL_by_dW_hz, dL_by_db_r, dL_by_dW_ir, dL_by_dW_hr, dL_by_db_h, dL_by_dW_i, dL_by_dW_h):\n",
    "        norm_1 = 1/(batch_size)\n",
    "        norm_2 = norm_1 / self.seq_len\n",
    "\n",
    "        dL_by_db_o *= norm_1\n",
    "        dL_by_dw_o *= norm_1\n",
    "        dL_by_db_z *= norm_2\n",
    "        dL_by_dW_iz *= norm_2\n",
    "        dL_by_dW_hz *= norm_2\n",
    "        dL_by_db_r *= norm_2\n",
    "        dL_by_dW_ir *= norm_2\n",
    "        dL_by_dW_hr *= norm_2\n",
    "        dL_by_db_h *= norm_2\n",
    "        dL_by_dW_i *= norm_2\n",
    "        dL_by_dW_h *= norm_2\n",
    "        self.b_o, self.w_o, self.b_z, self.W_iz, self.W_hz, self.b_r, self.W_ir, self.W_hr, self.b_h, self.W_i, self.W_h = self.optimizer.update(params=[self.b_o, self.w_o, self.b_z, self.W_iz, self.W_hz, self.b_r, self.W_ir, self.W_hr, self.b_h, self.W_i, self.W_h], grads=[dL_by_db_o, dL_by_dw_o, dL_by_db_z, dL_by_dW_iz, dL_by_dW_hz, dL_by_db_r, dL_by_dW_ir, dL_by_dW_hr, dL_by_db_h, dL_by_dW_i, dL_by_dW_h])\n",
    "        return\n",
    "\n",
    "    def reset_weights_biases(self):\n",
    "        self.b_o = np.zeros((self.out_vals, 1))\n",
    "        self.w_o = np.random.randn(self.units, self.out_vals) * np.sqrt(2 / (self.units + self.out_vals))\n",
    "        self.b_z = np.zeros((self.units, 1))\n",
    "        self.W_iz = np.random.randn(self.total_features, self.units) * np.sqrt(2 / (self.total_features + self.units))\n",
    "        self.W_hz = np.random.randn(self.units, self.units) * np.sqrt(2 / (self.units + self.units))\n",
    "        self.b_r = np.zeros((self.units, 1))\n",
    "        self.W_ir = np.random.randn(self.total_features, self.units) * np.sqrt(2 / (self.total_features + self.units))\n",
    "        self.W_hr = np.random.randn(self.units, self.units) * np.sqrt(2 / (self.units + self.units))\n",
    "        self.b_h = np.zeros((self.units, 1))\n",
    "        self.W_i = np.random.randn(self.total_features, self.units) * np.sqrt(2 / (self.total_features + self.units))\n",
    "        self.W_h = np.random.randn(self.units, self.units) * np.sqrt(2 / (self.units + self.units))\n",
    "\n",
    "    def calc_bce(self, y_pred, true_label):\n",
    "        # Calculate the BCE for each example\n",
    "        loss = - (true_label * np.log(y_pred) + (1 - true_label) * np.log(1 - y_pred))\n",
    "        \n",
    "        # Return the total loss (sum of all individual losses)\n",
    "        return np.sum(loss)\n",
    "        \n",
    "    def calc_cce(self, y_pred, true_label):\n",
    "        # Clip y_pred to avoid log(0) and very small values that may cause numerical instability\n",
    "        y_pred = np.clip(y_pred, 1e-15, 1 - 1e-15)\n",
    "        \n",
    "        # Calculate the categorical cross-entropy for each example\n",
    "        cce = -np.sum(true_label * np.log(y_pred), axis=0)\n",
    "        \n",
    "        # Calculate the mean loss over all examples\n",
    "        total_loss = np.sum(cce)\n",
    "        \n",
    "        return total_loss\n",
    "    \n",
    "    def calc_accuracy_for_bin_classification(self, true_labels, predictions):\n",
    "        wrong_decisions = np.sum( ((predictions <= 0.5) & (true_labels == 1)) | ((predictions > 0.5) & (true_labels == 0)) )\n",
    "        total_examples = true_labels.shape[1]\n",
    "        accuracy = (total_examples-wrong_decisions)/total_examples * 100\n",
    "        return accuracy\n",
    "    \n",
    "    def calc_accuracy_for_mult_class_classification(self, true_labels, predictions):\n",
    "        pred_indices = np.argmax(predictions, axis=0)\n",
    "        true_indices = np.argmax(true_labels, axis=0)\n",
    "        wrong_decisions = np.sum(pred_indices != true_indices)\n",
    "        total_examples = true_indices.size\n",
    "        accuracy = (total_examples-wrong_decisions)/total_examples * 100\n",
    "        return accuracy\n",
    "    \n",
    "    def evaluate(self, X, labels, reshape=True):\n",
    "        if reshape:\n",
    "            if X.ndim == 3:\n",
    "                X = X.transpose(1, 2, 0)\n",
    "            else:\n",
    "                X = X.T\n",
    "            labels = labels.T\n",
    "        # Check if the array is 1D\n",
    "        if labels.ndim == 1:\n",
    "            # Reshape to a column vector with shape (x, 1)\n",
    "            labels = labels.reshape(1, labels.size)\n",
    "        predictions = self.forward_prop(X)\n",
    "        loss = self.calc_loss(predictions, labels)\n",
    "        loss *= 1/X.shape[-1]\n",
    "        accuracy = self.calc_accuracy(labels, predictions)\n",
    "\n",
    "        return accuracy.item(), loss.item()\n",
    "        \n",
    "    def train(self, X_train, y_train, X_test, y_test, epochs, resume=False, verbose=True, adam_optimizer=False):\n",
    "        if X_train.ndim == 3:\n",
    "            X_train = X_train.transpose(1, 2, 0)\n",
    "            X_test = X_test.transpose(1, 2, 0)\n",
    "        else:\n",
    "            X_train = X_train.T\n",
    "            X_test = X_test.T\n",
    "        y_train = y_train.T\n",
    "        y_test = y_test.T\n",
    "        if adam_optimizer:\n",
    "            self.update = self.update_w_adam_optimizer\n",
    "            self.optimizer = AdamOptimizer(self.lr, params=[self.b_o, self.w_o, self.b_z, self.W_iz, self.W_hz, self.b_r, self.W_ir, self.W_hr, self.b_h, self.W_i, self.W_h])\n",
    "        else:\n",
    "            self.update = self.update_w_sgd\n",
    "        if not resume:\n",
    "            self.epoch = 0\n",
    "            self.reset_weights_biases()\n",
    "\n",
    "        total_training_examples = X_train.shape[-1]\n",
    "        epoch_idx = 0\n",
    "        training_ds_loss_history = []\n",
    "        testing_ds_loss_history = []\n",
    "        while epoch_idx < epochs:\n",
    "            epoch_idx += 1\n",
    "            self.epoch +=1 \n",
    "            self.forward_prop(X_train, return_pred=False)\n",
    "            dL_by_db_o, dL_by_dw_o, dL_by_db_z, dL_by_dW_iz, dL_by_dW_hz, dL_by_db_r, dL_by_dW_ir, dL_by_dW_hr, dL_by_db_h, dL_by_dW_i, dL_by_dW_h = self.backward_prop(X_train, y_train)\n",
    "            self.update(total_training_examples, dL_by_db_o, dL_by_dw_o, dL_by_db_z, dL_by_dW_iz, dL_by_dW_hz, dL_by_db_r, dL_by_dW_ir, dL_by_dW_hr, dL_by_db_h, dL_by_dW_i, dL_by_dW_h)\n",
    "            if verbose:\n",
    "                training_ds_accuracy, training_ds_loss = self.evaluate(X_train, y_train, reshape=False)\n",
    "                testing_ds_accuracy, testing_ds_loss = self.evaluate(X_test, y_test, reshape=False)\n",
    "                training_ds_loss_history.append(training_ds_loss)\n",
    "                testing_ds_loss_history.append(testing_ds_loss)\n",
    "                print(f\"Epoch {self.epoch:03d} | \"\n",
    "                      f\"Train Accuracy: {training_ds_accuracy:.2f}% | Train Loss ({self.loss}): {training_ds_loss:.4f} | \"\n",
    "                      f\"Test Accuracy: {testing_ds_accuracy:.2f}% | Test Loss ({self.loss}): {testing_ds_loss:.4f}\\n\")\n",
    "        return training_ds_loss_history, testing_ds_loss_history"
   ]
  },
  {
   "cell_type": "code",
   "execution_count": 143,
   "metadata": {},
   "outputs": [],
   "source": [
    "gru = GRU(units=32, seq_len=sequence_length, embedding_matrix=word2vec_model.vectors, total_classes=2, lr=0.001)"
   ]
  },
  {
   "cell_type": "code",
   "execution_count": null,
   "metadata": {},
   "outputs": [],
   "source": [
    "training_ds_loss_history, testing_ds_loss_history = gru.train(X_train, y_train, X_test, y_test, 150, adam_optimizer=True)"
   ]
  },
  {
   "cell_type": "code",
   "execution_count": 151,
   "metadata": {},
   "outputs": [
    {
     "data": {
      "image/png": "[encoded data removed]",
      "text/plain": [
       "<Figure size 900x600 with 1 Axes>"
      ]
     },
     "metadata": {},
     "output_type": "display_data"
    }
   ],
   "source": [
    "iterations = np.arange(1, len(training_ds_loss_history)+1)\n",
    "plt.figure(figsize=(9, 6))\n",
    "plt.plot(iterations, training_ds_loss_history, linewidth=2, label='Training Dataset')\n",
    "plt.plot(iterations, testing_ds_loss_history, linewidth=2, label='Testing Dataset')\n",
    "plt.title('Binary Cross Entropy vs Epochs', fontsize=25)\n",
    "plt.xlabel('Epoch', fontsize=20)\n",
    "plt.ylabel('Binary Cross Entropy ', fontsize=20)\n",
    "plt.xticks(fontsize=16)\n",
    "plt.yticks(fontsize=16)\n",
    "plt.grid(True)\n",
    "plt.tight_layout()\n",
    "plt.legend(fontsize=16)\n",
    "# plt.savefig('bce_gru.png', dpi=300)\n",
    "plt.show()"
   ]
  },
  {
   "cell_type": "code",
   "execution_count": 152,
   "metadata": {},
   "outputs": [
    {
     "name": "stdout",
     "output_type": "stream",
     "text": [
      "Training Dataset Accuracy: 100.00% | Training Dataset Loss (BCE): 0.0025\n"
     ]
    }
   ],
   "source": [
    "accuracy_train, bce_train = gru.evaluate(X_train, y_train)\n",
    "print(f\"Training Dataset Accuracy: {accuracy_train:.2f}% | Training Dataset Loss (BCE): {bce_train:.4f}\")"
   ]
  },
  {
   "cell_type": "code",
   "execution_count": 153,
   "metadata": {},
   "outputs": [
    {
     "name": "stdout",
     "output_type": "stream",
     "text": [
      "Testing Dataset Accuracy: 94.74% | Testing Dataset Loss (BCE): 0.0727\n"
     ]
    }
   ],
   "source": [
    "accuracy_test, bce_test = gru.evaluate(X_test, y_test)\n",
    "print(f\"Testing Dataset Accuracy: {accuracy_test:.2f}% | Testing Dataset Loss (BCE): {bce_test:.4f}\")"
   ]
  },
  {
   "cell_type": "code",
   "execution_count": 154,
   "metadata": {},
   "outputs": [
    {
     "name": "stdout",
     "output_type": "stream",
     "text": [
      "Confusion Matrix:\n",
      " [[ 8  0]\n",
      " [ 1 10]] \n",
      "\n",
      "True negative (Actually negative, classified as negative): 8\n",
      "False positive (Actually negative, classified as positive): 0\n",
      "False negative (Actually positive, classified as negative): 1\n",
      "True positive (Actually positive, classified as positive): 10\n"
     ]
    }
   ],
   "source": [
    "# Generating Confusion matrix\n",
    "y_pred = gru.predict(X_test)\n",
    "y_pred_classes = np.where(y_pred > 0.5, 1, 0)\n",
    "cm = confusion_matrix(y_test, y_pred_classes)\n",
    "print('Confusion Matrix:\\n', cm, '\\n')\n",
    "print('True negative (Actually negative, classified as negative):', cm[0][0])\n",
    "print('False positive (Actually negative, classified as positive):', cm[0][1])\n",
    "print('False negative (Actually positive, classified as negative):', cm[1][0])\n",
    "print('True positive (Actually positive, classified as positive):', cm[1][1])"
   ]
  },
  {
   "cell_type": "code",
   "execution_count": 155,
   "metadata": {},
   "outputs": [
    {
     "data": {
      "image/png": "[encoded data removed]",
      "text/plain": [
       "<Figure size 640x480 with 2 Axes>"
      ]
     },
     "metadata": {},
     "output_type": "display_data"
    }
   ],
   "source": [
    "disp = ConfusionMatrixDisplay(confusion_matrix=cm)\n",
    "disp.plot(cmap=plt.cm.Blues)\n",
    "plt.title('Confusion Matrix for Testing Dataset')\n",
    "# plt.savefig('cm_rnn', dpi=300)\n",
    "plt.show()"
   ]
  },
  {
   "cell_type": "code",
   "execution_count": 156,
   "metadata": {},
   "outputs": [
    {
     "name": "stdout",
     "output_type": "stream",
     "text": [
      "Classification Report\n",
      "\n",
      "               precision    recall  f1-score   support\n",
      "\n",
      "           0       0.89      1.00      0.94         8\n",
      "           1       1.00      0.91      0.95        11\n",
      "\n",
      "    accuracy                           0.95        19\n",
      "   macro avg       0.94      0.95      0.95        19\n",
      "weighted avg       0.95      0.95      0.95        19\n",
      "\n"
     ]
    }
   ],
   "source": [
    "# Generating classification report from scikit-learn\n",
    "cr = classification_report(y_test, y_pred_classes)\n",
    "print('Classification Report\\n\\n', cr)"
   ]
  }
 ],
 "metadata": {
  "kernelspec": {
   "display_name": "Python 3",
   "language": "python",
   "name": "python3"
  },
  "language_info": {
   "codemirror_mode": {
    "name": "ipython",
    "version": 3
   },
   "file_extension": ".py",
   "mimetype": "text/x-python",
   "name": "python",
   "nbconvert_exporter": "python",
   "pygments_lexer": "ipython3",
   "version": "3.12.4"
  }
 },
 "nbformat": 4,
 "nbformat_minor": 2
}
