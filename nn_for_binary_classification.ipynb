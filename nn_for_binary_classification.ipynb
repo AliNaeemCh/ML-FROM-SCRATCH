{
 "cells": [
  {
   "cell_type": "code",
   "execution_count": 1,
   "metadata": {},
   "outputs": [],
   "source": [
    "import numpy as np\n",
    "import pandas as pd\n",
    "import matplotlib.pyplot as plt\n",
    "from sklearn.preprocessing import MinMaxScaler\n",
    "from sklearn.model_selection import train_test_split\n",
    "from sklearn.metrics import confusion_matrix, classification_report, ConfusionMatrixDisplay\n",
    "import plotly.graph_objects as go"
   ]
  },
  {
   "cell_type": "code",
   "execution_count": 2,
   "metadata": {},
   "outputs": [],
   "source": [
    "df = pd.read_csv('https://firebasestorage.googleapis.com/v0/b/common-e8332.appspot.com/o/non-linearly-separable-data.csv?alt=media&token=c531dbf2-5927-4f1a-92ff-290d1047a0b6', index_col='id')"
   ]
  },
  {
   "cell_type": "code",
   "execution_count": 3,
   "metadata": {},
   "outputs": [
    {
     "data": {
      "text/html": [
       "<div>\n",
       "<style scoped>\n",
       "    .dataframe tbody tr th:only-of-type {\n",
       "        vertical-align: middle;\n",
       "    }\n",
       "\n",
       "    .dataframe tbody tr th {\n",
       "        vertical-align: top;\n",
       "    }\n",
       "\n",
       "    .dataframe thead th {\n",
       "        text-align: right;\n",
       "    }\n",
       "</style>\n",
       "<table border=\"1\" class=\"dataframe\">\n",
       "  <thead>\n",
       "    <tr style=\"text-align: right;\">\n",
       "      <th></th>\n",
       "      <th>x_1</th>\n",
       "      <th>x_2</th>\n",
       "      <th>target</th>\n",
       "    </tr>\n",
       "    <tr>\n",
       "      <th>id</th>\n",
       "      <th></th>\n",
       "      <th></th>\n",
       "      <th></th>\n",
       "    </tr>\n",
       "  </thead>\n",
       "  <tbody>\n",
       "    <tr>\n",
       "      <th>0</th>\n",
       "      <td>2.764052</td>\n",
       "      <td>1.555963</td>\n",
       "      <td>0</td>\n",
       "    </tr>\n",
       "    <tr>\n",
       "      <th>1</th>\n",
       "      <td>1.400157</td>\n",
       "      <td>1.892474</td>\n",
       "      <td>1</td>\n",
       "    </tr>\n",
       "    <tr>\n",
       "      <th>2</th>\n",
       "      <td>1.978738</td>\n",
       "      <td>0.577685</td>\n",
       "      <td>1</td>\n",
       "    </tr>\n",
       "    <tr>\n",
       "      <th>3</th>\n",
       "      <td>3.240893</td>\n",
       "      <td>1.104714</td>\n",
       "      <td>0</td>\n",
       "    </tr>\n",
       "    <tr>\n",
       "      <th>4</th>\n",
       "      <td>2.867558</td>\n",
       "      <td>1.228053</td>\n",
       "      <td>0</td>\n",
       "    </tr>\n",
       "  </tbody>\n",
       "</table>\n",
       "</div>"
      ],
      "text/plain": [
       "         x_1       x_2  target\n",
       "id                            \n",
       "0   2.764052  1.555963       0\n",
       "1   1.400157  1.892474       1\n",
       "2   1.978738  0.577685       1\n",
       "3   3.240893  1.104714       0\n",
       "4   2.867558  1.228053       0"
      ]
     },
     "execution_count": 3,
     "metadata": {},
     "output_type": "execute_result"
    }
   ],
   "source": [
    "df.head()"
   ]
  },
  {
   "cell_type": "code",
   "execution_count": 4,
   "metadata": {},
   "outputs": [],
   "source": [
    "# Preparing the training and testing dataset\n",
    "X = df.iloc[:, :-1].values\n",
    "y = df['target'].values\n",
    "X_train, X_test, y_train, y_test = train_test_split(X, y, test_size=0.2, random_state=20)\n",
    "mm  = MinMaxScaler()\n",
    "mm.fit(X_train)\n",
    "X_train = mm.transform(X_train)\n",
    "X_test = mm.transform(X_test)\n",
    "y_train = y_train\n",
    "y_test = y_test"
   ]
  },
  {
   "cell_type": "code",
   "execution_count": 5,
   "metadata": {},
   "outputs": [
    {
     "name": "stdout",
     "output_type": "stream",
     "text": [
      "X_train shape (examples x features): (800, 2)\n",
      "X_test shape (examples x features))): (200, 2)\n",
      "y_train shape (examples x target variables): (800,)\n",
      "y_test shape (examples x target variables): (200,)\n"
     ]
    }
   ],
   "source": [
    "print('X_train shape (examples x features):', X_train.shape)\n",
    "print('X_test shape (examples x features))):', X_test.shape)\n",
    "print(\"y_train shape (examples x target variables):\", y_train.shape)\n",
    "print(\"y_test shape (examples x target variables):\", y_test.shape)"
   ]
  },
  {
   "cell_type": "code",
   "execution_count": 6,
   "metadata": {},
   "outputs": [],
   "source": [
    "# Splitting dataset into train and test sets\n",
    "X_train, X_test, y_train, y_test = train_test_split(X, y, test_size=0.2, random_state=42, stratify=y)"
   ]
  },
  {
   "cell_type": "code",
   "execution_count": 7,
   "metadata": {},
   "outputs": [
    {
     "name": "stdout",
     "output_type": "stream",
     "text": [
      "X_train shape (examples x features): (800, 2)\n",
      "X_test shape (examples x features): (200, 2)\n",
      "y_train shape (examples x target variables): (800,)\n",
      "y_test shape (examples x target variables): (200,)\n"
     ]
    }
   ],
   "source": [
    "print('X_train shape (examples x features):', X_train.shape)\n",
    "print('X_test shape (examples x features):', X_test.shape)\n",
    "print(\"y_train shape (examples x target variables):\", y_train.shape)\n",
    "print(\"y_test shape (examples x target variables):\", y_test.shape)"
   ]
  },
  {
   "cell_type": "code",
   "execution_count": 210,
   "metadata": {},
   "outputs": [],
   "source": [
    "class NN:\n",
    "    '''\n",
    "    A fully connected neural network with the following specifications:\n",
    "    * ReLU activation function in all the hidden layers\n",
    "    * Sigmoid activation function in the output layer\n",
    "    * Fully flexible in the number of neurons and layers\n",
    "    '''\n",
    "    def __init__(self, input_dim, hidden_layer_neurons=[]):\n",
    "        '''\n",
    "        input_dim: Give the total number of input features\n",
    "        hidden_layer_neurons: Give the number of neurons in each hidden layer, i-e, for a neural network with 2 hidden layers with first layer\n",
    "                              having 16 neurons and second layer 8 neurons. Give [16, 8]. If unspecified, there will be no hidden layer used,\n",
    "                              which is equivalent to logistic regression\n",
    "        '''\n",
    "        self.layer_neurons = [input_dim, *hidden_layer_neurons, 1]\n",
    "        self.total_layers = len(self.layer_neurons)-1\n",
    "        self.W = [np.sqrt(2 / (self.layer_neurons[i] + self.layer_neurons[i+1])) * np.random.randn(self.layer_neurons[i], self.layer_neurons[i+1]) for i in range(self.total_layers)]\n",
    "        self.B = [np.zeros((self.layer_neurons[i], 1)) for i in range(1, self.total_layers+1)]\n",
    "        self.g = [self.relu for _ in range(self.total_layers-1)]    # Defines the activation function for each layer i-e ReLU for all hidden layers\n",
    "        self.g.append(self.sigmoid)                                 # Defines the sigmoid activation function for the output layer\n",
    "        self.Z = None\n",
    "        self.A = None\n",
    "\n",
    "    def sigmoid(self, z):\n",
    "        return 1 / (1 + np.exp(-z))\n",
    "    \n",
    "    def relu(self, z):\n",
    "        return np.maximum(0, z)\n",
    "\n",
    "    def grad_relu(self, z):\n",
    "        return np.where(z > 0, 1, 0)\n",
    "    \n",
    "    def reset_params(self):\n",
    "        self.W = [np.sqrt(2 / (self.layer_neurons[i] + self.layer_neurons[i+1])) * np.random.randn(self.layer_neurons[i], self.layer_neurons[i+1]) for i in range(self.total_layers)]\n",
    "        self.B = [np.zeros((self.layer_neurons[i], 1)) for i in range(1, self.total_layers+1)]\n",
    "        return\n",
    "    \n",
    "    def predict(self, X, reshape=True):\n",
    "        if reshape:\n",
    "            X = X.T\n",
    "        z = self.W[0].T @ X + self.B[0]\n",
    "        a = self.g[0](z)\n",
    "        for i in range(1, self.total_layers):\n",
    "            z = self.W[i].T @ a + self.B[i]\n",
    "            a = self.g[i](z)\n",
    "        if reshape:\n",
    "            return a.T\n",
    "        return a\n",
    "    \n",
    "    # Only to be called from inside the class\n",
    "    def calc_loss(self, y_true, y_pred):\n",
    "        return - (y_true * np.log(y_pred) + (1 - y_true) * np.log(1 - y_pred))\n",
    "    \n",
    "    # Only to be called from inside the class\n",
    "    def calc_accuracy(self, true_labels, y_pred):\n",
    "        wrong_decisions = np.sum( ((y_pred <= 0.5) & (true_labels == 1)) | ((y_pred > 0.5) & (true_labels == 0)) )\n",
    "        total_examples = true_labels.size\n",
    "        accuracy = (total_examples-wrong_decisions)/total_examples * 100\n",
    "        return accuracy\n",
    "    \n",
    "    def evaluate(self, X, y_true, reshape=True):\n",
    "        total_examples = y_true.size\n",
    "        if reshape:\n",
    "            y_true = y_true.reshape(1, total_examples)\n",
    "            X = X.T\n",
    "        y_pred = self.predict(X, reshape=False)\n",
    "        loss = self.calc_loss(y_true, y_pred)\n",
    "        loss = 1/(total_examples) * loss.sum()\n",
    "        accuracy = self.calc_accuracy(y_true, y_pred)\n",
    "        return accuracy.item(), loss.item()\n",
    "    \n",
    "    # Forward Propagation (Only to be called from inside the class)\n",
    "    def forward_prop(self, X):\n",
    "        total_input_examples = X.shape[1]\n",
    "        self.Z = [np.zeros((self.layer_neurons[i], total_input_examples)) for i in range(1, self.total_layers+1)]\n",
    "        self.A = [np.zeros((self.layer_neurons[i], total_input_examples)) for i in range(1, self.total_layers+1)]\n",
    "        self.Z[0] = self.W[0].T @ X + self.B[0]\n",
    "        self.A[0] = self.g[0](self.Z[0])\n",
    "        for i in range(1, self.total_layers):\n",
    "            self.Z[i] = self.W[i].T @ self.A[i-1] + self.B[i]\n",
    "            self.A[i] = self.g[i](self.Z[i])\n",
    "        return\n",
    "\n",
    "    # Backpropagation\n",
    "    def train(self, X_train, y_train, X_test, y_test, epochs, lr=0.1, verbose=True):\n",
    "        X_train = X_train.T\n",
    "        X_test = X_test.T\n",
    "        total_training_examples = X_train.shape[1]\n",
    "        inv_training_examples = 1/total_training_examples\n",
    "        W_grads = [np.zeros((self.layer_neurons[i], self.layer_neurons[i+1])) for i in range(self.total_layers)]\n",
    "        B_grads = [np.zeros((self.layer_neurons[i], 1)) for i in range(1, self.total_layers+1)]\n",
    "        self.reset_params()\n",
    "        training_ds_loss_history = []\n",
    "        testing_ds_loss_history = []\n",
    "        y_train = y_train.reshape(1, total_training_examples)\n",
    "        y_test = y_test.reshape(1, y_test.size)\n",
    "\n",
    "        for epoch in range(1, epochs+1):\n",
    "            self.forward_prop(X_train)\n",
    "            temp = self.A[-1] - y_train.reshape(1, total_training_examples)\n",
    "            B_grads[-1] = inv_training_examples * temp.sum().reshape(1,1)\n",
    "            if self.total_layers > 1:\n",
    "                W_grads[-1] = inv_training_examples * (self.A[-2] @ temp.T)\n",
    "            else:\n",
    "                W_grads[-1] = inv_training_examples * (X_train @ temp.T)\n",
    "            for i in range(2, self.total_layers+1):\n",
    "                temp = (self.W[-i+1] @ temp) * (self.grad_relu(self.Z[-i]))\n",
    "                B_grads[-i] = inv_training_examples * np.sum(temp, axis=1).reshape(-1, 1)\n",
    "                if -i-1 >= -self.total_layers:\n",
    "                    W_grads[-i] = inv_training_examples * (self.A[-i-1] @ temp.T)\n",
    "                else:\n",
    "                    W_grads[-i] = inv_training_examples * (X_train @ temp.T)\n",
    "            \n",
    "            # Updation\n",
    "            for i in range(self.total_layers):\n",
    "                self.W[i] -= lr * W_grads[i]\n",
    "                self.B[i] -= lr * B_grads[i]\n",
    "            if verbose:\n",
    "                training_ds_accuracy, training_ds_loss = self.evaluate(X_train, y_train, reshape=False)\n",
    "                testing_ds_accuracy, testing_ds_loss = self.evaluate(X_test, y_test, reshape=False)\n",
    "                training_ds_loss_history.append(training_ds_loss)\n",
    "                testing_ds_loss_history.append(testing_ds_loss)\n",
    "                print(f\"Epoch {epoch:03d} | \"\n",
    "                        f\"Train Accuracy: {training_ds_accuracy:.2f}% | Train Loss (BCE): {training_ds_loss:.4f} | \"\n",
    "                        f\"Test Accuracy: {testing_ds_accuracy:.2f}% | Test Loss (BCE): {testing_ds_loss:.4f}\\n\")\n",
    "        return training_ds_loss_history, testing_ds_loss_history\n"
   ]
  },
  {
   "cell_type": "markdown",
   "metadata": {},
   "source": [
    "- Creating a NN with 1 hidden layer having 2 neurons"
   ]
  },
  {
   "cell_type": "code",
   "execution_count": 9,
   "metadata": {},
   "outputs": [],
   "source": [
    "nn1 = NN(input_dim=X_train.shape[1], hidden_layer_neurons=[2])"
   ]
  },
  {
   "cell_type": "code",
   "execution_count": 180,
   "metadata": {},
   "outputs": [
    {
     "name": "stdout",
     "output_type": "stream",
     "text": [
      "Epoch 001 | Train Accuracy: 55.38% | Train Loss (BCE): 0.6949 | Test Accuracy: 55.50% | Test Loss (BCE): 0.6962\n",
      "\n",
      "Epoch 002 | Train Accuracy: 55.38% | Train Loss (BCE): 0.6937 | Test Accuracy: 55.50% | Test Loss (BCE): 0.6948\n",
      "\n",
      "Epoch 003 | Train Accuracy: 55.38% | Train Loss (BCE): 0.6927 | Test Accuracy: 55.50% | Test Loss (BCE): 0.6937\n",
      "\n",
      "Epoch 004 | Train Accuracy: 55.38% | Train Loss (BCE): 0.6919 | Test Accuracy: 55.50% | Test Loss (BCE): 0.6928\n",
      "\n",
      "Epoch 005 | Train Accuracy: 55.38% | Train Loss (BCE): 0.6912 | Test Accuracy: 55.50% | Test Loss (BCE): 0.6920\n",
      "\n",
      "Epoch 006 | Train Accuracy: 55.38% | Train Loss (BCE): 0.6906 | Test Accuracy: 55.50% | Test Loss (BCE): 0.6914\n",
      "\n",
      "Epoch 007 | Train Accuracy: 55.38% | Train Loss (BCE): 0.6902 | Test Accuracy: 55.50% | Test Loss (BCE): 0.6909\n",
      "\n",
      "Epoch 008 | Train Accuracy: 55.38% | Train Loss (BCE): 0.6899 | Test Accuracy: 55.50% | Test Loss (BCE): 0.6904\n",
      "\n",
      "Epoch 009 | Train Accuracy: 55.38% | Train Loss (BCE): 0.6896 | Test Accuracy: 55.50% | Test Loss (BCE): 0.6901\n",
      "\n",
      "Epoch 010 | Train Accuracy: 55.38% | Train Loss (BCE): 0.6893 | Test Accuracy: 55.50% | Test Loss (BCE): 0.6897\n",
      "\n",
      "Epoch 011 | Train Accuracy: 55.38% | Train Loss (BCE): 0.6891 | Test Accuracy: 55.50% | Test Loss (BCE): 0.6894\n",
      "\n",
      "Epoch 012 | Train Accuracy: 55.38% | Train Loss (BCE): 0.6889 | Test Accuracy: 55.50% | Test Loss (BCE): 0.6892\n",
      "\n",
      "Epoch 013 | Train Accuracy: 55.38% | Train Loss (BCE): 0.6887 | Test Accuracy: 55.50% | Test Loss (BCE): 0.6890\n",
      "\n",
      "Epoch 014 | Train Accuracy: 55.38% | Train Loss (BCE): 0.6885 | Test Accuracy: 55.50% | Test Loss (BCE): 0.6888\n",
      "\n",
      "Epoch 015 | Train Accuracy: 55.38% | Train Loss (BCE): 0.6884 | Test Accuracy: 55.50% | Test Loss (BCE): 0.6886\n",
      "\n",
      "Epoch 016 | Train Accuracy: 55.38% | Train Loss (BCE): 0.6883 | Test Accuracy: 55.50% | Test Loss (BCE): 0.6885\n",
      "\n",
      "Epoch 017 | Train Accuracy: 55.38% | Train Loss (BCE): 0.6882 | Test Accuracy: 55.50% | Test Loss (BCE): 0.6883\n",
      "\n",
      "Epoch 018 | Train Accuracy: 55.38% | Train Loss (BCE): 0.6881 | Test Accuracy: 55.50% | Test Loss (BCE): 0.6882\n",
      "\n",
      "Epoch 019 | Train Accuracy: 55.38% | Train Loss (BCE): 0.6880 | Test Accuracy: 55.50% | Test Loss (BCE): 0.6881\n",
      "\n",
      "Epoch 020 | Train Accuracy: 55.38% | Train Loss (BCE): 0.6879 | Test Accuracy: 55.50% | Test Loss (BCE): 0.6880\n",
      "\n",
      "Epoch 021 | Train Accuracy: 55.38% | Train Loss (BCE): 0.6879 | Test Accuracy: 55.50% | Test Loss (BCE): 0.6879\n",
      "\n",
      "Epoch 022 | Train Accuracy: 55.38% | Train Loss (BCE): 0.6879 | Test Accuracy: 55.50% | Test Loss (BCE): 0.6879\n",
      "\n",
      "Epoch 023 | Train Accuracy: 55.38% | Train Loss (BCE): 0.6878 | Test Accuracy: 55.50% | Test Loss (BCE): 0.6878\n",
      "\n",
      "Epoch 024 | Train Accuracy: 55.38% | Train Loss (BCE): 0.6878 | Test Accuracy: 55.50% | Test Loss (BCE): 0.6878\n",
      "\n",
      "Epoch 025 | Train Accuracy: 55.38% | Train Loss (BCE): 0.6877 | Test Accuracy: 55.50% | Test Loss (BCE): 0.6877\n",
      "\n",
      "Epoch 026 | Train Accuracy: 55.38% | Train Loss (BCE): 0.6877 | Test Accuracy: 55.50% | Test Loss (BCE): 0.6877\n",
      "\n",
      "Epoch 027 | Train Accuracy: 55.38% | Train Loss (BCE): 0.6877 | Test Accuracy: 55.50% | Test Loss (BCE): 0.6876\n",
      "\n",
      "Epoch 028 | Train Accuracy: 55.38% | Train Loss (BCE): 0.6877 | Test Accuracy: 55.50% | Test Loss (BCE): 0.6876\n",
      "\n",
      "Epoch 029 | Train Accuracy: 55.38% | Train Loss (BCE): 0.6876 | Test Accuracy: 55.50% | Test Loss (BCE): 0.6876\n",
      "\n",
      "Epoch 030 | Train Accuracy: 55.38% | Train Loss (BCE): 0.6876 | Test Accuracy: 55.50% | Test Loss (BCE): 0.6876\n",
      "\n",
      "Epoch 031 | Train Accuracy: 55.38% | Train Loss (BCE): 0.6876 | Test Accuracy: 55.50% | Test Loss (BCE): 0.6876\n",
      "\n",
      "Epoch 032 | Train Accuracy: 55.38% | Train Loss (BCE): 0.6876 | Test Accuracy: 55.50% | Test Loss (BCE): 0.6875\n",
      "\n",
      "Epoch 033 | Train Accuracy: 55.38% | Train Loss (BCE): 0.6876 | Test Accuracy: 55.50% | Test Loss (BCE): 0.6875\n",
      "\n",
      "Epoch 034 | Train Accuracy: 55.38% | Train Loss (BCE): 0.6875 | Test Accuracy: 55.50% | Test Loss (BCE): 0.6875\n",
      "\n",
      "Epoch 035 | Train Accuracy: 55.38% | Train Loss (BCE): 0.6875 | Test Accuracy: 55.50% | Test Loss (BCE): 0.6875\n",
      "\n",
      "Epoch 036 | Train Accuracy: 55.38% | Train Loss (BCE): 0.6875 | Test Accuracy: 55.50% | Test Loss (BCE): 0.6875\n",
      "\n",
      "Epoch 037 | Train Accuracy: 55.38% | Train Loss (BCE): 0.6875 | Test Accuracy: 55.50% | Test Loss (BCE): 0.6875\n",
      "\n",
      "Epoch 038 | Train Accuracy: 55.38% | Train Loss (BCE): 0.6875 | Test Accuracy: 55.50% | Test Loss (BCE): 0.6874\n",
      "\n",
      "Epoch 039 | Train Accuracy: 55.38% | Train Loss (BCE): 0.6875 | Test Accuracy: 55.50% | Test Loss (BCE): 0.6874\n",
      "\n",
      "Epoch 040 | Train Accuracy: 55.38% | Train Loss (BCE): 0.6875 | Test Accuracy: 55.50% | Test Loss (BCE): 0.6874\n",
      "\n",
      "Epoch 041 | Train Accuracy: 55.38% | Train Loss (BCE): 0.6875 | Test Accuracy: 55.50% | Test Loss (BCE): 0.6874\n",
      "\n",
      "Epoch 042 | Train Accuracy: 55.38% | Train Loss (BCE): 0.6875 | Test Accuracy: 55.50% | Test Loss (BCE): 0.6874\n",
      "\n",
      "Epoch 043 | Train Accuracy: 55.38% | Train Loss (BCE): 0.6875 | Test Accuracy: 55.50% | Test Loss (BCE): 0.6874\n",
      "\n",
      "Epoch 044 | Train Accuracy: 55.38% | Train Loss (BCE): 0.6875 | Test Accuracy: 55.50% | Test Loss (BCE): 0.6874\n",
      "\n",
      "Epoch 045 | Train Accuracy: 55.38% | Train Loss (BCE): 0.6875 | Test Accuracy: 55.50% | Test Loss (BCE): 0.6874\n",
      "\n",
      "Epoch 046 | Train Accuracy: 55.38% | Train Loss (BCE): 0.6874 | Test Accuracy: 55.50% | Test Loss (BCE): 0.6874\n",
      "\n",
      "Epoch 047 | Train Accuracy: 55.38% | Train Loss (BCE): 0.6874 | Test Accuracy: 55.50% | Test Loss (BCE): 0.6873\n",
      "\n",
      "Epoch 048 | Train Accuracy: 55.38% | Train Loss (BCE): 0.6874 | Test Accuracy: 55.50% | Test Loss (BCE): 0.6873\n",
      "\n",
      "Epoch 049 | Train Accuracy: 55.38% | Train Loss (BCE): 0.6874 | Test Accuracy: 55.50% | Test Loss (BCE): 0.6873\n",
      "\n",
      "Epoch 050 | Train Accuracy: 55.38% | Train Loss (BCE): 0.6874 | Test Accuracy: 55.50% | Test Loss (BCE): 0.6873\n",
      "\n",
      "Epoch 051 | Train Accuracy: 55.38% | Train Loss (BCE): 0.6874 | Test Accuracy: 55.50% | Test Loss (BCE): 0.6873\n",
      "\n",
      "Epoch 052 | Train Accuracy: 55.38% | Train Loss (BCE): 0.6874 | Test Accuracy: 55.50% | Test Loss (BCE): 0.6873\n",
      "\n",
      "Epoch 053 | Train Accuracy: 55.38% | Train Loss (BCE): 0.6874 | Test Accuracy: 55.50% | Test Loss (BCE): 0.6873\n",
      "\n",
      "Epoch 054 | Train Accuracy: 55.38% | Train Loss (BCE): 0.6874 | Test Accuracy: 55.50% | Test Loss (BCE): 0.6873\n",
      "\n",
      "Epoch 055 | Train Accuracy: 55.38% | Train Loss (BCE): 0.6874 | Test Accuracy: 55.50% | Test Loss (BCE): 0.6873\n",
      "\n",
      "Epoch 056 | Train Accuracy: 55.38% | Train Loss (BCE): 0.6874 | Test Accuracy: 55.50% | Test Loss (BCE): 0.6873\n",
      "\n",
      "Epoch 057 | Train Accuracy: 55.38% | Train Loss (BCE): 0.6874 | Test Accuracy: 55.50% | Test Loss (BCE): 0.6873\n",
      "\n",
      "Epoch 058 | Train Accuracy: 55.38% | Train Loss (BCE): 0.6874 | Test Accuracy: 55.50% | Test Loss (BCE): 0.6872\n",
      "\n",
      "Epoch 059 | Train Accuracy: 55.38% | Train Loss (BCE): 0.6874 | Test Accuracy: 55.50% | Test Loss (BCE): 0.6872\n",
      "\n",
      "Epoch 060 | Train Accuracy: 55.38% | Train Loss (BCE): 0.6874 | Test Accuracy: 55.50% | Test Loss (BCE): 0.6872\n",
      "\n",
      "Epoch 061 | Train Accuracy: 55.38% | Train Loss (BCE): 0.6874 | Test Accuracy: 55.50% | Test Loss (BCE): 0.6872\n",
      "\n",
      "Epoch 062 | Train Accuracy: 55.38% | Train Loss (BCE): 0.6874 | Test Accuracy: 55.50% | Test Loss (BCE): 0.6872\n",
      "\n",
      "Epoch 063 | Train Accuracy: 55.38% | Train Loss (BCE): 0.6874 | Test Accuracy: 55.50% | Test Loss (BCE): 0.6872\n",
      "\n",
      "Epoch 064 | Train Accuracy: 55.38% | Train Loss (BCE): 0.6874 | Test Accuracy: 55.50% | Test Loss (BCE): 0.6872\n",
      "\n",
      "Epoch 065 | Train Accuracy: 55.38% | Train Loss (BCE): 0.6874 | Test Accuracy: 55.50% | Test Loss (BCE): 0.6872\n",
      "\n",
      "Epoch 066 | Train Accuracy: 55.38% | Train Loss (BCE): 0.6874 | Test Accuracy: 55.50% | Test Loss (BCE): 0.6872\n",
      "\n",
      "Epoch 067 | Train Accuracy: 55.38% | Train Loss (BCE): 0.6874 | Test Accuracy: 55.50% | Test Loss (BCE): 0.6872\n",
      "\n",
      "Epoch 068 | Train Accuracy: 55.38% | Train Loss (BCE): 0.6874 | Test Accuracy: 55.50% | Test Loss (BCE): 0.6872\n",
      "\n",
      "Epoch 069 | Train Accuracy: 55.38% | Train Loss (BCE): 0.6874 | Test Accuracy: 55.50% | Test Loss (BCE): 0.6872\n",
      "\n",
      "Epoch 070 | Train Accuracy: 55.38% | Train Loss (BCE): 0.6874 | Test Accuracy: 55.50% | Test Loss (BCE): 0.6872\n",
      "\n",
      "Epoch 071 | Train Accuracy: 55.38% | Train Loss (BCE): 0.6874 | Test Accuracy: 55.50% | Test Loss (BCE): 0.6872\n",
      "\n",
      "Epoch 072 | Train Accuracy: 55.38% | Train Loss (BCE): 0.6874 | Test Accuracy: 55.50% | Test Loss (BCE): 0.6872\n",
      "\n",
      "Epoch 073 | Train Accuracy: 55.38% | Train Loss (BCE): 0.6874 | Test Accuracy: 55.50% | Test Loss (BCE): 0.6872\n",
      "\n",
      "Epoch 074 | Train Accuracy: 55.38% | Train Loss (BCE): 0.6874 | Test Accuracy: 55.50% | Test Loss (BCE): 0.6872\n",
      "\n",
      "Epoch 075 | Train Accuracy: 55.38% | Train Loss (BCE): 0.6874 | Test Accuracy: 55.50% | Test Loss (BCE): 0.6872\n",
      "\n",
      "Epoch 076 | Train Accuracy: 55.38% | Train Loss (BCE): 0.6874 | Test Accuracy: 55.50% | Test Loss (BCE): 0.6872\n",
      "\n",
      "Epoch 077 | Train Accuracy: 55.38% | Train Loss (BCE): 0.6874 | Test Accuracy: 55.50% | Test Loss (BCE): 0.6872\n",
      "\n",
      "Epoch 078 | Train Accuracy: 55.38% | Train Loss (BCE): 0.6874 | Test Accuracy: 55.50% | Test Loss (BCE): 0.6872\n",
      "\n",
      "Epoch 079 | Train Accuracy: 55.38% | Train Loss (BCE): 0.6874 | Test Accuracy: 55.50% | Test Loss (BCE): 0.6872\n",
      "\n",
      "Epoch 080 | Train Accuracy: 55.38% | Train Loss (BCE): 0.6874 | Test Accuracy: 55.50% | Test Loss (BCE): 0.6872\n",
      "\n",
      "Epoch 081 | Train Accuracy: 55.38% | Train Loss (BCE): 0.6874 | Test Accuracy: 55.50% | Test Loss (BCE): 0.6872\n",
      "\n",
      "Epoch 082 | Train Accuracy: 55.38% | Train Loss (BCE): 0.6874 | Test Accuracy: 55.50% | Test Loss (BCE): 0.6872\n",
      "\n",
      "Epoch 083 | Train Accuracy: 55.38% | Train Loss (BCE): 0.6874 | Test Accuracy: 55.50% | Test Loss (BCE): 0.6872\n",
      "\n",
      "Epoch 084 | Train Accuracy: 55.38% | Train Loss (BCE): 0.6874 | Test Accuracy: 55.50% | Test Loss (BCE): 0.6872\n",
      "\n",
      "Epoch 085 | Train Accuracy: 55.38% | Train Loss (BCE): 0.6874 | Test Accuracy: 55.50% | Test Loss (BCE): 0.6872\n",
      "\n",
      "Epoch 086 | Train Accuracy: 55.38% | Train Loss (BCE): 0.6874 | Test Accuracy: 55.50% | Test Loss (BCE): 0.6872\n",
      "\n",
      "Epoch 087 | Train Accuracy: 55.38% | Train Loss (BCE): 0.6874 | Test Accuracy: 55.50% | Test Loss (BCE): 0.6872\n",
      "\n",
      "Epoch 088 | Train Accuracy: 55.38% | Train Loss (BCE): 0.6874 | Test Accuracy: 55.50% | Test Loss (BCE): 0.6872\n",
      "\n",
      "Epoch 089 | Train Accuracy: 55.38% | Train Loss (BCE): 0.6874 | Test Accuracy: 55.50% | Test Loss (BCE): 0.6872\n",
      "\n",
      "Epoch 090 | Train Accuracy: 55.38% | Train Loss (BCE): 0.6874 | Test Accuracy: 55.50% | Test Loss (BCE): 0.6872\n",
      "\n",
      "Epoch 091 | Train Accuracy: 55.38% | Train Loss (BCE): 0.6874 | Test Accuracy: 55.50% | Test Loss (BCE): 0.6872\n",
      "\n",
      "Epoch 092 | Train Accuracy: 55.38% | Train Loss (BCE): 0.6874 | Test Accuracy: 55.50% | Test Loss (BCE): 0.6872\n",
      "\n",
      "Epoch 093 | Train Accuracy: 55.38% | Train Loss (BCE): 0.6874 | Test Accuracy: 55.50% | Test Loss (BCE): 0.6872\n",
      "\n",
      "Epoch 094 | Train Accuracy: 55.38% | Train Loss (BCE): 0.6874 | Test Accuracy: 55.50% | Test Loss (BCE): 0.6872\n",
      "\n",
      "Epoch 095 | Train Accuracy: 55.38% | Train Loss (BCE): 0.6874 | Test Accuracy: 55.50% | Test Loss (BCE): 0.6872\n",
      "\n",
      "Epoch 096 | Train Accuracy: 55.38% | Train Loss (BCE): 0.6874 | Test Accuracy: 55.50% | Test Loss (BCE): 0.6872\n",
      "\n",
      "Epoch 097 | Train Accuracy: 55.38% | Train Loss (BCE): 0.6874 | Test Accuracy: 55.50% | Test Loss (BCE): 0.6872\n",
      "\n",
      "Epoch 098 | Train Accuracy: 55.38% | Train Loss (BCE): 0.6874 | Test Accuracy: 55.50% | Test Loss (BCE): 0.6872\n",
      "\n",
      "Epoch 099 | Train Accuracy: 55.38% | Train Loss (BCE): 0.6874 | Test Accuracy: 55.50% | Test Loss (BCE): 0.6872\n",
      "\n",
      "Epoch 100 | Train Accuracy: 55.38% | Train Loss (BCE): 0.6874 | Test Accuracy: 55.50% | Test Loss (BCE): 0.6872\n",
      "\n",
      "Epoch 101 | Train Accuracy: 55.38% | Train Loss (BCE): 0.6874 | Test Accuracy: 55.50% | Test Loss (BCE): 0.6872\n",
      "\n",
      "Epoch 102 | Train Accuracy: 55.38% | Train Loss (BCE): 0.6874 | Test Accuracy: 55.50% | Test Loss (BCE): 0.6872\n",
      "\n",
      "Epoch 103 | Train Accuracy: 55.38% | Train Loss (BCE): 0.6874 | Test Accuracy: 55.50% | Test Loss (BCE): 0.6872\n",
      "\n",
      "Epoch 104 | Train Accuracy: 55.38% | Train Loss (BCE): 0.6874 | Test Accuracy: 55.50% | Test Loss (BCE): 0.6872\n",
      "\n",
      "Epoch 105 | Train Accuracy: 55.38% | Train Loss (BCE): 0.6874 | Test Accuracy: 55.50% | Test Loss (BCE): 0.6872\n",
      "\n",
      "Epoch 106 | Train Accuracy: 55.38% | Train Loss (BCE): 0.6874 | Test Accuracy: 55.50% | Test Loss (BCE): 0.6872\n",
      "\n",
      "Epoch 107 | Train Accuracy: 55.38% | Train Loss (BCE): 0.6874 | Test Accuracy: 55.50% | Test Loss (BCE): 0.6871\n",
      "\n",
      "Epoch 108 | Train Accuracy: 55.38% | Train Loss (BCE): 0.6874 | Test Accuracy: 55.50% | Test Loss (BCE): 0.6871\n",
      "\n",
      "Epoch 109 | Train Accuracy: 55.38% | Train Loss (BCE): 0.6874 | Test Accuracy: 55.50% | Test Loss (BCE): 0.6871\n",
      "\n",
      "Epoch 110 | Train Accuracy: 55.38% | Train Loss (BCE): 0.6874 | Test Accuracy: 55.50% | Test Loss (BCE): 0.6871\n",
      "\n",
      "Epoch 111 | Train Accuracy: 55.38% | Train Loss (BCE): 0.6874 | Test Accuracy: 55.50% | Test Loss (BCE): 0.6871\n",
      "\n",
      "Epoch 112 | Train Accuracy: 55.38% | Train Loss (BCE): 0.6874 | Test Accuracy: 55.50% | Test Loss (BCE): 0.6871\n",
      "\n",
      "Epoch 113 | Train Accuracy: 55.38% | Train Loss (BCE): 0.6874 | Test Accuracy: 55.50% | Test Loss (BCE): 0.6871\n",
      "\n",
      "Epoch 114 | Train Accuracy: 55.38% | Train Loss (BCE): 0.6874 | Test Accuracy: 55.50% | Test Loss (BCE): 0.6871\n",
      "\n",
      "Epoch 115 | Train Accuracy: 55.38% | Train Loss (BCE): 0.6874 | Test Accuracy: 55.50% | Test Loss (BCE): 0.6871\n",
      "\n",
      "Epoch 116 | Train Accuracy: 55.38% | Train Loss (BCE): 0.6874 | Test Accuracy: 55.50% | Test Loss (BCE): 0.6871\n",
      "\n",
      "Epoch 117 | Train Accuracy: 55.38% | Train Loss (BCE): 0.6874 | Test Accuracy: 55.50% | Test Loss (BCE): 0.6871\n",
      "\n",
      "Epoch 118 | Train Accuracy: 55.38% | Train Loss (BCE): 0.6874 | Test Accuracy: 55.50% | Test Loss (BCE): 0.6871\n",
      "\n",
      "Epoch 119 | Train Accuracy: 55.38% | Train Loss (BCE): 0.6874 | Test Accuracy: 55.50% | Test Loss (BCE): 0.6871\n",
      "\n",
      "Epoch 120 | Train Accuracy: 55.38% | Train Loss (BCE): 0.6874 | Test Accuracy: 55.50% | Test Loss (BCE): 0.6871\n",
      "\n",
      "Epoch 121 | Train Accuracy: 55.38% | Train Loss (BCE): 0.6874 | Test Accuracy: 55.50% | Test Loss (BCE): 0.6871\n",
      "\n",
      "Epoch 122 | Train Accuracy: 55.38% | Train Loss (BCE): 0.6874 | Test Accuracy: 55.50% | Test Loss (BCE): 0.6871\n",
      "\n",
      "Epoch 123 | Train Accuracy: 55.38% | Train Loss (BCE): 0.6874 | Test Accuracy: 55.50% | Test Loss (BCE): 0.6871\n",
      "\n",
      "Epoch 124 | Train Accuracy: 55.38% | Train Loss (BCE): 0.6874 | Test Accuracy: 55.50% | Test Loss (BCE): 0.6871\n",
      "\n",
      "Epoch 125 | Train Accuracy: 55.38% | Train Loss (BCE): 0.6874 | Test Accuracy: 55.50% | Test Loss (BCE): 0.6871\n",
      "\n",
      "Epoch 126 | Train Accuracy: 55.38% | Train Loss (BCE): 0.6874 | Test Accuracy: 55.50% | Test Loss (BCE): 0.6871\n",
      "\n",
      "Epoch 127 | Train Accuracy: 55.38% | Train Loss (BCE): 0.6874 | Test Accuracy: 55.50% | Test Loss (BCE): 0.6871\n",
      "\n",
      "Epoch 128 | Train Accuracy: 55.38% | Train Loss (BCE): 0.6874 | Test Accuracy: 55.50% | Test Loss (BCE): 0.6871\n",
      "\n",
      "Epoch 129 | Train Accuracy: 55.38% | Train Loss (BCE): 0.6874 | Test Accuracy: 55.50% | Test Loss (BCE): 0.6871\n",
      "\n",
      "Epoch 130 | Train Accuracy: 55.38% | Train Loss (BCE): 0.6874 | Test Accuracy: 55.50% | Test Loss (BCE): 0.6871\n",
      "\n",
      "Epoch 131 | Train Accuracy: 55.38% | Train Loss (BCE): 0.6874 | Test Accuracy: 55.50% | Test Loss (BCE): 0.6871\n",
      "\n",
      "Epoch 132 | Train Accuracy: 55.38% | Train Loss (BCE): 0.6874 | Test Accuracy: 55.50% | Test Loss (BCE): 0.6871\n",
      "\n",
      "Epoch 133 | Train Accuracy: 55.38% | Train Loss (BCE): 0.6874 | Test Accuracy: 55.50% | Test Loss (BCE): 0.6871\n",
      "\n",
      "Epoch 134 | Train Accuracy: 55.38% | Train Loss (BCE): 0.6874 | Test Accuracy: 55.50% | Test Loss (BCE): 0.6871\n",
      "\n",
      "Epoch 135 | Train Accuracy: 55.38% | Train Loss (BCE): 0.6874 | Test Accuracy: 55.50% | Test Loss (BCE): 0.6871\n",
      "\n",
      "Epoch 136 | Train Accuracy: 55.38% | Train Loss (BCE): 0.6874 | Test Accuracy: 55.50% | Test Loss (BCE): 0.6871\n",
      "\n",
      "Epoch 137 | Train Accuracy: 55.38% | Train Loss (BCE): 0.6874 | Test Accuracy: 55.50% | Test Loss (BCE): 0.6871\n",
      "\n",
      "Epoch 138 | Train Accuracy: 55.38% | Train Loss (BCE): 0.6874 | Test Accuracy: 55.50% | Test Loss (BCE): 0.6871\n",
      "\n",
      "Epoch 139 | Train Accuracy: 55.38% | Train Loss (BCE): 0.6874 | Test Accuracy: 55.50% | Test Loss (BCE): 0.6871\n",
      "\n",
      "Epoch 140 | Train Accuracy: 55.38% | Train Loss (BCE): 0.6874 | Test Accuracy: 55.50% | Test Loss (BCE): 0.6871\n",
      "\n",
      "Epoch 141 | Train Accuracy: 55.38% | Train Loss (BCE): 0.6874 | Test Accuracy: 55.50% | Test Loss (BCE): 0.6871\n",
      "\n",
      "Epoch 142 | Train Accuracy: 55.38% | Train Loss (BCE): 0.6874 | Test Accuracy: 55.50% | Test Loss (BCE): 0.6871\n",
      "\n",
      "Epoch 143 | Train Accuracy: 55.38% | Train Loss (BCE): 0.6874 | Test Accuracy: 55.50% | Test Loss (BCE): 0.6871\n",
      "\n",
      "Epoch 144 | Train Accuracy: 55.38% | Train Loss (BCE): 0.6874 | Test Accuracy: 55.50% | Test Loss (BCE): 0.6871\n",
      "\n",
      "Epoch 145 | Train Accuracy: 55.38% | Train Loss (BCE): 0.6874 | Test Accuracy: 55.50% | Test Loss (BCE): 0.6871\n",
      "\n",
      "Epoch 146 | Train Accuracy: 55.38% | Train Loss (BCE): 0.6874 | Test Accuracy: 55.50% | Test Loss (BCE): 0.6871\n",
      "\n",
      "Epoch 147 | Train Accuracy: 55.38% | Train Loss (BCE): 0.6874 | Test Accuracy: 55.50% | Test Loss (BCE): 0.6871\n",
      "\n",
      "Epoch 148 | Train Accuracy: 55.38% | Train Loss (BCE): 0.6874 | Test Accuracy: 55.50% | Test Loss (BCE): 0.6871\n",
      "\n",
      "Epoch 149 | Train Accuracy: 55.38% | Train Loss (BCE): 0.6874 | Test Accuracy: 55.50% | Test Loss (BCE): 0.6871\n",
      "\n",
      "Epoch 150 | Train Accuracy: 55.38% | Train Loss (BCE): 0.6874 | Test Accuracy: 55.50% | Test Loss (BCE): 0.6871\n",
      "\n",
      "Epoch 151 | Train Accuracy: 55.38% | Train Loss (BCE): 0.6874 | Test Accuracy: 55.50% | Test Loss (BCE): 0.6871\n",
      "\n",
      "Epoch 152 | Train Accuracy: 55.38% | Train Loss (BCE): 0.6874 | Test Accuracy: 55.50% | Test Loss (BCE): 0.6871\n",
      "\n",
      "Epoch 153 | Train Accuracy: 55.38% | Train Loss (BCE): 0.6874 | Test Accuracy: 55.50% | Test Loss (BCE): 0.6871\n",
      "\n",
      "Epoch 154 | Train Accuracy: 55.38% | Train Loss (BCE): 0.6874 | Test Accuracy: 55.50% | Test Loss (BCE): 0.6871\n",
      "\n",
      "Epoch 155 | Train Accuracy: 55.38% | Train Loss (BCE): 0.6874 | Test Accuracy: 55.50% | Test Loss (BCE): 0.6871\n",
      "\n",
      "Epoch 156 | Train Accuracy: 55.38% | Train Loss (BCE): 0.6874 | Test Accuracy: 55.50% | Test Loss (BCE): 0.6871\n",
      "\n",
      "Epoch 157 | Train Accuracy: 55.38% | Train Loss (BCE): 0.6874 | Test Accuracy: 55.50% | Test Loss (BCE): 0.6871\n",
      "\n",
      "Epoch 158 | Train Accuracy: 55.38% | Train Loss (BCE): 0.6874 | Test Accuracy: 55.50% | Test Loss (BCE): 0.6871\n",
      "\n",
      "Epoch 159 | Train Accuracy: 55.38% | Train Loss (BCE): 0.6874 | Test Accuracy: 55.50% | Test Loss (BCE): 0.6871\n",
      "\n",
      "Epoch 160 | Train Accuracy: 55.38% | Train Loss (BCE): 0.6874 | Test Accuracy: 55.50% | Test Loss (BCE): 0.6871\n",
      "\n",
      "Epoch 161 | Train Accuracy: 55.38% | Train Loss (BCE): 0.6874 | Test Accuracy: 55.50% | Test Loss (BCE): 0.6871\n",
      "\n",
      "Epoch 162 | Train Accuracy: 55.38% | Train Loss (BCE): 0.6874 | Test Accuracy: 55.50% | Test Loss (BCE): 0.6871\n",
      "\n",
      "Epoch 163 | Train Accuracy: 55.38% | Train Loss (BCE): 0.6874 | Test Accuracy: 55.50% | Test Loss (BCE): 0.6871\n",
      "\n",
      "Epoch 164 | Train Accuracy: 55.38% | Train Loss (BCE): 0.6874 | Test Accuracy: 55.50% | Test Loss (BCE): 0.6871\n",
      "\n",
      "Epoch 165 | Train Accuracy: 55.38% | Train Loss (BCE): 0.6874 | Test Accuracy: 55.50% | Test Loss (BCE): 0.6871\n",
      "\n",
      "Epoch 166 | Train Accuracy: 55.38% | Train Loss (BCE): 0.6874 | Test Accuracy: 55.50% | Test Loss (BCE): 0.6871\n",
      "\n",
      "Epoch 167 | Train Accuracy: 55.38% | Train Loss (BCE): 0.6874 | Test Accuracy: 55.50% | Test Loss (BCE): 0.6871\n",
      "\n",
      "Epoch 168 | Train Accuracy: 55.38% | Train Loss (BCE): 0.6874 | Test Accuracy: 55.50% | Test Loss (BCE): 0.6871\n",
      "\n",
      "Epoch 169 | Train Accuracy: 55.38% | Train Loss (BCE): 0.6874 | Test Accuracy: 55.50% | Test Loss (BCE): 0.6871\n",
      "\n",
      "Epoch 170 | Train Accuracy: 55.38% | Train Loss (BCE): 0.6874 | Test Accuracy: 55.50% | Test Loss (BCE): 0.6871\n",
      "\n",
      "Epoch 171 | Train Accuracy: 55.38% | Train Loss (BCE): 0.6874 | Test Accuracy: 55.50% | Test Loss (BCE): 0.6871\n",
      "\n",
      "Epoch 172 | Train Accuracy: 55.38% | Train Loss (BCE): 0.6874 | Test Accuracy: 55.50% | Test Loss (BCE): 0.6871\n",
      "\n",
      "Epoch 173 | Train Accuracy: 55.38% | Train Loss (BCE): 0.6874 | Test Accuracy: 55.50% | Test Loss (BCE): 0.6871\n",
      "\n",
      "Epoch 174 | Train Accuracy: 55.38% | Train Loss (BCE): 0.6874 | Test Accuracy: 55.50% | Test Loss (BCE): 0.6871\n",
      "\n",
      "Epoch 175 | Train Accuracy: 55.38% | Train Loss (BCE): 0.6874 | Test Accuracy: 55.50% | Test Loss (BCE): 0.6871\n",
      "\n",
      "Epoch 176 | Train Accuracy: 55.38% | Train Loss (BCE): 0.6874 | Test Accuracy: 55.50% | Test Loss (BCE): 0.6871\n",
      "\n",
      "Epoch 177 | Train Accuracy: 55.38% | Train Loss (BCE): 0.6874 | Test Accuracy: 55.50% | Test Loss (BCE): 0.6871\n",
      "\n",
      "Epoch 178 | Train Accuracy: 55.38% | Train Loss (BCE): 0.6874 | Test Accuracy: 55.50% | Test Loss (BCE): 0.6871\n",
      "\n",
      "Epoch 179 | Train Accuracy: 55.38% | Train Loss (BCE): 0.6874 | Test Accuracy: 55.50% | Test Loss (BCE): 0.6871\n",
      "\n",
      "Epoch 180 | Train Accuracy: 55.38% | Train Loss (BCE): 0.6874 | Test Accuracy: 55.50% | Test Loss (BCE): 0.6871\n",
      "\n",
      "Epoch 181 | Train Accuracy: 55.38% | Train Loss (BCE): 0.6874 | Test Accuracy: 55.50% | Test Loss (BCE): 0.6871\n",
      "\n",
      "Epoch 182 | Train Accuracy: 55.38% | Train Loss (BCE): 0.6874 | Test Accuracy: 55.50% | Test Loss (BCE): 0.6871\n",
      "\n",
      "Epoch 183 | Train Accuracy: 55.38% | Train Loss (BCE): 0.6874 | Test Accuracy: 55.50% | Test Loss (BCE): 0.6871\n",
      "\n",
      "Epoch 184 | Train Accuracy: 55.38% | Train Loss (BCE): 0.6874 | Test Accuracy: 55.50% | Test Loss (BCE): 0.6871\n",
      "\n",
      "Epoch 185 | Train Accuracy: 55.38% | Train Loss (BCE): 0.6874 | Test Accuracy: 55.50% | Test Loss (BCE): 0.6871\n",
      "\n",
      "Epoch 186 | Train Accuracy: 55.38% | Train Loss (BCE): 0.6874 | Test Accuracy: 55.50% | Test Loss (BCE): 0.6871\n",
      "\n",
      "Epoch 187 | Train Accuracy: 55.38% | Train Loss (BCE): 0.6874 | Test Accuracy: 55.50% | Test Loss (BCE): 0.6871\n",
      "\n",
      "Epoch 188 | Train Accuracy: 55.38% | Train Loss (BCE): 0.6874 | Test Accuracy: 55.50% | Test Loss (BCE): 0.6871\n",
      "\n",
      "Epoch 189 | Train Accuracy: 55.38% | Train Loss (BCE): 0.6874 | Test Accuracy: 55.50% | Test Loss (BCE): 0.6871\n",
      "\n",
      "Epoch 190 | Train Accuracy: 55.38% | Train Loss (BCE): 0.6874 | Test Accuracy: 55.50% | Test Loss (BCE): 0.6871\n",
      "\n",
      "Epoch 191 | Train Accuracy: 55.38% | Train Loss (BCE): 0.6874 | Test Accuracy: 55.50% | Test Loss (BCE): 0.6871\n",
      "\n",
      "Epoch 192 | Train Accuracy: 55.38% | Train Loss (BCE): 0.6874 | Test Accuracy: 55.50% | Test Loss (BCE): 0.6871\n",
      "\n",
      "Epoch 193 | Train Accuracy: 55.38% | Train Loss (BCE): 0.6874 | Test Accuracy: 55.50% | Test Loss (BCE): 0.6871\n",
      "\n",
      "Epoch 194 | Train Accuracy: 55.38% | Train Loss (BCE): 0.6874 | Test Accuracy: 55.50% | Test Loss (BCE): 0.6871\n",
      "\n",
      "Epoch 195 | Train Accuracy: 55.38% | Train Loss (BCE): 0.6874 | Test Accuracy: 55.50% | Test Loss (BCE): 0.6871\n",
      "\n",
      "Epoch 196 | Train Accuracy: 55.38% | Train Loss (BCE): 0.6874 | Test Accuracy: 55.50% | Test Loss (BCE): 0.6871\n",
      "\n",
      "Epoch 197 | Train Accuracy: 55.38% | Train Loss (BCE): 0.6874 | Test Accuracy: 55.50% | Test Loss (BCE): 0.6871\n",
      "\n",
      "Epoch 198 | Train Accuracy: 55.38% | Train Loss (BCE): 0.6874 | Test Accuracy: 55.50% | Test Loss (BCE): 0.6871\n",
      "\n",
      "Epoch 199 | Train Accuracy: 55.38% | Train Loss (BCE): 0.6874 | Test Accuracy: 55.50% | Test Loss (BCE): 0.6871\n",
      "\n",
      "Epoch 200 | Train Accuracy: 55.38% | Train Loss (BCE): 0.6874 | Test Accuracy: 55.50% | Test Loss (BCE): 0.6871\n",
      "\n",
      "Epoch 201 | Train Accuracy: 55.38% | Train Loss (BCE): 0.6874 | Test Accuracy: 55.50% | Test Loss (BCE): 0.6871\n",
      "\n",
      "Epoch 202 | Train Accuracy: 55.38% | Train Loss (BCE): 0.6874 | Test Accuracy: 55.50% | Test Loss (BCE): 0.6871\n",
      "\n",
      "Epoch 203 | Train Accuracy: 55.38% | Train Loss (BCE): 0.6874 | Test Accuracy: 55.50% | Test Loss (BCE): 0.6871\n",
      "\n",
      "Epoch 204 | Train Accuracy: 55.38% | Train Loss (BCE): 0.6874 | Test Accuracy: 55.50% | Test Loss (BCE): 0.6871\n",
      "\n",
      "Epoch 205 | Train Accuracy: 55.38% | Train Loss (BCE): 0.6874 | Test Accuracy: 55.50% | Test Loss (BCE): 0.6871\n",
      "\n",
      "Epoch 206 | Train Accuracy: 55.38% | Train Loss (BCE): 0.6874 | Test Accuracy: 55.50% | Test Loss (BCE): 0.6871\n",
      "\n",
      "Epoch 207 | Train Accuracy: 55.38% | Train Loss (BCE): 0.6874 | Test Accuracy: 55.50% | Test Loss (BCE): 0.6871\n",
      "\n",
      "Epoch 208 | Train Accuracy: 55.38% | Train Loss (BCE): 0.6874 | Test Accuracy: 55.50% | Test Loss (BCE): 0.6871\n",
      "\n",
      "Epoch 209 | Train Accuracy: 55.38% | Train Loss (BCE): 0.6874 | Test Accuracy: 55.50% | Test Loss (BCE): 0.6871\n",
      "\n",
      "Epoch 210 | Train Accuracy: 55.38% | Train Loss (BCE): 0.6874 | Test Accuracy: 55.50% | Test Loss (BCE): 0.6871\n",
      "\n",
      "Epoch 211 | Train Accuracy: 55.38% | Train Loss (BCE): 0.6874 | Test Accuracy: 55.50% | Test Loss (BCE): 0.6871\n",
      "\n",
      "Epoch 212 | Train Accuracy: 55.38% | Train Loss (BCE): 0.6874 | Test Accuracy: 55.50% | Test Loss (BCE): 0.6871\n",
      "\n",
      "Epoch 213 | Train Accuracy: 55.38% | Train Loss (BCE): 0.6874 | Test Accuracy: 55.50% | Test Loss (BCE): 0.6871\n",
      "\n",
      "Epoch 214 | Train Accuracy: 55.38% | Train Loss (BCE): 0.6874 | Test Accuracy: 55.50% | Test Loss (BCE): 0.6871\n",
      "\n",
      "Epoch 215 | Train Accuracy: 55.38% | Train Loss (BCE): 0.6874 | Test Accuracy: 55.50% | Test Loss (BCE): 0.6871\n",
      "\n",
      "Epoch 216 | Train Accuracy: 55.38% | Train Loss (BCE): 0.6874 | Test Accuracy: 55.50% | Test Loss (BCE): 0.6871\n",
      "\n",
      "Epoch 217 | Train Accuracy: 55.38% | Train Loss (BCE): 0.6874 | Test Accuracy: 55.50% | Test Loss (BCE): 0.6871\n",
      "\n",
      "Epoch 218 | Train Accuracy: 55.38% | Train Loss (BCE): 0.6874 | Test Accuracy: 55.50% | Test Loss (BCE): 0.6871\n",
      "\n",
      "Epoch 219 | Train Accuracy: 55.38% | Train Loss (BCE): 0.6874 | Test Accuracy: 55.50% | Test Loss (BCE): 0.6871\n",
      "\n",
      "Epoch 220 | Train Accuracy: 55.38% | Train Loss (BCE): 0.6874 | Test Accuracy: 55.50% | Test Loss (BCE): 0.6871\n",
      "\n",
      "Epoch 221 | Train Accuracy: 55.38% | Train Loss (BCE): 0.6874 | Test Accuracy: 55.50% | Test Loss (BCE): 0.6871\n",
      "\n",
      "Epoch 222 | Train Accuracy: 55.38% | Train Loss (BCE): 0.6874 | Test Accuracy: 55.50% | Test Loss (BCE): 0.6871\n",
      "\n",
      "Epoch 223 | Train Accuracy: 55.38% | Train Loss (BCE): 0.6874 | Test Accuracy: 55.50% | Test Loss (BCE): 0.6871\n",
      "\n",
      "Epoch 224 | Train Accuracy: 55.38% | Train Loss (BCE): 0.6874 | Test Accuracy: 55.50% | Test Loss (BCE): 0.6871\n",
      "\n",
      "Epoch 225 | Train Accuracy: 55.38% | Train Loss (BCE): 0.6874 | Test Accuracy: 55.50% | Test Loss (BCE): 0.6871\n",
      "\n",
      "Epoch 226 | Train Accuracy: 55.38% | Train Loss (BCE): 0.6874 | Test Accuracy: 55.50% | Test Loss (BCE): 0.6871\n",
      "\n",
      "Epoch 227 | Train Accuracy: 55.38% | Train Loss (BCE): 0.6874 | Test Accuracy: 55.50% | Test Loss (BCE): 0.6871\n",
      "\n",
      "Epoch 228 | Train Accuracy: 55.38% | Train Loss (BCE): 0.6874 | Test Accuracy: 55.50% | Test Loss (BCE): 0.6871\n",
      "\n",
      "Epoch 229 | Train Accuracy: 55.38% | Train Loss (BCE): 0.6874 | Test Accuracy: 55.50% | Test Loss (BCE): 0.6871\n",
      "\n",
      "Epoch 230 | Train Accuracy: 55.38% | Train Loss (BCE): 0.6874 | Test Accuracy: 55.50% | Test Loss (BCE): 0.6871\n",
      "\n",
      "Epoch 231 | Train Accuracy: 55.38% | Train Loss (BCE): 0.6874 | Test Accuracy: 55.50% | Test Loss (BCE): 0.6871\n",
      "\n",
      "Epoch 232 | Train Accuracy: 55.38% | Train Loss (BCE): 0.6874 | Test Accuracy: 55.50% | Test Loss (BCE): 0.6871\n",
      "\n",
      "Epoch 233 | Train Accuracy: 55.38% | Train Loss (BCE): 0.6874 | Test Accuracy: 55.50% | Test Loss (BCE): 0.6871\n",
      "\n",
      "Epoch 234 | Train Accuracy: 55.38% | Train Loss (BCE): 0.6874 | Test Accuracy: 55.50% | Test Loss (BCE): 0.6871\n",
      "\n",
      "Epoch 235 | Train Accuracy: 55.38% | Train Loss (BCE): 0.6874 | Test Accuracy: 55.50% | Test Loss (BCE): 0.6871\n",
      "\n",
      "Epoch 236 | Train Accuracy: 55.38% | Train Loss (BCE): 0.6874 | Test Accuracy: 55.50% | Test Loss (BCE): 0.6871\n",
      "\n",
      "Epoch 237 | Train Accuracy: 55.38% | Train Loss (BCE): 0.6874 | Test Accuracy: 55.50% | Test Loss (BCE): 0.6871\n",
      "\n",
      "Epoch 238 | Train Accuracy: 55.38% | Train Loss (BCE): 0.6874 | Test Accuracy: 55.50% | Test Loss (BCE): 0.6871\n",
      "\n",
      "Epoch 239 | Train Accuracy: 55.38% | Train Loss (BCE): 0.6874 | Test Accuracy: 55.50% | Test Loss (BCE): 0.6871\n",
      "\n",
      "Epoch 240 | Train Accuracy: 55.38% | Train Loss (BCE): 0.6874 | Test Accuracy: 55.50% | Test Loss (BCE): 0.6871\n",
      "\n",
      "Epoch 241 | Train Accuracy: 55.38% | Train Loss (BCE): 0.6874 | Test Accuracy: 55.50% | Test Loss (BCE): 0.6871\n",
      "\n",
      "Epoch 242 | Train Accuracy: 55.38% | Train Loss (BCE): 0.6874 | Test Accuracy: 55.50% | Test Loss (BCE): 0.6871\n",
      "\n",
      "Epoch 243 | Train Accuracy: 55.38% | Train Loss (BCE): 0.6874 | Test Accuracy: 55.50% | Test Loss (BCE): 0.6871\n",
      "\n",
      "Epoch 244 | Train Accuracy: 55.38% | Train Loss (BCE): 0.6874 | Test Accuracy: 55.50% | Test Loss (BCE): 0.6871\n",
      "\n",
      "Epoch 245 | Train Accuracy: 55.38% | Train Loss (BCE): 0.6874 | Test Accuracy: 55.50% | Test Loss (BCE): 0.6871\n",
      "\n",
      "Epoch 246 | Train Accuracy: 55.38% | Train Loss (BCE): 0.6874 | Test Accuracy: 55.50% | Test Loss (BCE): 0.6871\n",
      "\n",
      "Epoch 247 | Train Accuracy: 55.38% | Train Loss (BCE): 0.6874 | Test Accuracy: 55.50% | Test Loss (BCE): 0.6871\n",
      "\n",
      "Epoch 248 | Train Accuracy: 55.38% | Train Loss (BCE): 0.6874 | Test Accuracy: 55.50% | Test Loss (BCE): 0.6871\n",
      "\n",
      "Epoch 249 | Train Accuracy: 55.38% | Train Loss (BCE): 0.6874 | Test Accuracy: 55.50% | Test Loss (BCE): 0.6871\n",
      "\n",
      "Epoch 250 | Train Accuracy: 55.38% | Train Loss (BCE): 0.6874 | Test Accuracy: 55.50% | Test Loss (BCE): 0.6871\n",
      "\n",
      "Epoch 251 | Train Accuracy: 55.38% | Train Loss (BCE): 0.6874 | Test Accuracy: 55.50% | Test Loss (BCE): 0.6871\n",
      "\n",
      "Epoch 252 | Train Accuracy: 55.38% | Train Loss (BCE): 0.6874 | Test Accuracy: 55.50% | Test Loss (BCE): 0.6871\n",
      "\n",
      "Epoch 253 | Train Accuracy: 55.38% | Train Loss (BCE): 0.6874 | Test Accuracy: 55.50% | Test Loss (BCE): 0.6871\n",
      "\n",
      "Epoch 254 | Train Accuracy: 55.38% | Train Loss (BCE): 0.6874 | Test Accuracy: 55.50% | Test Loss (BCE): 0.6871\n",
      "\n",
      "Epoch 255 | Train Accuracy: 55.38% | Train Loss (BCE): 0.6874 | Test Accuracy: 55.50% | Test Loss (BCE): 0.6871\n",
      "\n",
      "Epoch 256 | Train Accuracy: 55.38% | Train Loss (BCE): 0.6874 | Test Accuracy: 55.50% | Test Loss (BCE): 0.6871\n",
      "\n",
      "Epoch 257 | Train Accuracy: 55.38% | Train Loss (BCE): 0.6874 | Test Accuracy: 55.50% | Test Loss (BCE): 0.6871\n",
      "\n",
      "Epoch 258 | Train Accuracy: 55.38% | Train Loss (BCE): 0.6874 | Test Accuracy: 55.50% | Test Loss (BCE): 0.6871\n",
      "\n",
      "Epoch 259 | Train Accuracy: 55.38% | Train Loss (BCE): 0.6874 | Test Accuracy: 55.50% | Test Loss (BCE): 0.6871\n",
      "\n",
      "Epoch 260 | Train Accuracy: 55.38% | Train Loss (BCE): 0.6874 | Test Accuracy: 55.50% | Test Loss (BCE): 0.6871\n",
      "\n",
      "Epoch 261 | Train Accuracy: 55.38% | Train Loss (BCE): 0.6874 | Test Accuracy: 55.50% | Test Loss (BCE): 0.6871\n",
      "\n",
      "Epoch 262 | Train Accuracy: 55.38% | Train Loss (BCE): 0.6874 | Test Accuracy: 55.50% | Test Loss (BCE): 0.6871\n",
      "\n",
      "Epoch 263 | Train Accuracy: 55.38% | Train Loss (BCE): 0.6874 | Test Accuracy: 55.50% | Test Loss (BCE): 0.6871\n",
      "\n",
      "Epoch 264 | Train Accuracy: 55.38% | Train Loss (BCE): 0.6874 | Test Accuracy: 55.50% | Test Loss (BCE): 0.6871\n",
      "\n",
      "Epoch 265 | Train Accuracy: 55.38% | Train Loss (BCE): 0.6874 | Test Accuracy: 55.50% | Test Loss (BCE): 0.6871\n",
      "\n",
      "Epoch 266 | Train Accuracy: 55.38% | Train Loss (BCE): 0.6874 | Test Accuracy: 55.50% | Test Loss (BCE): 0.6871\n",
      "\n",
      "Epoch 267 | Train Accuracy: 55.38% | Train Loss (BCE): 0.6874 | Test Accuracy: 55.50% | Test Loss (BCE): 0.6871\n",
      "\n",
      "Epoch 268 | Train Accuracy: 55.38% | Train Loss (BCE): 0.6874 | Test Accuracy: 55.50% | Test Loss (BCE): 0.6871\n",
      "\n",
      "Epoch 269 | Train Accuracy: 55.38% | Train Loss (BCE): 0.6874 | Test Accuracy: 55.50% | Test Loss (BCE): 0.6871\n",
      "\n",
      "Epoch 270 | Train Accuracy: 55.38% | Train Loss (BCE): 0.6874 | Test Accuracy: 55.50% | Test Loss (BCE): 0.6871\n",
      "\n",
      "Epoch 271 | Train Accuracy: 55.38% | Train Loss (BCE): 0.6874 | Test Accuracy: 55.50% | Test Loss (BCE): 0.6871\n",
      "\n",
      "Epoch 272 | Train Accuracy: 55.38% | Train Loss (BCE): 0.6874 | Test Accuracy: 55.50% | Test Loss (BCE): 0.6871\n",
      "\n",
      "Epoch 273 | Train Accuracy: 55.38% | Train Loss (BCE): 0.6874 | Test Accuracy: 55.50% | Test Loss (BCE): 0.6871\n",
      "\n",
      "Epoch 274 | Train Accuracy: 55.38% | Train Loss (BCE): 0.6874 | Test Accuracy: 55.50% | Test Loss (BCE): 0.6871\n",
      "\n",
      "Epoch 275 | Train Accuracy: 55.38% | Train Loss (BCE): 0.6874 | Test Accuracy: 55.50% | Test Loss (BCE): 0.6871\n",
      "\n",
      "Epoch 276 | Train Accuracy: 55.38% | Train Loss (BCE): 0.6874 | Test Accuracy: 55.50% | Test Loss (BCE): 0.6871\n",
      "\n",
      "Epoch 277 | Train Accuracy: 55.38% | Train Loss (BCE): 0.6874 | Test Accuracy: 55.50% | Test Loss (BCE): 0.6871\n",
      "\n",
      "Epoch 278 | Train Accuracy: 55.38% | Train Loss (BCE): 0.6874 | Test Accuracy: 55.50% | Test Loss (BCE): 0.6871\n",
      "\n",
      "Epoch 279 | Train Accuracy: 55.38% | Train Loss (BCE): 0.6874 | Test Accuracy: 55.50% | Test Loss (BCE): 0.6871\n",
      "\n",
      "Epoch 280 | Train Accuracy: 55.38% | Train Loss (BCE): 0.6874 | Test Accuracy: 55.50% | Test Loss (BCE): 0.6871\n",
      "\n",
      "Epoch 281 | Train Accuracy: 55.38% | Train Loss (BCE): 0.6874 | Test Accuracy: 55.50% | Test Loss (BCE): 0.6871\n",
      "\n",
      "Epoch 282 | Train Accuracy: 55.38% | Train Loss (BCE): 0.6874 | Test Accuracy: 55.50% | Test Loss (BCE): 0.6871\n",
      "\n",
      "Epoch 283 | Train Accuracy: 55.38% | Train Loss (BCE): 0.6874 | Test Accuracy: 55.50% | Test Loss (BCE): 0.6871\n",
      "\n",
      "Epoch 284 | Train Accuracy: 55.38% | Train Loss (BCE): 0.6874 | Test Accuracy: 55.50% | Test Loss (BCE): 0.6871\n",
      "\n",
      "Epoch 285 | Train Accuracy: 55.38% | Train Loss (BCE): 0.6874 | Test Accuracy: 55.50% | Test Loss (BCE): 0.6871\n",
      "\n",
      "Epoch 286 | Train Accuracy: 55.38% | Train Loss (BCE): 0.6874 | Test Accuracy: 55.50% | Test Loss (BCE): 0.6871\n",
      "\n",
      "Epoch 287 | Train Accuracy: 55.38% | Train Loss (BCE): 0.6874 | Test Accuracy: 55.50% | Test Loss (BCE): 0.6871\n",
      "\n",
      "Epoch 288 | Train Accuracy: 55.38% | Train Loss (BCE): 0.6874 | Test Accuracy: 55.50% | Test Loss (BCE): 0.6871\n",
      "\n",
      "Epoch 289 | Train Accuracy: 55.38% | Train Loss (BCE): 0.6874 | Test Accuracy: 55.50% | Test Loss (BCE): 0.6871\n",
      "\n",
      "Epoch 290 | Train Accuracy: 55.38% | Train Loss (BCE): 0.6874 | Test Accuracy: 55.50% | Test Loss (BCE): 0.6871\n",
      "\n",
      "Epoch 291 | Train Accuracy: 55.38% | Train Loss (BCE): 0.6874 | Test Accuracy: 55.50% | Test Loss (BCE): 0.6871\n",
      "\n",
      "Epoch 292 | Train Accuracy: 55.38% | Train Loss (BCE): 0.6874 | Test Accuracy: 55.50% | Test Loss (BCE): 0.6871\n",
      "\n",
      "Epoch 293 | Train Accuracy: 55.38% | Train Loss (BCE): 0.6874 | Test Accuracy: 55.50% | Test Loss (BCE): 0.6871\n",
      "\n",
      "Epoch 294 | Train Accuracy: 55.38% | Train Loss (BCE): 0.6874 | Test Accuracy: 55.50% | Test Loss (BCE): 0.6871\n",
      "\n",
      "Epoch 295 | Train Accuracy: 55.38% | Train Loss (BCE): 0.6874 | Test Accuracy: 55.50% | Test Loss (BCE): 0.6871\n",
      "\n",
      "Epoch 296 | Train Accuracy: 55.38% | Train Loss (BCE): 0.6874 | Test Accuracy: 55.50% | Test Loss (BCE): 0.6871\n",
      "\n",
      "Epoch 297 | Train Accuracy: 55.38% | Train Loss (BCE): 0.6874 | Test Accuracy: 55.50% | Test Loss (BCE): 0.6871\n",
      "\n",
      "Epoch 298 | Train Accuracy: 55.38% | Train Loss (BCE): 0.6874 | Test Accuracy: 55.50% | Test Loss (BCE): 0.6871\n",
      "\n",
      "Epoch 299 | Train Accuracy: 55.38% | Train Loss (BCE): 0.6874 | Test Accuracy: 55.50% | Test Loss (BCE): 0.6871\n",
      "\n",
      "Epoch 300 | Train Accuracy: 55.38% | Train Loss (BCE): 0.6874 | Test Accuracy: 55.50% | Test Loss (BCE): 0.6871\n",
      "\n",
      "Epoch 301 | Train Accuracy: 55.38% | Train Loss (BCE): 0.6874 | Test Accuracy: 55.50% | Test Loss (BCE): 0.6871\n",
      "\n",
      "Epoch 302 | Train Accuracy: 55.38% | Train Loss (BCE): 0.6874 | Test Accuracy: 55.50% | Test Loss (BCE): 0.6871\n",
      "\n",
      "Epoch 303 | Train Accuracy: 55.38% | Train Loss (BCE): 0.6874 | Test Accuracy: 55.50% | Test Loss (BCE): 0.6871\n",
      "\n",
      "Epoch 304 | Train Accuracy: 55.38% | Train Loss (BCE): 0.6874 | Test Accuracy: 55.50% | Test Loss (BCE): 0.6871\n",
      "\n",
      "Epoch 305 | Train Accuracy: 55.38% | Train Loss (BCE): 0.6874 | Test Accuracy: 55.50% | Test Loss (BCE): 0.6871\n",
      "\n",
      "Epoch 306 | Train Accuracy: 55.38% | Train Loss (BCE): 0.6874 | Test Accuracy: 55.50% | Test Loss (BCE): 0.6871\n",
      "\n",
      "Epoch 307 | Train Accuracy: 55.38% | Train Loss (BCE): 0.6874 | Test Accuracy: 55.50% | Test Loss (BCE): 0.6871\n",
      "\n",
      "Epoch 308 | Train Accuracy: 55.38% | Train Loss (BCE): 0.6874 | Test Accuracy: 55.50% | Test Loss (BCE): 0.6871\n",
      "\n",
      "Epoch 309 | Train Accuracy: 55.38% | Train Loss (BCE): 0.6874 | Test Accuracy: 55.50% | Test Loss (BCE): 0.6871\n",
      "\n",
      "Epoch 310 | Train Accuracy: 55.38% | Train Loss (BCE): 0.6874 | Test Accuracy: 55.50% | Test Loss (BCE): 0.6871\n",
      "\n",
      "Epoch 311 | Train Accuracy: 55.38% | Train Loss (BCE): 0.6874 | Test Accuracy: 55.50% | Test Loss (BCE): 0.6871\n",
      "\n",
      "Epoch 312 | Train Accuracy: 55.38% | Train Loss (BCE): 0.6874 | Test Accuracy: 55.50% | Test Loss (BCE): 0.6871\n",
      "\n",
      "Epoch 313 | Train Accuracy: 55.38% | Train Loss (BCE): 0.6874 | Test Accuracy: 55.50% | Test Loss (BCE): 0.6871\n",
      "\n",
      "Epoch 314 | Train Accuracy: 55.38% | Train Loss (BCE): 0.6874 | Test Accuracy: 55.50% | Test Loss (BCE): 0.6871\n",
      "\n",
      "Epoch 315 | Train Accuracy: 55.38% | Train Loss (BCE): 0.6874 | Test Accuracy: 55.50% | Test Loss (BCE): 0.6871\n",
      "\n",
      "Epoch 316 | Train Accuracy: 55.38% | Train Loss (BCE): 0.6874 | Test Accuracy: 55.50% | Test Loss (BCE): 0.6871\n",
      "\n",
      "Epoch 317 | Train Accuracy: 55.38% | Train Loss (BCE): 0.6874 | Test Accuracy: 55.50% | Test Loss (BCE): 0.6871\n",
      "\n",
      "Epoch 318 | Train Accuracy: 55.38% | Train Loss (BCE): 0.6874 | Test Accuracy: 55.50% | Test Loss (BCE): 0.6871\n",
      "\n",
      "Epoch 319 | Train Accuracy: 55.38% | Train Loss (BCE): 0.6874 | Test Accuracy: 55.50% | Test Loss (BCE): 0.6871\n",
      "\n",
      "Epoch 320 | Train Accuracy: 55.38% | Train Loss (BCE): 0.6874 | Test Accuracy: 55.50% | Test Loss (BCE): 0.6871\n",
      "\n",
      "Epoch 321 | Train Accuracy: 55.38% | Train Loss (BCE): 0.6874 | Test Accuracy: 55.50% | Test Loss (BCE): 0.6871\n",
      "\n",
      "Epoch 322 | Train Accuracy: 55.38% | Train Loss (BCE): 0.6874 | Test Accuracy: 55.50% | Test Loss (BCE): 0.6871\n",
      "\n",
      "Epoch 323 | Train Accuracy: 55.38% | Train Loss (BCE): 0.6874 | Test Accuracy: 55.50% | Test Loss (BCE): 0.6871\n",
      "\n",
      "Epoch 324 | Train Accuracy: 55.38% | Train Loss (BCE): 0.6874 | Test Accuracy: 55.50% | Test Loss (BCE): 0.6871\n",
      "\n",
      "Epoch 325 | Train Accuracy: 55.38% | Train Loss (BCE): 0.6874 | Test Accuracy: 55.50% | Test Loss (BCE): 0.6871\n",
      "\n",
      "Epoch 326 | Train Accuracy: 55.38% | Train Loss (BCE): 0.6874 | Test Accuracy: 55.50% | Test Loss (BCE): 0.6871\n",
      "\n",
      "Epoch 327 | Train Accuracy: 55.38% | Train Loss (BCE): 0.6874 | Test Accuracy: 55.50% | Test Loss (BCE): 0.6871\n",
      "\n",
      "Epoch 328 | Train Accuracy: 55.38% | Train Loss (BCE): 0.6874 | Test Accuracy: 55.50% | Test Loss (BCE): 0.6871\n",
      "\n",
      "Epoch 329 | Train Accuracy: 55.38% | Train Loss (BCE): 0.6874 | Test Accuracy: 55.50% | Test Loss (BCE): 0.6871\n",
      "\n",
      "Epoch 330 | Train Accuracy: 55.38% | Train Loss (BCE): 0.6874 | Test Accuracy: 55.50% | Test Loss (BCE): 0.6871\n",
      "\n",
      "Epoch 331 | Train Accuracy: 55.38% | Train Loss (BCE): 0.6874 | Test Accuracy: 55.50% | Test Loss (BCE): 0.6871\n",
      "\n",
      "Epoch 332 | Train Accuracy: 55.38% | Train Loss (BCE): 0.6874 | Test Accuracy: 55.50% | Test Loss (BCE): 0.6871\n",
      "\n",
      "Epoch 333 | Train Accuracy: 55.38% | Train Loss (BCE): 0.6874 | Test Accuracy: 55.50% | Test Loss (BCE): 0.6871\n",
      "\n",
      "Epoch 334 | Train Accuracy: 55.38% | Train Loss (BCE): 0.6874 | Test Accuracy: 55.50% | Test Loss (BCE): 0.6871\n",
      "\n",
      "Epoch 335 | Train Accuracy: 55.38% | Train Loss (BCE): 0.6874 | Test Accuracy: 55.50% | Test Loss (BCE): 0.6871\n",
      "\n",
      "Epoch 336 | Train Accuracy: 55.38% | Train Loss (BCE): 0.6874 | Test Accuracy: 55.50% | Test Loss (BCE): 0.6871\n",
      "\n",
      "Epoch 337 | Train Accuracy: 55.38% | Train Loss (BCE): 0.6874 | Test Accuracy: 55.50% | Test Loss (BCE): 0.6871\n",
      "\n",
      "Epoch 338 | Train Accuracy: 55.38% | Train Loss (BCE): 0.6874 | Test Accuracy: 55.50% | Test Loss (BCE): 0.6871\n",
      "\n",
      "Epoch 339 | Train Accuracy: 55.38% | Train Loss (BCE): 0.6874 | Test Accuracy: 55.50% | Test Loss (BCE): 0.6871\n",
      "\n",
      "Epoch 340 | Train Accuracy: 55.38% | Train Loss (BCE): 0.6874 | Test Accuracy: 55.50% | Test Loss (BCE): 0.6871\n",
      "\n",
      "Epoch 341 | Train Accuracy: 55.38% | Train Loss (BCE): 0.6874 | Test Accuracy: 55.50% | Test Loss (BCE): 0.6871\n",
      "\n",
      "Epoch 342 | Train Accuracy: 55.38% | Train Loss (BCE): 0.6874 | Test Accuracy: 55.50% | Test Loss (BCE): 0.6871\n",
      "\n",
      "Epoch 343 | Train Accuracy: 55.38% | Train Loss (BCE): 0.6874 | Test Accuracy: 55.50% | Test Loss (BCE): 0.6871\n",
      "\n",
      "Epoch 344 | Train Accuracy: 55.38% | Train Loss (BCE): 0.6874 | Test Accuracy: 55.50% | Test Loss (BCE): 0.6871\n",
      "\n",
      "Epoch 345 | Train Accuracy: 55.38% | Train Loss (BCE): 0.6874 | Test Accuracy: 55.50% | Test Loss (BCE): 0.6871\n",
      "\n",
      "Epoch 346 | Train Accuracy: 55.38% | Train Loss (BCE): 0.6874 | Test Accuracy: 55.50% | Test Loss (BCE): 0.6871\n",
      "\n",
      "Epoch 347 | Train Accuracy: 55.38% | Train Loss (BCE): 0.6874 | Test Accuracy: 55.50% | Test Loss (BCE): 0.6871\n",
      "\n",
      "Epoch 348 | Train Accuracy: 55.38% | Train Loss (BCE): 0.6874 | Test Accuracy: 55.50% | Test Loss (BCE): 0.6871\n",
      "\n",
      "Epoch 349 | Train Accuracy: 55.38% | Train Loss (BCE): 0.6874 | Test Accuracy: 55.50% | Test Loss (BCE): 0.6871\n",
      "\n",
      "Epoch 350 | Train Accuracy: 55.38% | Train Loss (BCE): 0.6874 | Test Accuracy: 55.50% | Test Loss (BCE): 0.6871\n",
      "\n",
      "Epoch 351 | Train Accuracy: 55.38% | Train Loss (BCE): 0.6874 | Test Accuracy: 55.50% | Test Loss (BCE): 0.6871\n",
      "\n",
      "Epoch 352 | Train Accuracy: 55.38% | Train Loss (BCE): 0.6874 | Test Accuracy: 55.50% | Test Loss (BCE): 0.6871\n",
      "\n",
      "Epoch 353 | Train Accuracy: 55.38% | Train Loss (BCE): 0.6874 | Test Accuracy: 55.50% | Test Loss (BCE): 0.6871\n",
      "\n",
      "Epoch 354 | Train Accuracy: 55.38% | Train Loss (BCE): 0.6874 | Test Accuracy: 55.50% | Test Loss (BCE): 0.6871\n",
      "\n",
      "Epoch 355 | Train Accuracy: 55.38% | Train Loss (BCE): 0.6874 | Test Accuracy: 55.50% | Test Loss (BCE): 0.6871\n",
      "\n",
      "Epoch 356 | Train Accuracy: 55.38% | Train Loss (BCE): 0.6874 | Test Accuracy: 55.50% | Test Loss (BCE): 0.6871\n",
      "\n",
      "Epoch 357 | Train Accuracy: 55.38% | Train Loss (BCE): 0.6874 | Test Accuracy: 55.50% | Test Loss (BCE): 0.6871\n",
      "\n",
      "Epoch 358 | Train Accuracy: 55.38% | Train Loss (BCE): 0.6874 | Test Accuracy: 55.50% | Test Loss (BCE): 0.6871\n",
      "\n",
      "Epoch 359 | Train Accuracy: 55.38% | Train Loss (BCE): 0.6874 | Test Accuracy: 55.50% | Test Loss (BCE): 0.6871\n",
      "\n",
      "Epoch 360 | Train Accuracy: 55.38% | Train Loss (BCE): 0.6874 | Test Accuracy: 55.50% | Test Loss (BCE): 0.6871\n",
      "\n",
      "Epoch 361 | Train Accuracy: 55.38% | Train Loss (BCE): 0.6874 | Test Accuracy: 55.50% | Test Loss (BCE): 0.6871\n",
      "\n",
      "Epoch 362 | Train Accuracy: 55.38% | Train Loss (BCE): 0.6874 | Test Accuracy: 55.50% | Test Loss (BCE): 0.6871\n",
      "\n",
      "Epoch 363 | Train Accuracy: 55.38% | Train Loss (BCE): 0.6874 | Test Accuracy: 55.50% | Test Loss (BCE): 0.6871\n",
      "\n",
      "Epoch 364 | Train Accuracy: 55.38% | Train Loss (BCE): 0.6874 | Test Accuracy: 55.50% | Test Loss (BCE): 0.6871\n",
      "\n",
      "Epoch 365 | Train Accuracy: 55.38% | Train Loss (BCE): 0.6874 | Test Accuracy: 55.50% | Test Loss (BCE): 0.6871\n",
      "\n",
      "Epoch 366 | Train Accuracy: 55.38% | Train Loss (BCE): 0.6874 | Test Accuracy: 55.50% | Test Loss (BCE): 0.6871\n",
      "\n",
      "Epoch 367 | Train Accuracy: 55.38% | Train Loss (BCE): 0.6874 | Test Accuracy: 55.50% | Test Loss (BCE): 0.6871\n",
      "\n",
      "Epoch 368 | Train Accuracy: 55.38% | Train Loss (BCE): 0.6874 | Test Accuracy: 55.50% | Test Loss (BCE): 0.6871\n",
      "\n",
      "Epoch 369 | Train Accuracy: 55.38% | Train Loss (BCE): 0.6874 | Test Accuracy: 55.50% | Test Loss (BCE): 0.6871\n",
      "\n",
      "Epoch 370 | Train Accuracy: 55.38% | Train Loss (BCE): 0.6874 | Test Accuracy: 55.50% | Test Loss (BCE): 0.6871\n",
      "\n",
      "Epoch 371 | Train Accuracy: 55.38% | Train Loss (BCE): 0.6874 | Test Accuracy: 55.50% | Test Loss (BCE): 0.6871\n",
      "\n",
      "Epoch 372 | Train Accuracy: 55.38% | Train Loss (BCE): 0.6874 | Test Accuracy: 55.50% | Test Loss (BCE): 0.6871\n",
      "\n",
      "Epoch 373 | Train Accuracy: 55.38% | Train Loss (BCE): 0.6874 | Test Accuracy: 55.50% | Test Loss (BCE): 0.6871\n",
      "\n",
      "Epoch 374 | Train Accuracy: 55.38% | Train Loss (BCE): 0.6874 | Test Accuracy: 55.50% | Test Loss (BCE): 0.6871\n",
      "\n",
      "Epoch 375 | Train Accuracy: 55.38% | Train Loss (BCE): 0.6874 | Test Accuracy: 55.50% | Test Loss (BCE): 0.6871\n",
      "\n",
      "Epoch 376 | Train Accuracy: 55.38% | Train Loss (BCE): 0.6874 | Test Accuracy: 55.50% | Test Loss (BCE): 0.6871\n",
      "\n",
      "Epoch 377 | Train Accuracy: 55.38% | Train Loss (BCE): 0.6874 | Test Accuracy: 55.50% | Test Loss (BCE): 0.6871\n",
      "\n",
      "Epoch 378 | Train Accuracy: 55.38% | Train Loss (BCE): 0.6874 | Test Accuracy: 55.50% | Test Loss (BCE): 0.6871\n",
      "\n",
      "Epoch 379 | Train Accuracy: 55.38% | Train Loss (BCE): 0.6874 | Test Accuracy: 55.50% | Test Loss (BCE): 0.6871\n",
      "\n",
      "Epoch 380 | Train Accuracy: 55.38% | Train Loss (BCE): 0.6874 | Test Accuracy: 55.50% | Test Loss (BCE): 0.6871\n",
      "\n",
      "Epoch 381 | Train Accuracy: 55.38% | Train Loss (BCE): 0.6874 | Test Accuracy: 55.50% | Test Loss (BCE): 0.6871\n",
      "\n",
      "Epoch 382 | Train Accuracy: 55.38% | Train Loss (BCE): 0.6874 | Test Accuracy: 55.50% | Test Loss (BCE): 0.6871\n",
      "\n",
      "Epoch 383 | Train Accuracy: 55.38% | Train Loss (BCE): 0.6874 | Test Accuracy: 55.50% | Test Loss (BCE): 0.6871\n",
      "\n",
      "Epoch 384 | Train Accuracy: 55.38% | Train Loss (BCE): 0.6874 | Test Accuracy: 55.50% | Test Loss (BCE): 0.6871\n",
      "\n",
      "Epoch 385 | Train Accuracy: 55.38% | Train Loss (BCE): 0.6874 | Test Accuracy: 55.50% | Test Loss (BCE): 0.6871\n",
      "\n",
      "Epoch 386 | Train Accuracy: 55.38% | Train Loss (BCE): 0.6874 | Test Accuracy: 55.50% | Test Loss (BCE): 0.6871\n",
      "\n",
      "Epoch 387 | Train Accuracy: 55.38% | Train Loss (BCE): 0.6874 | Test Accuracy: 55.50% | Test Loss (BCE): 0.6871\n",
      "\n",
      "Epoch 388 | Train Accuracy: 55.38% | Train Loss (BCE): 0.6874 | Test Accuracy: 55.50% | Test Loss (BCE): 0.6871\n",
      "\n",
      "Epoch 389 | Train Accuracy: 55.38% | Train Loss (BCE): 0.6874 | Test Accuracy: 55.50% | Test Loss (BCE): 0.6871\n",
      "\n",
      "Epoch 390 | Train Accuracy: 55.38% | Train Loss (BCE): 0.6874 | Test Accuracy: 55.50% | Test Loss (BCE): 0.6871\n",
      "\n",
      "Epoch 391 | Train Accuracy: 55.38% | Train Loss (BCE): 0.6874 | Test Accuracy: 55.50% | Test Loss (BCE): 0.6871\n",
      "\n",
      "Epoch 392 | Train Accuracy: 55.38% | Train Loss (BCE): 0.6874 | Test Accuracy: 55.50% | Test Loss (BCE): 0.6871\n",
      "\n",
      "Epoch 393 | Train Accuracy: 55.38% | Train Loss (BCE): 0.6874 | Test Accuracy: 55.50% | Test Loss (BCE): 0.6871\n",
      "\n",
      "Epoch 394 | Train Accuracy: 55.38% | Train Loss (BCE): 0.6874 | Test Accuracy: 55.50% | Test Loss (BCE): 0.6871\n",
      "\n",
      "Epoch 395 | Train Accuracy: 55.38% | Train Loss (BCE): 0.6874 | Test Accuracy: 55.50% | Test Loss (BCE): 0.6871\n",
      "\n",
      "Epoch 396 | Train Accuracy: 55.38% | Train Loss (BCE): 0.6874 | Test Accuracy: 55.50% | Test Loss (BCE): 0.6871\n",
      "\n",
      "Epoch 397 | Train Accuracy: 55.38% | Train Loss (BCE): 0.6874 | Test Accuracy: 55.50% | Test Loss (BCE): 0.6871\n",
      "\n",
      "Epoch 398 | Train Accuracy: 55.38% | Train Loss (BCE): 0.6874 | Test Accuracy: 55.50% | Test Loss (BCE): 0.6871\n",
      "\n",
      "Epoch 399 | Train Accuracy: 55.38% | Train Loss (BCE): 0.6874 | Test Accuracy: 55.50% | Test Loss (BCE): 0.6871\n",
      "\n",
      "Epoch 400 | Train Accuracy: 55.38% | Train Loss (BCE): 0.6874 | Test Accuracy: 55.50% | Test Loss (BCE): 0.6871\n",
      "\n",
      "Epoch 401 | Train Accuracy: 55.38% | Train Loss (BCE): 0.6874 | Test Accuracy: 55.50% | Test Loss (BCE): 0.6871\n",
      "\n",
      "Epoch 402 | Train Accuracy: 55.38% | Train Loss (BCE): 0.6874 | Test Accuracy: 55.50% | Test Loss (BCE): 0.6871\n",
      "\n",
      "Epoch 403 | Train Accuracy: 55.38% | Train Loss (BCE): 0.6874 | Test Accuracy: 55.50% | Test Loss (BCE): 0.6871\n",
      "\n",
      "Epoch 404 | Train Accuracy: 55.38% | Train Loss (BCE): 0.6874 | Test Accuracy: 55.50% | Test Loss (BCE): 0.6871\n",
      "\n",
      "Epoch 405 | Train Accuracy: 55.38% | Train Loss (BCE): 0.6874 | Test Accuracy: 55.50% | Test Loss (BCE): 0.6871\n",
      "\n",
      "Epoch 406 | Train Accuracy: 55.38% | Train Loss (BCE): 0.6874 | Test Accuracy: 55.50% | Test Loss (BCE): 0.6871\n",
      "\n",
      "Epoch 407 | Train Accuracy: 55.38% | Train Loss (BCE): 0.6874 | Test Accuracy: 55.50% | Test Loss (BCE): 0.6871\n",
      "\n",
      "Epoch 408 | Train Accuracy: 55.38% | Train Loss (BCE): 0.6874 | Test Accuracy: 55.50% | Test Loss (BCE): 0.6871\n",
      "\n",
      "Epoch 409 | Train Accuracy: 55.38% | Train Loss (BCE): 0.6874 | Test Accuracy: 55.50% | Test Loss (BCE): 0.6871\n",
      "\n",
      "Epoch 410 | Train Accuracy: 55.38% | Train Loss (BCE): 0.6874 | Test Accuracy: 55.50% | Test Loss (BCE): 0.6871\n",
      "\n",
      "Epoch 411 | Train Accuracy: 55.38% | Train Loss (BCE): 0.6874 | Test Accuracy: 55.50% | Test Loss (BCE): 0.6871\n",
      "\n",
      "Epoch 412 | Train Accuracy: 55.38% | Train Loss (BCE): 0.6874 | Test Accuracy: 55.50% | Test Loss (BCE): 0.6871\n",
      "\n",
      "Epoch 413 | Train Accuracy: 55.38% | Train Loss (BCE): 0.6874 | Test Accuracy: 55.50% | Test Loss (BCE): 0.6871\n",
      "\n",
      "Epoch 414 | Train Accuracy: 55.38% | Train Loss (BCE): 0.6874 | Test Accuracy: 55.50% | Test Loss (BCE): 0.6871\n",
      "\n",
      "Epoch 415 | Train Accuracy: 55.38% | Train Loss (BCE): 0.6874 | Test Accuracy: 55.50% | Test Loss (BCE): 0.6871\n",
      "\n",
      "Epoch 416 | Train Accuracy: 55.38% | Train Loss (BCE): 0.6874 | Test Accuracy: 55.50% | Test Loss (BCE): 0.6871\n",
      "\n",
      "Epoch 417 | Train Accuracy: 55.38% | Train Loss (BCE): 0.6874 | Test Accuracy: 55.50% | Test Loss (BCE): 0.6871\n",
      "\n",
      "Epoch 418 | Train Accuracy: 55.38% | Train Loss (BCE): 0.6874 | Test Accuracy: 55.50% | Test Loss (BCE): 0.6871\n",
      "\n",
      "Epoch 419 | Train Accuracy: 55.38% | Train Loss (BCE): 0.6874 | Test Accuracy: 55.50% | Test Loss (BCE): 0.6871\n",
      "\n",
      "Epoch 420 | Train Accuracy: 55.38% | Train Loss (BCE): 0.6874 | Test Accuracy: 55.50% | Test Loss (BCE): 0.6871\n",
      "\n",
      "Epoch 421 | Train Accuracy: 55.38% | Train Loss (BCE): 0.6874 | Test Accuracy: 55.50% | Test Loss (BCE): 0.6871\n",
      "\n",
      "Epoch 422 | Train Accuracy: 55.38% | Train Loss (BCE): 0.6874 | Test Accuracy: 55.50% | Test Loss (BCE): 0.6871\n",
      "\n",
      "Epoch 423 | Train Accuracy: 55.38% | Train Loss (BCE): 0.6874 | Test Accuracy: 55.50% | Test Loss (BCE): 0.6871\n",
      "\n",
      "Epoch 424 | Train Accuracy: 55.38% | Train Loss (BCE): 0.6874 | Test Accuracy: 55.50% | Test Loss (BCE): 0.6871\n",
      "\n",
      "Epoch 425 | Train Accuracy: 55.38% | Train Loss (BCE): 0.6874 | Test Accuracy: 55.50% | Test Loss (BCE): 0.6871\n",
      "\n",
      "Epoch 426 | Train Accuracy: 55.38% | Train Loss (BCE): 0.6874 | Test Accuracy: 55.50% | Test Loss (BCE): 0.6871\n",
      "\n",
      "Epoch 427 | Train Accuracy: 55.38% | Train Loss (BCE): 0.6874 | Test Accuracy: 55.50% | Test Loss (BCE): 0.6871\n",
      "\n",
      "Epoch 428 | Train Accuracy: 55.38% | Train Loss (BCE): 0.6874 | Test Accuracy: 55.50% | Test Loss (BCE): 0.6871\n",
      "\n",
      "Epoch 429 | Train Accuracy: 55.38% | Train Loss (BCE): 0.6874 | Test Accuracy: 55.50% | Test Loss (BCE): 0.6871\n",
      "\n",
      "Epoch 430 | Train Accuracy: 55.38% | Train Loss (BCE): 0.6874 | Test Accuracy: 55.50% | Test Loss (BCE): 0.6871\n",
      "\n",
      "Epoch 431 | Train Accuracy: 55.38% | Train Loss (BCE): 0.6874 | Test Accuracy: 55.50% | Test Loss (BCE): 0.6871\n",
      "\n",
      "Epoch 432 | Train Accuracy: 55.38% | Train Loss (BCE): 0.6874 | Test Accuracy: 55.50% | Test Loss (BCE): 0.6871\n",
      "\n",
      "Epoch 433 | Train Accuracy: 55.38% | Train Loss (BCE): 0.6874 | Test Accuracy: 55.50% | Test Loss (BCE): 0.6871\n",
      "\n",
      "Epoch 434 | Train Accuracy: 55.38% | Train Loss (BCE): 0.6874 | Test Accuracy: 55.50% | Test Loss (BCE): 0.6871\n",
      "\n",
      "Epoch 435 | Train Accuracy: 55.38% | Train Loss (BCE): 0.6874 | Test Accuracy: 55.50% | Test Loss (BCE): 0.6871\n",
      "\n",
      "Epoch 436 | Train Accuracy: 55.38% | Train Loss (BCE): 0.6874 | Test Accuracy: 55.50% | Test Loss (BCE): 0.6871\n",
      "\n",
      "Epoch 437 | Train Accuracy: 55.38% | Train Loss (BCE): 0.6874 | Test Accuracy: 55.50% | Test Loss (BCE): 0.6871\n",
      "\n",
      "Epoch 438 | Train Accuracy: 55.38% | Train Loss (BCE): 0.6874 | Test Accuracy: 55.50% | Test Loss (BCE): 0.6871\n",
      "\n",
      "Epoch 439 | Train Accuracy: 55.38% | Train Loss (BCE): 0.6874 | Test Accuracy: 55.50% | Test Loss (BCE): 0.6871\n",
      "\n",
      "Epoch 440 | Train Accuracy: 55.38% | Train Loss (BCE): 0.6874 | Test Accuracy: 55.50% | Test Loss (BCE): 0.6871\n",
      "\n",
      "Epoch 441 | Train Accuracy: 55.38% | Train Loss (BCE): 0.6874 | Test Accuracy: 55.50% | Test Loss (BCE): 0.6871\n",
      "\n",
      "Epoch 442 | Train Accuracy: 55.38% | Train Loss (BCE): 0.6874 | Test Accuracy: 55.50% | Test Loss (BCE): 0.6871\n",
      "\n",
      "Epoch 443 | Train Accuracy: 55.38% | Train Loss (BCE): 0.6874 | Test Accuracy: 55.50% | Test Loss (BCE): 0.6871\n",
      "\n",
      "Epoch 444 | Train Accuracy: 55.38% | Train Loss (BCE): 0.6874 | Test Accuracy: 55.50% | Test Loss (BCE): 0.6871\n",
      "\n",
      "Epoch 445 | Train Accuracy: 55.38% | Train Loss (BCE): 0.6874 | Test Accuracy: 55.50% | Test Loss (BCE): 0.6871\n",
      "\n",
      "Epoch 446 | Train Accuracy: 55.38% | Train Loss (BCE): 0.6874 | Test Accuracy: 55.50% | Test Loss (BCE): 0.6871\n",
      "\n",
      "Epoch 447 | Train Accuracy: 55.38% | Train Loss (BCE): 0.6874 | Test Accuracy: 55.50% | Test Loss (BCE): 0.6871\n",
      "\n",
      "Epoch 448 | Train Accuracy: 55.38% | Train Loss (BCE): 0.6874 | Test Accuracy: 55.50% | Test Loss (BCE): 0.6871\n",
      "\n",
      "Epoch 449 | Train Accuracy: 55.38% | Train Loss (BCE): 0.6874 | Test Accuracy: 55.50% | Test Loss (BCE): 0.6871\n",
      "\n",
      "Epoch 450 | Train Accuracy: 55.38% | Train Loss (BCE): 0.6874 | Test Accuracy: 55.50% | Test Loss (BCE): 0.6871\n",
      "\n",
      "Epoch 451 | Train Accuracy: 55.38% | Train Loss (BCE): 0.6874 | Test Accuracy: 55.50% | Test Loss (BCE): 0.6871\n",
      "\n",
      "Epoch 452 | Train Accuracy: 55.38% | Train Loss (BCE): 0.6874 | Test Accuracy: 55.50% | Test Loss (BCE): 0.6871\n",
      "\n",
      "Epoch 453 | Train Accuracy: 55.38% | Train Loss (BCE): 0.6874 | Test Accuracy: 55.50% | Test Loss (BCE): 0.6871\n",
      "\n",
      "Epoch 454 | Train Accuracy: 55.38% | Train Loss (BCE): 0.6874 | Test Accuracy: 55.50% | Test Loss (BCE): 0.6871\n",
      "\n",
      "Epoch 455 | Train Accuracy: 55.38% | Train Loss (BCE): 0.6874 | Test Accuracy: 55.50% | Test Loss (BCE): 0.6871\n",
      "\n",
      "Epoch 456 | Train Accuracy: 55.38% | Train Loss (BCE): 0.6874 | Test Accuracy: 55.50% | Test Loss (BCE): 0.6871\n",
      "\n",
      "Epoch 457 | Train Accuracy: 55.38% | Train Loss (BCE): 0.6874 | Test Accuracy: 55.50% | Test Loss (BCE): 0.6871\n",
      "\n",
      "Epoch 458 | Train Accuracy: 55.38% | Train Loss (BCE): 0.6874 | Test Accuracy: 55.50% | Test Loss (BCE): 0.6871\n",
      "\n",
      "Epoch 459 | Train Accuracy: 55.38% | Train Loss (BCE): 0.6874 | Test Accuracy: 55.50% | Test Loss (BCE): 0.6871\n",
      "\n",
      "Epoch 460 | Train Accuracy: 55.38% | Train Loss (BCE): 0.6874 | Test Accuracy: 55.50% | Test Loss (BCE): 0.6871\n",
      "\n",
      "Epoch 461 | Train Accuracy: 55.38% | Train Loss (BCE): 0.6874 | Test Accuracy: 55.50% | Test Loss (BCE): 0.6871\n",
      "\n",
      "Epoch 462 | Train Accuracy: 55.38% | Train Loss (BCE): 0.6874 | Test Accuracy: 55.50% | Test Loss (BCE): 0.6871\n",
      "\n",
      "Epoch 463 | Train Accuracy: 55.38% | Train Loss (BCE): 0.6874 | Test Accuracy: 55.50% | Test Loss (BCE): 0.6871\n",
      "\n",
      "Epoch 464 | Train Accuracy: 55.38% | Train Loss (BCE): 0.6874 | Test Accuracy: 55.50% | Test Loss (BCE): 0.6871\n",
      "\n",
      "Epoch 465 | Train Accuracy: 55.38% | Train Loss (BCE): 0.6874 | Test Accuracy: 55.50% | Test Loss (BCE): 0.6871\n",
      "\n",
      "Epoch 466 | Train Accuracy: 55.38% | Train Loss (BCE): 0.6874 | Test Accuracy: 55.50% | Test Loss (BCE): 0.6871\n",
      "\n",
      "Epoch 467 | Train Accuracy: 55.38% | Train Loss (BCE): 0.6874 | Test Accuracy: 55.50% | Test Loss (BCE): 0.6871\n",
      "\n",
      "Epoch 468 | Train Accuracy: 55.38% | Train Loss (BCE): 0.6874 | Test Accuracy: 55.50% | Test Loss (BCE): 0.6871\n",
      "\n",
      "Epoch 469 | Train Accuracy: 55.38% | Train Loss (BCE): 0.6874 | Test Accuracy: 55.50% | Test Loss (BCE): 0.6871\n",
      "\n",
      "Epoch 470 | Train Accuracy: 55.38% | Train Loss (BCE): 0.6874 | Test Accuracy: 55.50% | Test Loss (BCE): 0.6871\n",
      "\n",
      "Epoch 471 | Train Accuracy: 55.38% | Train Loss (BCE): 0.6874 | Test Accuracy: 55.50% | Test Loss (BCE): 0.6871\n",
      "\n",
      "Epoch 472 | Train Accuracy: 55.38% | Train Loss (BCE): 0.6874 | Test Accuracy: 55.50% | Test Loss (BCE): 0.6871\n",
      "\n",
      "Epoch 473 | Train Accuracy: 55.38% | Train Loss (BCE): 0.6874 | Test Accuracy: 55.50% | Test Loss (BCE): 0.6871\n",
      "\n",
      "Epoch 474 | Train Accuracy: 55.38% | Train Loss (BCE): 0.6874 | Test Accuracy: 55.50% | Test Loss (BCE): 0.6871\n",
      "\n",
      "Epoch 475 | Train Accuracy: 55.38% | Train Loss (BCE): 0.6874 | Test Accuracy: 55.50% | Test Loss (BCE): 0.6871\n",
      "\n",
      "Epoch 476 | Train Accuracy: 55.38% | Train Loss (BCE): 0.6874 | Test Accuracy: 55.50% | Test Loss (BCE): 0.6871\n",
      "\n",
      "Epoch 477 | Train Accuracy: 55.38% | Train Loss (BCE): 0.6874 | Test Accuracy: 55.50% | Test Loss (BCE): 0.6871\n",
      "\n",
      "Epoch 478 | Train Accuracy: 55.38% | Train Loss (BCE): 0.6874 | Test Accuracy: 55.50% | Test Loss (BCE): 0.6871\n",
      "\n",
      "Epoch 479 | Train Accuracy: 55.38% | Train Loss (BCE): 0.6874 | Test Accuracy: 55.50% | Test Loss (BCE): 0.6871\n",
      "\n",
      "Epoch 480 | Train Accuracy: 55.38% | Train Loss (BCE): 0.6874 | Test Accuracy: 55.50% | Test Loss (BCE): 0.6871\n",
      "\n",
      "Epoch 481 | Train Accuracy: 55.38% | Train Loss (BCE): 0.6874 | Test Accuracy: 55.50% | Test Loss (BCE): 0.6871\n",
      "\n",
      "Epoch 482 | Train Accuracy: 55.38% | Train Loss (BCE): 0.6874 | Test Accuracy: 55.50% | Test Loss (BCE): 0.6871\n",
      "\n",
      "Epoch 483 | Train Accuracy: 55.38% | Train Loss (BCE): 0.6874 | Test Accuracy: 55.50% | Test Loss (BCE): 0.6871\n",
      "\n",
      "Epoch 484 | Train Accuracy: 55.38% | Train Loss (BCE): 0.6874 | Test Accuracy: 55.50% | Test Loss (BCE): 0.6871\n",
      "\n",
      "Epoch 485 | Train Accuracy: 55.38% | Train Loss (BCE): 0.6874 | Test Accuracy: 55.50% | Test Loss (BCE): 0.6871\n",
      "\n",
      "Epoch 486 | Train Accuracy: 55.38% | Train Loss (BCE): 0.6874 | Test Accuracy: 55.50% | Test Loss (BCE): 0.6871\n",
      "\n",
      "Epoch 487 | Train Accuracy: 55.38% | Train Loss (BCE): 0.6874 | Test Accuracy: 55.50% | Test Loss (BCE): 0.6871\n",
      "\n",
      "Epoch 488 | Train Accuracy: 55.38% | Train Loss (BCE): 0.6874 | Test Accuracy: 55.50% | Test Loss (BCE): 0.6871\n",
      "\n",
      "Epoch 489 | Train Accuracy: 55.38% | Train Loss (BCE): 0.6874 | Test Accuracy: 55.50% | Test Loss (BCE): 0.6871\n",
      "\n",
      "Epoch 490 | Train Accuracy: 55.38% | Train Loss (BCE): 0.6874 | Test Accuracy: 55.50% | Test Loss (BCE): 0.6871\n",
      "\n",
      "Epoch 491 | Train Accuracy: 55.38% | Train Loss (BCE): 0.6874 | Test Accuracy: 55.50% | Test Loss (BCE): 0.6871\n",
      "\n",
      "Epoch 492 | Train Accuracy: 55.38% | Train Loss (BCE): 0.6874 | Test Accuracy: 55.50% | Test Loss (BCE): 0.6871\n",
      "\n",
      "Epoch 493 | Train Accuracy: 55.38% | Train Loss (BCE): 0.6874 | Test Accuracy: 55.50% | Test Loss (BCE): 0.6871\n",
      "\n",
      "Epoch 494 | Train Accuracy: 55.38% | Train Loss (BCE): 0.6874 | Test Accuracy: 55.50% | Test Loss (BCE): 0.6871\n",
      "\n",
      "Epoch 495 | Train Accuracy: 55.38% | Train Loss (BCE): 0.6874 | Test Accuracy: 55.50% | Test Loss (BCE): 0.6871\n",
      "\n",
      "Epoch 496 | Train Accuracy: 55.38% | Train Loss (BCE): 0.6874 | Test Accuracy: 55.50% | Test Loss (BCE): 0.6871\n",
      "\n",
      "Epoch 497 | Train Accuracy: 55.38% | Train Loss (BCE): 0.6874 | Test Accuracy: 55.50% | Test Loss (BCE): 0.6871\n",
      "\n",
      "Epoch 498 | Train Accuracy: 55.38% | Train Loss (BCE): 0.6874 | Test Accuracy: 55.50% | Test Loss (BCE): 0.6871\n",
      "\n",
      "Epoch 499 | Train Accuracy: 55.38% | Train Loss (BCE): 0.6874 | Test Accuracy: 55.50% | Test Loss (BCE): 0.6871\n",
      "\n",
      "Epoch 500 | Train Accuracy: 55.38% | Train Loss (BCE): 0.6874 | Test Accuracy: 55.50% | Test Loss (BCE): 0.6871\n",
      "\n"
     ]
    }
   ],
   "source": [
    "training_ds_loss_history_1, testing_ds_loss_history_1 = nn1.train(X_train, y_train, X_test, y_test, epochs=500, lr=0.5)"
   ]
  },
  {
   "cell_type": "code",
   "execution_count": 202,
   "metadata": {},
   "outputs": [
    {
     "data": {
      "image/png": "[encoded data removed]",
      "text/plain": [
       "<Figure size 900x600 with 1 Axes>"
      ]
     },
     "metadata": {},
     "output_type": "display_data"
    }
   ],
   "source": [
    "iterations = np.arange(1, len(training_ds_loss_history_1)+1)\n",
    "plt.figure(figsize=(9, 6))\n",
    "plt.plot(iterations, training_ds_loss_history_1, linewidth=2)\n",
    "plt.title('Binary Cross Entropy of Training Dataset vs Epochs', fontsize=20)\n",
    "plt.xlabel('Epoch', fontsize=16)\n",
    "plt.ylabel('Binary Cross Entropy ', fontsize=16)\n",
    "plt.xticks(fontsize=16)\n",
    "plt.yticks(fontsize=16)\n",
    "plt.grid(True)\n",
    "plt.tight_layout()\n",
    "# plt.savefig('bce_nn1.png', dpi=300)\n",
    "plt.show()"
   ]
  },
  {
   "cell_type": "code",
   "execution_count": 187,
   "metadata": {},
   "outputs": [
    {
     "name": "stdout",
     "output_type": "stream",
     "text": [
      "Accuracy: 55.50% | Loss (BCE): 0.6871\n"
     ]
    }
   ],
   "source": [
    "accuracy_1, bce_1 = nn1.evaluate(X_test, y_test)\n",
    "print(f\"Accuracy: {accuracy_1:.2f}% | Loss (BCE): {bce_1:.4f}\")"
   ]
  },
  {
   "cell_type": "code",
   "execution_count": 188,
   "metadata": {},
   "outputs": [
    {
     "data": {
      "application/vnd.plotly.v1+json": {
       "config": {
        "plotlyServerURL": "https://plot.ly"
       },
       "data": [
        {
         "gauge": {
          "axis": {
           "range": [
            0,
            100
           ]
          },
          "bar": {
           "color": "#FF5B00"
          },
          "steps": [
           {
            "color": "lightcoral",
            "range": [
             0,
             50
            ]
           },
           {
            "color": "#FFA500",
            "range": [
             50,
             70
            ]
           },
           {
            "color": "yellow",
            "range": [
             70,
             90
            ]
           },
           {
            "color": "lightgreen",
            "range": [
             90,
             100
            ]
           }
          ]
         },
         "mode": "gauge+number",
         "number": {
          "suffix": "%"
         },
         "title": {
          "text": "Model Accuracy"
         },
         "type": "indicator",
         "value": 55.50000000000001
        }
       ],
       "layout": {
        "height": 400,
        "template": {
         "data": {
          "bar": [
           {
            "error_x": {
             "color": "#2a3f5f"
            },
            "error_y": {
             "color": "#2a3f5f"
            },
            "marker": {
             "line": {
              "color": "#E5ECF6",
              "width": 0.5
             },
             "pattern": {
              "fillmode": "overlay",
              "size": 10,
              "solidity": 0.2
             }
            },
            "type": "bar"
           }
          ],
          "barpolar": [
           {
            "marker": {
             "line": {
              "color": "#E5ECF6",
              "width": 0.5
             },
             "pattern": {
              "fillmode": "overlay",
              "size": 10,
              "solidity": 0.2
             }
            },
            "type": "barpolar"
           }
          ],
          "carpet": [
           {
            "aaxis": {
             "endlinecolor": "#2a3f5f",
             "gridcolor": "white",
             "linecolor": "white",
             "minorgridcolor": "white",
             "startlinecolor": "#2a3f5f"
            },
            "baxis": {
             "endlinecolor": "#2a3f5f",
             "gridcolor": "white",
             "linecolor": "white",
             "minorgridcolor": "white",
             "startlinecolor": "#2a3f5f"
            },
            "type": "carpet"
           }
          ],
          "choropleth": [
           {
            "colorbar": {
             "outlinewidth": 0,
             "ticks": ""
            },
            "type": "choropleth"
           }
          ],
          "contour": [
           {
            "colorbar": {
             "outlinewidth": 0,
             "ticks": ""
            },
            "colorscale": [
             [
              0,
              "#0d0887"
             ],
             [
              0.1111111111111111,
              "#46039f"
             ],
             [
              0.2222222222222222,
              "#7201a8"
             ],
             [
              0.3333333333333333,
              "#9c179e"
             ],
             [
              0.4444444444444444,
              "#bd3786"
             ],
             [
              0.5555555555555556,
              "#d8576b"
             ],
             [
              0.6666666666666666,
              "#ed7953"
             ],
             [
              0.7777777777777778,
              "#fb9f3a"
             ],
             [
              0.8888888888888888,
              "#fdca26"
             ],
             [
              1,
              "#f0f921"
             ]
            ],
            "type": "contour"
           }
          ],
          "contourcarpet": [
           {
            "colorbar": {
             "outlinewidth": 0,
             "ticks": ""
            },
            "type": "contourcarpet"
           }
          ],
          "heatmap": [
           {
            "colorbar": {
             "outlinewidth": 0,
             "ticks": ""
            },
            "colorscale": [
             [
              0,
              "#0d0887"
             ],
             [
              0.1111111111111111,
              "#46039f"
             ],
             [
              0.2222222222222222,
              "#7201a8"
             ],
             [
              0.3333333333333333,
              "#9c179e"
             ],
             [
              0.4444444444444444,
              "#bd3786"
             ],
             [
              0.5555555555555556,
              "#d8576b"
             ],
             [
              0.6666666666666666,
              "#ed7953"
             ],
             [
              0.7777777777777778,
              "#fb9f3a"
             ],
             [
              0.8888888888888888,
              "#fdca26"
             ],
             [
              1,
              "#f0f921"
             ]
            ],
            "type": "heatmap"
           }
          ],
          "heatmapgl": [
           {
            "colorbar": {
             "outlinewidth": 0,
             "ticks": ""
            },
            "colorscale": [
             [
              0,
              "#0d0887"
             ],
             [
              0.1111111111111111,
              "#46039f"
             ],
             [
              0.2222222222222222,
              "#7201a8"
             ],
             [
              0.3333333333333333,
              "#9c179e"
             ],
             [
              0.4444444444444444,
              "#bd3786"
             ],
             [
              0.5555555555555556,
              "#d8576b"
             ],
             [
              0.6666666666666666,
              "#ed7953"
             ],
             [
              0.7777777777777778,
              "#fb9f3a"
             ],
             [
              0.8888888888888888,
              "#fdca26"
             ],
             [
              1,
              "#f0f921"
             ]
            ],
            "type": "heatmapgl"
           }
          ],
          "histogram": [
           {
            "marker": {
             "pattern": {
              "fillmode": "overlay",
              "size": 10,
              "solidity": 0.2
             }
            },
            "type": "histogram"
           }
          ],
          "histogram2d": [
           {
            "colorbar": {
             "outlinewidth": 0,
             "ticks": ""
            },
            "colorscale": [
             [
              0,
              "#0d0887"
             ],
             [
              0.1111111111111111,
              "#46039f"
             ],
             [
              0.2222222222222222,
              "#7201a8"
             ],
             [
              0.3333333333333333,
              "#9c179e"
             ],
             [
              0.4444444444444444,
              "#bd3786"
             ],
             [
              0.5555555555555556,
              "#d8576b"
             ],
             [
              0.6666666666666666,
              "#ed7953"
             ],
             [
              0.7777777777777778,
              "#fb9f3a"
             ],
             [
              0.8888888888888888,
              "#fdca26"
             ],
             [
              1,
              "#f0f921"
             ]
            ],
            "type": "histogram2d"
           }
          ],
          "histogram2dcontour": [
           {
            "colorbar": {
             "outlinewidth": 0,
             "ticks": ""
            },
            "colorscale": [
             [
              0,
              "#0d0887"
             ],
             [
              0.1111111111111111,
              "#46039f"
             ],
             [
              0.2222222222222222,
              "#7201a8"
             ],
             [
              0.3333333333333333,
              "#9c179e"
             ],
             [
              0.4444444444444444,
              "#bd3786"
             ],
             [
              0.5555555555555556,
              "#d8576b"
             ],
             [
              0.6666666666666666,
              "#ed7953"
             ],
             [
              0.7777777777777778,
              "#fb9f3a"
             ],
             [
              0.8888888888888888,
              "#fdca26"
             ],
             [
              1,
              "#f0f921"
             ]
            ],
            "type": "histogram2dcontour"
           }
          ],
          "mesh3d": [
           {
            "colorbar": {
             "outlinewidth": 0,
             "ticks": ""
            },
            "type": "mesh3d"
           }
          ],
          "parcoords": [
           {
            "line": {
             "colorbar": {
              "outlinewidth": 0,
              "ticks": ""
             }
            },
            "type": "parcoords"
           }
          ],
          "pie": [
           {
            "automargin": true,
            "type": "pie"
           }
          ],
          "scatter": [
           {
            "fillpattern": {
             "fillmode": "overlay",
             "size": 10,
             "solidity": 0.2
            },
            "type": "scatter"
           }
          ],
          "scatter3d": [
           {
            "line": {
             "colorbar": {
              "outlinewidth": 0,
              "ticks": ""
             }
            },
            "marker": {
             "colorbar": {
              "outlinewidth": 0,
              "ticks": ""
             }
            },
            "type": "scatter3d"
           }
          ],
          "scattercarpet": [
           {
            "marker": {
             "colorbar": {
              "outlinewidth": 0,
              "ticks": ""
             }
            },
            "type": "scattercarpet"
           }
          ],
          "scattergeo": [
           {
            "marker": {
             "colorbar": {
              "outlinewidth": 0,
              "ticks": ""
             }
            },
            "type": "scattergeo"
           }
          ],
          "scattergl": [
           {
            "marker": {
             "colorbar": {
              "outlinewidth": 0,
              "ticks": ""
             }
            },
            "type": "scattergl"
           }
          ],
          "scattermapbox": [
           {
            "marker": {
             "colorbar": {
              "outlinewidth": 0,
              "ticks": ""
             }
            },
            "type": "scattermapbox"
           }
          ],
          "scatterpolar": [
           {
            "marker": {
             "colorbar": {
              "outlinewidth": 0,
              "ticks": ""
             }
            },
            "type": "scatterpolar"
           }
          ],
          "scatterpolargl": [
           {
            "marker": {
             "colorbar": {
              "outlinewidth": 0,
              "ticks": ""
             }
            },
            "type": "scatterpolargl"
           }
          ],
          "scatterternary": [
           {
            "marker": {
             "colorbar": {
              "outlinewidth": 0,
              "ticks": ""
             }
            },
            "type": "scatterternary"
           }
          ],
          "surface": [
           {
            "colorbar": {
             "outlinewidth": 0,
             "ticks": ""
            },
            "colorscale": [
             [
              0,
              "#0d0887"
             ],
             [
              0.1111111111111111,
              "#46039f"
             ],
             [
              0.2222222222222222,
              "#7201a8"
             ],
             [
              0.3333333333333333,
              "#9c179e"
             ],
             [
              0.4444444444444444,
              "#bd3786"
             ],
             [
              0.5555555555555556,
              "#d8576b"
             ],
             [
              0.6666666666666666,
              "#ed7953"
             ],
             [
              0.7777777777777778,
              "#fb9f3a"
             ],
             [
              0.8888888888888888,
              "#fdca26"
             ],
             [
              1,
              "#f0f921"
             ]
            ],
            "type": "surface"
           }
          ],
          "table": [
           {
            "cells": {
             "fill": {
              "color": "#EBF0F8"
             },
             "line": {
              "color": "white"
             }
            },
            "header": {
             "fill": {
              "color": "#C8D4E3"
             },
             "line": {
              "color": "white"
             }
            },
            "type": "table"
           }
          ]
         },
         "layout": {
          "annotationdefaults": {
           "arrowcolor": "#2a3f5f",
           "arrowhead": 0,
           "arrowwidth": 1
          },
          "autotypenumbers": "strict",
          "coloraxis": {
           "colorbar": {
            "outlinewidth": 0,
            "ticks": ""
           }
          },
          "colorscale": {
           "diverging": [
            [
             0,
             "#8e0152"
            ],
            [
             0.1,
             "#c51b7d"
            ],
            [
             0.2,
             "#de77ae"
            ],
            [
             0.3,
             "#f1b6da"
            ],
            [
             0.4,
             "#fde0ef"
            ],
            [
             0.5,
             "#f7f7f7"
            ],
            [
             0.6,
             "#e6f5d0"
            ],
            [
             0.7,
             "#b8e186"
            ],
            [
             0.8,
             "#7fbc41"
            ],
            [
             0.9,
             "#4d9221"
            ],
            [
             1,
             "#276419"
            ]
           ],
           "sequential": [
            [
             0,
             "#0d0887"
            ],
            [
             0.1111111111111111,
             "#46039f"
            ],
            [
             0.2222222222222222,
             "#7201a8"
            ],
            [
             0.3333333333333333,
             "#9c179e"
            ],
            [
             0.4444444444444444,
             "#bd3786"
            ],
            [
             0.5555555555555556,
             "#d8576b"
            ],
            [
             0.6666666666666666,
             "#ed7953"
            ],
            [
             0.7777777777777778,
             "#fb9f3a"
            ],
            [
             0.8888888888888888,
             "#fdca26"
            ],
            [
             1,
             "#f0f921"
            ]
           ],
           "sequentialminus": [
            [
             0,
             "#0d0887"
            ],
            [
             0.1111111111111111,
             "#46039f"
            ],
            [
             0.2222222222222222,
             "#7201a8"
            ],
            [
             0.3333333333333333,
             "#9c179e"
            ],
            [
             0.4444444444444444,
             "#bd3786"
            ],
            [
             0.5555555555555556,
             "#d8576b"
            ],
            [
             0.6666666666666666,
             "#ed7953"
            ],
            [
             0.7777777777777778,
             "#fb9f3a"
            ],
            [
             0.8888888888888888,
             "#fdca26"
            ],
            [
             1,
             "#f0f921"
            ]
           ]
          },
          "colorway": [
           "#636efa",
           "#EF553B",
           "#00cc96",
           "#ab63fa",
           "#FFA15A",
           "#19d3f3",
           "#FF6692",
           "#B6E880",
           "#FF97FF",
           "#FECB52"
          ],
          "font": {
           "color": "#2a3f5f"
          },
          "geo": {
           "bgcolor": "white",
           "lakecolor": "white",
           "landcolor": "#E5ECF6",
           "showlakes": true,
           "showland": true,
           "subunitcolor": "white"
          },
          "hoverlabel": {
           "align": "left"
          },
          "hovermode": "closest",
          "mapbox": {
           "style": "light"
          },
          "paper_bgcolor": "white",
          "plot_bgcolor": "#E5ECF6",
          "polar": {
           "angularaxis": {
            "gridcolor": "white",
            "linecolor": "white",
            "ticks": ""
           },
           "bgcolor": "#E5ECF6",
           "radialaxis": {
            "gridcolor": "white",
            "linecolor": "white",
            "ticks": ""
           }
          },
          "scene": {
           "xaxis": {
            "backgroundcolor": "#E5ECF6",
            "gridcolor": "white",
            "gridwidth": 2,
            "linecolor": "white",
            "showbackground": true,
            "ticks": "",
            "zerolinecolor": "white"
           },
           "yaxis": {
            "backgroundcolor": "#E5ECF6",
            "gridcolor": "white",
            "gridwidth": 2,
            "linecolor": "white",
            "showbackground": true,
            "ticks": "",
            "zerolinecolor": "white"
           },
           "zaxis": {
            "backgroundcolor": "#E5ECF6",
            "gridcolor": "white",
            "gridwidth": 2,
            "linecolor": "white",
            "showbackground": true,
            "ticks": "",
            "zerolinecolor": "white"
           }
          },
          "shapedefaults": {
           "line": {
            "color": "#2a3f5f"
           }
          },
          "ternary": {
           "aaxis": {
            "gridcolor": "white",
            "linecolor": "white",
            "ticks": ""
           },
           "baxis": {
            "gridcolor": "white",
            "linecolor": "white",
            "ticks": ""
           },
           "bgcolor": "#E5ECF6",
           "caxis": {
            "gridcolor": "white",
            "linecolor": "white",
            "ticks": ""
           }
          },
          "title": {
           "x": 0.05
          },
          "xaxis": {
           "automargin": true,
           "gridcolor": "white",
           "linecolor": "white",
           "ticks": "",
           "title": {
            "standoff": 15
           },
           "zerolinecolor": "white",
           "zerolinewidth": 2
          },
          "yaxis": {
           "automargin": true,
           "gridcolor": "white",
           "linecolor": "white",
           "ticks": "",
           "title": {
            "standoff": 15
           },
           "zerolinecolor": "white",
           "zerolinewidth": 2
          }
         }
        },
        "width": 600
       }
      }
     },
     "metadata": {},
     "output_type": "display_data"
    }
   ],
   "source": [
    "fig = go.Figure(go.Indicator(\n",
    "    mode=\"gauge+number\",\n",
    "    value=accuracy_1,\n",
    "    title={'text': \"Model Accuracy\"},\n",
    "    number={'suffix': \"%\"},\n",
    "    gauge={\n",
    "        'axis': {'range': [0, 100]},\n",
    "        'bar': {'color': \"#FF5B00\"},\n",
    "        'steps': [\n",
    "            {'range': [0, 50], 'color': \"lightcoral\"},\n",
    "            {'range': [50, 70], 'color': \"#FFA500\"},\n",
    "            {'range': [70, 90], 'color': \"yellow\"},\n",
    "            {'range': [90, 100], 'color': \"lightgreen\"}\n",
    "        ],\n",
    "    }\n",
    "))\n",
    "fig.update_layout(\n",
    "    width=600,\n",
    "    height=400,\n",
    ")\n",
    "# fig.write_image(\"accuracy_nn1.png\", scale=2)\n",
    "fig.show()"
   ]
  },
  {
   "cell_type": "code",
   "execution_count": 211,
   "metadata": {},
   "outputs": [
    {
     "name": "stdout",
     "output_type": "stream",
     "text": [
      "Confusion Matrix:\n",
      " [[  0  89]\n",
      " [  0 111]] \n",
      "\n",
      "True negative (Actually negative, classified as negative): 0\n",
      "False positive (Actually negative, classified as positive): 89\n",
      "False negative (Actually positive, classified as negative): 0\n",
      "True positive (Actually positive, classified as positive): 111\n"
     ]
    }
   ],
   "source": [
    "# Generating Confusion matrix\n",
    "y_pred_1 = nn1.predict(X_test)\n",
    "y_pred_classes_1 = np.where(y_pred_1 > 0.5, 1, 0)\n",
    "cm_1 = confusion_matrix(y_test, y_pred_classes_1)\n",
    "print('Confusion Matrix:\\n', cm_1, '\\n')\n",
    "print('True negative (Actually negative, classified as negative):', cm_1[0][0])\n",
    "print('False positive (Actually negative, classified as positive):', cm_1[0][1])\n",
    "print('False negative (Actually positive, classified as negative):', cm_1[1][0])\n",
    "print('True positive (Actually positive, classified as positive):', cm_1[1][1])"
   ]
  },
  {
   "cell_type": "code",
   "execution_count": 217,
   "metadata": {},
   "outputs": [
    {
     "data": {
      "image/png": "[encoded data removed]",
      "text/plain": [
       "<Figure size 640x480 with 2 Axes>"
      ]
     },
     "metadata": {},
     "output_type": "display_data"
    }
   ],
   "source": [
    "disp = ConfusionMatrixDisplay(confusion_matrix=cm_1)\n",
    "disp.plot(cmap=plt.cm.Blues)\n",
    "plt.title('Confusion Matrix')\n",
    "# plt.savefig('cm_nn1', dpi=300)\n",
    "plt.show()"
   ]
  },
  {
   "cell_type": "code",
   "execution_count": 218,
   "metadata": {},
   "outputs": [
    {
     "name": "stdout",
     "output_type": "stream",
     "text": [
      "Classification Report\n",
      "\n",
      "               precision    recall  f1-score   support\n",
      "\n",
      "           0       0.00      0.00      0.00        89\n",
      "           1       0.56      1.00      0.71       111\n",
      "\n",
      "    accuracy                           0.56       200\n",
      "   macro avg       0.28      0.50      0.36       200\n",
      "weighted avg       0.31      0.56      0.40       200\n",
      "\n"
     ]
    },
    {
     "name": "stderr",
     "output_type": "stream",
     "text": [
      "c:\\Users\\chaud\\AppData\\Local\\Programs\\Python\\Python312\\Lib\\site-packages\\sklearn\\metrics\\_classification.py:1531: UndefinedMetricWarning:\n",
      "\n",
      "Precision is ill-defined and being set to 0.0 in labels with no predicted samples. Use `zero_division` parameter to control this behavior.\n",
      "\n",
      "c:\\Users\\chaud\\AppData\\Local\\Programs\\Python\\Python312\\Lib\\site-packages\\sklearn\\metrics\\_classification.py:1531: UndefinedMetricWarning:\n",
      "\n",
      "Precision is ill-defined and being set to 0.0 in labels with no predicted samples. Use `zero_division` parameter to control this behavior.\n",
      "\n",
      "c:\\Users\\chaud\\AppData\\Local\\Programs\\Python\\Python312\\Lib\\site-packages\\sklearn\\metrics\\_classification.py:1531: UndefinedMetricWarning:\n",
      "\n",
      "Precision is ill-defined and being set to 0.0 in labels with no predicted samples. Use `zero_division` parameter to control this behavior.\n",
      "\n"
     ]
    }
   ],
   "source": [
    "# Generating classification report from scikit-learn\n",
    "cr_1 = classification_report(y_test, y_pred_classes_1)\n",
    "print('Classification Report\\n\\n', cr_1)"
   ]
  },
  {
   "cell_type": "markdown",
   "metadata": {},
   "source": [
    "- Creating a NN with 2 hidden layers having 16 and 8 neurons respectively"
   ]
  },
  {
   "cell_type": "code",
   "execution_count": 190,
   "metadata": {},
   "outputs": [],
   "source": [
    "nn2 = NN(input_dim=X_train.shape[1], hidden_layer_neurons=[16, 8])"
   ]
  },
  {
   "cell_type": "code",
   "execution_count": 193,
   "metadata": {},
   "outputs": [
    {
     "name": "stdout",
     "output_type": "stream",
     "text": [
      "Epoch 001 | Train Accuracy: 39.25% | Train Loss (BCE): 0.6895 | Test Accuracy: 39.50% | Test Loss (BCE): 0.6947\n",
      "\n",
      "Epoch 002 | Train Accuracy: 39.88% | Train Loss (BCE): 0.6822 | Test Accuracy: 40.50% | Test Loss (BCE): 0.6863\n",
      "\n",
      "Epoch 003 | Train Accuracy: 41.38% | Train Loss (BCE): 0.6766 | Test Accuracy: 41.50% | Test Loss (BCE): 0.6794\n",
      "\n",
      "Epoch 004 | Train Accuracy: 44.50% | Train Loss (BCE): 0.6727 | Test Accuracy: 44.00% | Test Loss (BCE): 0.6745\n",
      "\n",
      "Epoch 005 | Train Accuracy: 48.12% | Train Loss (BCE): 0.6691 | Test Accuracy: 48.00% | Test Loss (BCE): 0.6702\n",
      "\n",
      "Epoch 006 | Train Accuracy: 54.50% | Train Loss (BCE): 0.6655 | Test Accuracy: 52.50% | Test Loss (BCE): 0.6661\n",
      "\n",
      "Epoch 007 | Train Accuracy: 58.38% | Train Loss (BCE): 0.6621 | Test Accuracy: 57.50% | Test Loss (BCE): 0.6622\n",
      "\n",
      "Epoch 008 | Train Accuracy: 63.25% | Train Loss (BCE): 0.6589 | Test Accuracy: 63.00% | Test Loss (BCE): 0.6586\n",
      "\n",
      "Epoch 009 | Train Accuracy: 66.50% | Train Loss (BCE): 0.6558 | Test Accuracy: 67.50% | Test Loss (BCE): 0.6552\n",
      "\n",
      "Epoch 010 | Train Accuracy: 69.38% | Train Loss (BCE): 0.6529 | Test Accuracy: 70.50% | Test Loss (BCE): 0.6519\n",
      "\n",
      "Epoch 011 | Train Accuracy: 71.25% | Train Loss (BCE): 0.6501 | Test Accuracy: 72.00% | Test Loss (BCE): 0.6489\n",
      "\n",
      "Epoch 012 | Train Accuracy: 73.62% | Train Loss (BCE): 0.6474 | Test Accuracy: 73.00% | Test Loss (BCE): 0.6459\n",
      "\n",
      "Epoch 013 | Train Accuracy: 75.88% | Train Loss (BCE): 0.6447 | Test Accuracy: 74.50% | Test Loss (BCE): 0.6430\n",
      "\n",
      "Epoch 014 | Train Accuracy: 77.25% | Train Loss (BCE): 0.6421 | Test Accuracy: 76.00% | Test Loss (BCE): 0.6402\n",
      "\n",
      "Epoch 015 | Train Accuracy: 77.75% | Train Loss (BCE): 0.6396 | Test Accuracy: 77.00% | Test Loss (BCE): 0.6374\n",
      "\n",
      "Epoch 016 | Train Accuracy: 78.12% | Train Loss (BCE): 0.6371 | Test Accuracy: 78.00% | Test Loss (BCE): 0.6347\n",
      "\n",
      "Epoch 017 | Train Accuracy: 78.75% | Train Loss (BCE): 0.6347 | Test Accuracy: 77.50% | Test Loss (BCE): 0.6321\n",
      "\n",
      "Epoch 018 | Train Accuracy: 78.62% | Train Loss (BCE): 0.6324 | Test Accuracy: 78.50% | Test Loss (BCE): 0.6295\n",
      "\n",
      "Epoch 019 | Train Accuracy: 78.62% | Train Loss (BCE): 0.6301 | Test Accuracy: 79.50% | Test Loss (BCE): 0.6270\n",
      "\n",
      "Epoch 020 | Train Accuracy: 78.88% | Train Loss (BCE): 0.6279 | Test Accuracy: 80.00% | Test Loss (BCE): 0.6245\n",
      "\n",
      "Epoch 021 | Train Accuracy: 79.00% | Train Loss (BCE): 0.6257 | Test Accuracy: 80.00% | Test Loss (BCE): 0.6221\n",
      "\n",
      "Epoch 022 | Train Accuracy: 79.25% | Train Loss (BCE): 0.6236 | Test Accuracy: 80.00% | Test Loss (BCE): 0.6197\n",
      "\n",
      "Epoch 023 | Train Accuracy: 79.12% | Train Loss (BCE): 0.6215 | Test Accuracy: 79.00% | Test Loss (BCE): 0.6174\n",
      "\n",
      "Epoch 024 | Train Accuracy: 79.12% | Train Loss (BCE): 0.6194 | Test Accuracy: 79.50% | Test Loss (BCE): 0.6150\n",
      "\n",
      "Epoch 025 | Train Accuracy: 78.88% | Train Loss (BCE): 0.6173 | Test Accuracy: 79.50% | Test Loss (BCE): 0.6127\n",
      "\n",
      "Epoch 026 | Train Accuracy: 78.25% | Train Loss (BCE): 0.6152 | Test Accuracy: 79.50% | Test Loss (BCE): 0.6103\n",
      "\n",
      "Epoch 027 | Train Accuracy: 78.12% | Train Loss (BCE): 0.6132 | Test Accuracy: 79.50% | Test Loss (BCE): 0.6081\n",
      "\n",
      "Epoch 028 | Train Accuracy: 78.38% | Train Loss (BCE): 0.6111 | Test Accuracy: 80.00% | Test Loss (BCE): 0.6058\n",
      "\n",
      "Epoch 029 | Train Accuracy: 78.25% | Train Loss (BCE): 0.6091 | Test Accuracy: 80.00% | Test Loss (BCE): 0.6036\n",
      "\n",
      "Epoch 030 | Train Accuracy: 78.12% | Train Loss (BCE): 0.6071 | Test Accuracy: 80.50% | Test Loss (BCE): 0.6014\n",
      "\n",
      "Epoch 031 | Train Accuracy: 77.75% | Train Loss (BCE): 0.6052 | Test Accuracy: 80.50% | Test Loss (BCE): 0.5993\n",
      "\n",
      "Epoch 032 | Train Accuracy: 77.62% | Train Loss (BCE): 0.6032 | Test Accuracy: 80.50% | Test Loss (BCE): 0.5971\n",
      "\n",
      "Epoch 033 | Train Accuracy: 77.25% | Train Loss (BCE): 0.6013 | Test Accuracy: 80.50% | Test Loss (BCE): 0.5950\n",
      "\n",
      "Epoch 034 | Train Accuracy: 77.25% | Train Loss (BCE): 0.5994 | Test Accuracy: 80.50% | Test Loss (BCE): 0.5930\n",
      "\n",
      "Epoch 035 | Train Accuracy: 77.38% | Train Loss (BCE): 0.5975 | Test Accuracy: 80.50% | Test Loss (BCE): 0.5909\n",
      "\n",
      "Epoch 036 | Train Accuracy: 77.12% | Train Loss (BCE): 0.5956 | Test Accuracy: 80.00% | Test Loss (BCE): 0.5889\n",
      "\n",
      "Epoch 037 | Train Accuracy: 77.12% | Train Loss (BCE): 0.5938 | Test Accuracy: 80.00% | Test Loss (BCE): 0.5869\n",
      "\n",
      "Epoch 038 | Train Accuracy: 77.00% | Train Loss (BCE): 0.5919 | Test Accuracy: 80.00% | Test Loss (BCE): 0.5849\n",
      "\n",
      "Epoch 039 | Train Accuracy: 77.12% | Train Loss (BCE): 0.5900 | Test Accuracy: 80.00% | Test Loss (BCE): 0.5829\n",
      "\n",
      "Epoch 040 | Train Accuracy: 77.00% | Train Loss (BCE): 0.5882 | Test Accuracy: 80.00% | Test Loss (BCE): 0.5810\n",
      "\n",
      "Epoch 041 | Train Accuracy: 77.00% | Train Loss (BCE): 0.5863 | Test Accuracy: 80.00% | Test Loss (BCE): 0.5791\n",
      "\n",
      "Epoch 042 | Train Accuracy: 76.88% | Train Loss (BCE): 0.5845 | Test Accuracy: 80.00% | Test Loss (BCE): 0.5771\n",
      "\n",
      "Epoch 043 | Train Accuracy: 77.12% | Train Loss (BCE): 0.5826 | Test Accuracy: 79.50% | Test Loss (BCE): 0.5751\n",
      "\n",
      "Epoch 044 | Train Accuracy: 77.00% | Train Loss (BCE): 0.5808 | Test Accuracy: 79.50% | Test Loss (BCE): 0.5732\n",
      "\n",
      "Epoch 045 | Train Accuracy: 77.12% | Train Loss (BCE): 0.5789 | Test Accuracy: 79.50% | Test Loss (BCE): 0.5713\n",
      "\n",
      "Epoch 046 | Train Accuracy: 77.12% | Train Loss (BCE): 0.5770 | Test Accuracy: 79.50% | Test Loss (BCE): 0.5693\n",
      "\n",
      "Epoch 047 | Train Accuracy: 77.25% | Train Loss (BCE): 0.5752 | Test Accuracy: 79.50% | Test Loss (BCE): 0.5674\n",
      "\n",
      "Epoch 048 | Train Accuracy: 77.38% | Train Loss (BCE): 0.5734 | Test Accuracy: 79.50% | Test Loss (BCE): 0.5654\n",
      "\n",
      "Epoch 049 | Train Accuracy: 77.38% | Train Loss (BCE): 0.5715 | Test Accuracy: 79.50% | Test Loss (BCE): 0.5635\n",
      "\n",
      "Epoch 050 | Train Accuracy: 77.50% | Train Loss (BCE): 0.5697 | Test Accuracy: 79.50% | Test Loss (BCE): 0.5616\n",
      "\n",
      "Epoch 051 | Train Accuracy: 77.50% | Train Loss (BCE): 0.5679 | Test Accuracy: 79.50% | Test Loss (BCE): 0.5597\n",
      "\n",
      "Epoch 052 | Train Accuracy: 77.62% | Train Loss (BCE): 0.5661 | Test Accuracy: 80.00% | Test Loss (BCE): 0.5577\n",
      "\n",
      "Epoch 053 | Train Accuracy: 77.88% | Train Loss (BCE): 0.5643 | Test Accuracy: 80.00% | Test Loss (BCE): 0.5558\n",
      "\n",
      "Epoch 054 | Train Accuracy: 77.88% | Train Loss (BCE): 0.5625 | Test Accuracy: 80.00% | Test Loss (BCE): 0.5540\n",
      "\n",
      "Epoch 055 | Train Accuracy: 77.75% | Train Loss (BCE): 0.5607 | Test Accuracy: 80.00% | Test Loss (BCE): 0.5521\n",
      "\n",
      "Epoch 056 | Train Accuracy: 78.00% | Train Loss (BCE): 0.5589 | Test Accuracy: 80.50% | Test Loss (BCE): 0.5502\n",
      "\n",
      "Epoch 057 | Train Accuracy: 78.00% | Train Loss (BCE): 0.5571 | Test Accuracy: 80.50% | Test Loss (BCE): 0.5483\n",
      "\n",
      "Epoch 058 | Train Accuracy: 78.00% | Train Loss (BCE): 0.5553 | Test Accuracy: 80.50% | Test Loss (BCE): 0.5464\n",
      "\n",
      "Epoch 059 | Train Accuracy: 78.00% | Train Loss (BCE): 0.5535 | Test Accuracy: 80.50% | Test Loss (BCE): 0.5445\n",
      "\n",
      "Epoch 060 | Train Accuracy: 78.00% | Train Loss (BCE): 0.5517 | Test Accuracy: 80.50% | Test Loss (BCE): 0.5427\n",
      "\n",
      "Epoch 061 | Train Accuracy: 78.12% | Train Loss (BCE): 0.5499 | Test Accuracy: 81.00% | Test Loss (BCE): 0.5408\n",
      "\n",
      "Epoch 062 | Train Accuracy: 78.38% | Train Loss (BCE): 0.5480 | Test Accuracy: 81.00% | Test Loss (BCE): 0.5389\n",
      "\n",
      "Epoch 063 | Train Accuracy: 78.50% | Train Loss (BCE): 0.5462 | Test Accuracy: 81.00% | Test Loss (BCE): 0.5371\n",
      "\n",
      "Epoch 064 | Train Accuracy: 78.50% | Train Loss (BCE): 0.5443 | Test Accuracy: 81.00% | Test Loss (BCE): 0.5352\n",
      "\n",
      "Epoch 065 | Train Accuracy: 78.50% | Train Loss (BCE): 0.5423 | Test Accuracy: 81.00% | Test Loss (BCE): 0.5333\n",
      "\n",
      "Epoch 066 | Train Accuracy: 78.50% | Train Loss (BCE): 0.5403 | Test Accuracy: 81.00% | Test Loss (BCE): 0.5314\n",
      "\n",
      "Epoch 067 | Train Accuracy: 78.50% | Train Loss (BCE): 0.5383 | Test Accuracy: 81.00% | Test Loss (BCE): 0.5295\n",
      "\n",
      "Epoch 068 | Train Accuracy: 78.62% | Train Loss (BCE): 0.5363 | Test Accuracy: 81.00% | Test Loss (BCE): 0.5276\n",
      "\n",
      "Epoch 069 | Train Accuracy: 78.88% | Train Loss (BCE): 0.5342 | Test Accuracy: 81.00% | Test Loss (BCE): 0.5256\n",
      "\n",
      "Epoch 070 | Train Accuracy: 79.00% | Train Loss (BCE): 0.5322 | Test Accuracy: 81.00% | Test Loss (BCE): 0.5236\n",
      "\n",
      "Epoch 071 | Train Accuracy: 79.12% | Train Loss (BCE): 0.5301 | Test Accuracy: 81.00% | Test Loss (BCE): 0.5216\n",
      "\n",
      "Epoch 072 | Train Accuracy: 79.12% | Train Loss (BCE): 0.5281 | Test Accuracy: 81.00% | Test Loss (BCE): 0.5196\n",
      "\n",
      "Epoch 073 | Train Accuracy: 79.00% | Train Loss (BCE): 0.5261 | Test Accuracy: 81.50% | Test Loss (BCE): 0.5176\n",
      "\n",
      "Epoch 074 | Train Accuracy: 79.00% | Train Loss (BCE): 0.5241 | Test Accuracy: 81.50% | Test Loss (BCE): 0.5156\n",
      "\n",
      "Epoch 075 | Train Accuracy: 79.12% | Train Loss (BCE): 0.5222 | Test Accuracy: 81.50% | Test Loss (BCE): 0.5136\n",
      "\n",
      "Epoch 076 | Train Accuracy: 79.12% | Train Loss (BCE): 0.5203 | Test Accuracy: 81.50% | Test Loss (BCE): 0.5117\n",
      "\n",
      "Epoch 077 | Train Accuracy: 79.25% | Train Loss (BCE): 0.5184 | Test Accuracy: 81.00% | Test Loss (BCE): 0.5097\n",
      "\n",
      "Epoch 078 | Train Accuracy: 79.25% | Train Loss (BCE): 0.5165 | Test Accuracy: 81.00% | Test Loss (BCE): 0.5078\n",
      "\n",
      "Epoch 079 | Train Accuracy: 79.12% | Train Loss (BCE): 0.5146 | Test Accuracy: 81.00% | Test Loss (BCE): 0.5059\n",
      "\n",
      "Epoch 080 | Train Accuracy: 79.50% | Train Loss (BCE): 0.5127 | Test Accuracy: 81.00% | Test Loss (BCE): 0.5040\n",
      "\n",
      "Epoch 081 | Train Accuracy: 79.50% | Train Loss (BCE): 0.5109 | Test Accuracy: 81.50% | Test Loss (BCE): 0.5021\n",
      "\n",
      "Epoch 082 | Train Accuracy: 79.62% | Train Loss (BCE): 0.5090 | Test Accuracy: 81.50% | Test Loss (BCE): 0.5003\n",
      "\n",
      "Epoch 083 | Train Accuracy: 79.75% | Train Loss (BCE): 0.5072 | Test Accuracy: 81.50% | Test Loss (BCE): 0.4984\n",
      "\n",
      "Epoch 084 | Train Accuracy: 79.75% | Train Loss (BCE): 0.5054 | Test Accuracy: 81.50% | Test Loss (BCE): 0.4966\n",
      "\n",
      "Epoch 085 | Train Accuracy: 79.75% | Train Loss (BCE): 0.5035 | Test Accuracy: 82.00% | Test Loss (BCE): 0.4948\n",
      "\n",
      "Epoch 086 | Train Accuracy: 79.88% | Train Loss (BCE): 0.5017 | Test Accuracy: 82.00% | Test Loss (BCE): 0.4930\n",
      "\n",
      "Epoch 087 | Train Accuracy: 80.00% | Train Loss (BCE): 0.4999 | Test Accuracy: 82.00% | Test Loss (BCE): 0.4912\n",
      "\n",
      "Epoch 088 | Train Accuracy: 80.00% | Train Loss (BCE): 0.4981 | Test Accuracy: 82.00% | Test Loss (BCE): 0.4894\n",
      "\n",
      "Epoch 089 | Train Accuracy: 80.12% | Train Loss (BCE): 0.4963 | Test Accuracy: 82.00% | Test Loss (BCE): 0.4876\n",
      "\n",
      "Epoch 090 | Train Accuracy: 80.12% | Train Loss (BCE): 0.4945 | Test Accuracy: 82.00% | Test Loss (BCE): 0.4859\n",
      "\n",
      "Epoch 091 | Train Accuracy: 80.25% | Train Loss (BCE): 0.4927 | Test Accuracy: 82.00% | Test Loss (BCE): 0.4841\n",
      "\n",
      "Epoch 092 | Train Accuracy: 80.25% | Train Loss (BCE): 0.4909 | Test Accuracy: 83.00% | Test Loss (BCE): 0.4823\n",
      "\n",
      "Epoch 093 | Train Accuracy: 80.38% | Train Loss (BCE): 0.4891 | Test Accuracy: 83.00% | Test Loss (BCE): 0.4806\n",
      "\n",
      "Epoch 094 | Train Accuracy: 80.38% | Train Loss (BCE): 0.4873 | Test Accuracy: 83.00% | Test Loss (BCE): 0.4788\n",
      "\n",
      "Epoch 095 | Train Accuracy: 80.25% | Train Loss (BCE): 0.4855 | Test Accuracy: 83.50% | Test Loss (BCE): 0.4771\n",
      "\n",
      "Epoch 096 | Train Accuracy: 80.25% | Train Loss (BCE): 0.4837 | Test Accuracy: 83.50% | Test Loss (BCE): 0.4754\n",
      "\n",
      "Epoch 097 | Train Accuracy: 80.50% | Train Loss (BCE): 0.4819 | Test Accuracy: 83.50% | Test Loss (BCE): 0.4737\n",
      "\n",
      "Epoch 098 | Train Accuracy: 80.75% | Train Loss (BCE): 0.4801 | Test Accuracy: 83.50% | Test Loss (BCE): 0.4719\n",
      "\n",
      "Epoch 099 | Train Accuracy: 81.12% | Train Loss (BCE): 0.4783 | Test Accuracy: 83.50% | Test Loss (BCE): 0.4702\n",
      "\n",
      "Epoch 100 | Train Accuracy: 81.38% | Train Loss (BCE): 0.4765 | Test Accuracy: 83.50% | Test Loss (BCE): 0.4685\n",
      "\n",
      "Epoch 101 | Train Accuracy: 81.38% | Train Loss (BCE): 0.4747 | Test Accuracy: 83.50% | Test Loss (BCE): 0.4669\n",
      "\n",
      "Epoch 102 | Train Accuracy: 81.38% | Train Loss (BCE): 0.4728 | Test Accuracy: 83.50% | Test Loss (BCE): 0.4652\n",
      "\n",
      "Epoch 103 | Train Accuracy: 81.38% | Train Loss (BCE): 0.4710 | Test Accuracy: 84.00% | Test Loss (BCE): 0.4635\n",
      "\n",
      "Epoch 104 | Train Accuracy: 81.38% | Train Loss (BCE): 0.4693 | Test Accuracy: 84.00% | Test Loss (BCE): 0.4619\n",
      "\n",
      "Epoch 105 | Train Accuracy: 81.62% | Train Loss (BCE): 0.4675 | Test Accuracy: 84.00% | Test Loss (BCE): 0.4602\n",
      "\n",
      "Epoch 106 | Train Accuracy: 81.62% | Train Loss (BCE): 0.4657 | Test Accuracy: 84.00% | Test Loss (BCE): 0.4585\n",
      "\n",
      "Epoch 107 | Train Accuracy: 81.88% | Train Loss (BCE): 0.4639 | Test Accuracy: 84.00% | Test Loss (BCE): 0.4569\n",
      "\n",
      "Epoch 108 | Train Accuracy: 82.00% | Train Loss (BCE): 0.4621 | Test Accuracy: 84.00% | Test Loss (BCE): 0.4552\n",
      "\n",
      "Epoch 109 | Train Accuracy: 82.25% | Train Loss (BCE): 0.4603 | Test Accuracy: 84.00% | Test Loss (BCE): 0.4535\n",
      "\n",
      "Epoch 110 | Train Accuracy: 82.38% | Train Loss (BCE): 0.4585 | Test Accuracy: 84.50% | Test Loss (BCE): 0.4519\n",
      "\n",
      "Epoch 111 | Train Accuracy: 82.38% | Train Loss (BCE): 0.4567 | Test Accuracy: 84.50% | Test Loss (BCE): 0.4502\n",
      "\n",
      "Epoch 112 | Train Accuracy: 82.25% | Train Loss (BCE): 0.4549 | Test Accuracy: 84.50% | Test Loss (BCE): 0.4486\n",
      "\n",
      "Epoch 113 | Train Accuracy: 82.25% | Train Loss (BCE): 0.4531 | Test Accuracy: 84.50% | Test Loss (BCE): 0.4469\n",
      "\n",
      "Epoch 114 | Train Accuracy: 82.38% | Train Loss (BCE): 0.4513 | Test Accuracy: 84.50% | Test Loss (BCE): 0.4452\n",
      "\n",
      "Epoch 115 | Train Accuracy: 82.38% | Train Loss (BCE): 0.4495 | Test Accuracy: 84.50% | Test Loss (BCE): 0.4435\n",
      "\n",
      "Epoch 116 | Train Accuracy: 82.38% | Train Loss (BCE): 0.4477 | Test Accuracy: 84.50% | Test Loss (BCE): 0.4419\n",
      "\n",
      "Epoch 117 | Train Accuracy: 82.50% | Train Loss (BCE): 0.4460 | Test Accuracy: 84.50% | Test Loss (BCE): 0.4402\n",
      "\n",
      "Epoch 118 | Train Accuracy: 82.75% | Train Loss (BCE): 0.4442 | Test Accuracy: 84.50% | Test Loss (BCE): 0.4386\n",
      "\n",
      "Epoch 119 | Train Accuracy: 82.75% | Train Loss (BCE): 0.4424 | Test Accuracy: 84.50% | Test Loss (BCE): 0.4369\n",
      "\n",
      "Epoch 120 | Train Accuracy: 82.88% | Train Loss (BCE): 0.4406 | Test Accuracy: 84.50% | Test Loss (BCE): 0.4353\n",
      "\n",
      "Epoch 121 | Train Accuracy: 83.00% | Train Loss (BCE): 0.4388 | Test Accuracy: 84.50% | Test Loss (BCE): 0.4336\n",
      "\n",
      "Epoch 122 | Train Accuracy: 83.50% | Train Loss (BCE): 0.4370 | Test Accuracy: 84.50% | Test Loss (BCE): 0.4319\n",
      "\n",
      "Epoch 123 | Train Accuracy: 83.62% | Train Loss (BCE): 0.4353 | Test Accuracy: 84.50% | Test Loss (BCE): 0.4303\n",
      "\n",
      "Epoch 124 | Train Accuracy: 83.75% | Train Loss (BCE): 0.4335 | Test Accuracy: 84.50% | Test Loss (BCE): 0.4287\n",
      "\n",
      "Epoch 125 | Train Accuracy: 83.88% | Train Loss (BCE): 0.4317 | Test Accuracy: 84.50% | Test Loss (BCE): 0.4271\n",
      "\n",
      "Epoch 126 | Train Accuracy: 84.12% | Train Loss (BCE): 0.4300 | Test Accuracy: 84.50% | Test Loss (BCE): 0.4254\n",
      "\n",
      "Epoch 127 | Train Accuracy: 84.12% | Train Loss (BCE): 0.4282 | Test Accuracy: 84.50% | Test Loss (BCE): 0.4238\n",
      "\n",
      "Epoch 128 | Train Accuracy: 84.25% | Train Loss (BCE): 0.4264 | Test Accuracy: 84.50% | Test Loss (BCE): 0.4222\n",
      "\n",
      "Epoch 129 | Train Accuracy: 84.38% | Train Loss (BCE): 0.4247 | Test Accuracy: 84.50% | Test Loss (BCE): 0.4206\n",
      "\n",
      "Epoch 130 | Train Accuracy: 84.38% | Train Loss (BCE): 0.4229 | Test Accuracy: 84.50% | Test Loss (BCE): 0.4189\n",
      "\n",
      "Epoch 131 | Train Accuracy: 84.62% | Train Loss (BCE): 0.4211 | Test Accuracy: 84.50% | Test Loss (BCE): 0.4173\n",
      "\n",
      "Epoch 132 | Train Accuracy: 84.75% | Train Loss (BCE): 0.4194 | Test Accuracy: 84.50% | Test Loss (BCE): 0.4157\n",
      "\n",
      "Epoch 133 | Train Accuracy: 84.75% | Train Loss (BCE): 0.4176 | Test Accuracy: 84.50% | Test Loss (BCE): 0.4141\n",
      "\n",
      "Epoch 134 | Train Accuracy: 85.00% | Train Loss (BCE): 0.4158 | Test Accuracy: 84.50% | Test Loss (BCE): 0.4125\n",
      "\n",
      "Epoch 135 | Train Accuracy: 85.12% | Train Loss (BCE): 0.4140 | Test Accuracy: 84.50% | Test Loss (BCE): 0.4108\n",
      "\n",
      "Epoch 136 | Train Accuracy: 85.38% | Train Loss (BCE): 0.4122 | Test Accuracy: 85.00% | Test Loss (BCE): 0.4091\n",
      "\n",
      "Epoch 137 | Train Accuracy: 85.62% | Train Loss (BCE): 0.4104 | Test Accuracy: 85.00% | Test Loss (BCE): 0.4074\n",
      "\n",
      "Epoch 138 | Train Accuracy: 85.75% | Train Loss (BCE): 0.4086 | Test Accuracy: 85.00% | Test Loss (BCE): 0.4057\n",
      "\n",
      "Epoch 139 | Train Accuracy: 85.88% | Train Loss (BCE): 0.4068 | Test Accuracy: 85.00% | Test Loss (BCE): 0.4040\n",
      "\n",
      "Epoch 140 | Train Accuracy: 85.88% | Train Loss (BCE): 0.4050 | Test Accuracy: 85.00% | Test Loss (BCE): 0.4023\n",
      "\n",
      "Epoch 141 | Train Accuracy: 85.88% | Train Loss (BCE): 0.4032 | Test Accuracy: 85.00% | Test Loss (BCE): 0.4006\n",
      "\n",
      "Epoch 142 | Train Accuracy: 85.75% | Train Loss (BCE): 0.4014 | Test Accuracy: 85.00% | Test Loss (BCE): 0.3990\n",
      "\n",
      "Epoch 143 | Train Accuracy: 85.88% | Train Loss (BCE): 0.3996 | Test Accuracy: 85.50% | Test Loss (BCE): 0.3973\n",
      "\n",
      "Epoch 144 | Train Accuracy: 86.00% | Train Loss (BCE): 0.3978 | Test Accuracy: 86.00% | Test Loss (BCE): 0.3956\n",
      "\n",
      "Epoch 145 | Train Accuracy: 86.00% | Train Loss (BCE): 0.3960 | Test Accuracy: 86.00% | Test Loss (BCE): 0.3939\n",
      "\n",
      "Epoch 146 | Train Accuracy: 86.12% | Train Loss (BCE): 0.3942 | Test Accuracy: 86.00% | Test Loss (BCE): 0.3922\n",
      "\n",
      "Epoch 147 | Train Accuracy: 86.25% | Train Loss (BCE): 0.3924 | Test Accuracy: 86.00% | Test Loss (BCE): 0.3905\n",
      "\n",
      "Epoch 148 | Train Accuracy: 86.38% | Train Loss (BCE): 0.3906 | Test Accuracy: 86.00% | Test Loss (BCE): 0.3888\n",
      "\n",
      "Epoch 149 | Train Accuracy: 86.88% | Train Loss (BCE): 0.3888 | Test Accuracy: 87.00% | Test Loss (BCE): 0.3872\n",
      "\n",
      "Epoch 150 | Train Accuracy: 87.12% | Train Loss (BCE): 0.3870 | Test Accuracy: 87.50% | Test Loss (BCE): 0.3855\n",
      "\n",
      "Epoch 151 | Train Accuracy: 87.25% | Train Loss (BCE): 0.3852 | Test Accuracy: 87.50% | Test Loss (BCE): 0.3838\n",
      "\n",
      "Epoch 152 | Train Accuracy: 87.25% | Train Loss (BCE): 0.3833 | Test Accuracy: 87.50% | Test Loss (BCE): 0.3821\n",
      "\n",
      "Epoch 153 | Train Accuracy: 87.38% | Train Loss (BCE): 0.3815 | Test Accuracy: 87.50% | Test Loss (BCE): 0.3804\n",
      "\n",
      "Epoch 154 | Train Accuracy: 87.62% | Train Loss (BCE): 0.3796 | Test Accuracy: 87.50% | Test Loss (BCE): 0.3787\n",
      "\n",
      "Epoch 155 | Train Accuracy: 87.62% | Train Loss (BCE): 0.3778 | Test Accuracy: 87.50% | Test Loss (BCE): 0.3770\n",
      "\n",
      "Epoch 156 | Train Accuracy: 87.75% | Train Loss (BCE): 0.3760 | Test Accuracy: 87.50% | Test Loss (BCE): 0.3752\n",
      "\n",
      "Epoch 157 | Train Accuracy: 87.88% | Train Loss (BCE): 0.3741 | Test Accuracy: 87.50% | Test Loss (BCE): 0.3735\n",
      "\n",
      "Epoch 158 | Train Accuracy: 88.00% | Train Loss (BCE): 0.3722 | Test Accuracy: 88.00% | Test Loss (BCE): 0.3718\n",
      "\n",
      "Epoch 159 | Train Accuracy: 88.00% | Train Loss (BCE): 0.3704 | Test Accuracy: 88.00% | Test Loss (BCE): 0.3700\n",
      "\n",
      "Epoch 160 | Train Accuracy: 88.12% | Train Loss (BCE): 0.3685 | Test Accuracy: 87.50% | Test Loss (BCE): 0.3683\n",
      "\n",
      "Epoch 161 | Train Accuracy: 88.25% | Train Loss (BCE): 0.3667 | Test Accuracy: 87.50% | Test Loss (BCE): 0.3665\n",
      "\n",
      "Epoch 162 | Train Accuracy: 88.38% | Train Loss (BCE): 0.3648 | Test Accuracy: 87.50% | Test Loss (BCE): 0.3648\n",
      "\n",
      "Epoch 163 | Train Accuracy: 88.38% | Train Loss (BCE): 0.3629 | Test Accuracy: 88.00% | Test Loss (BCE): 0.3630\n",
      "\n",
      "Epoch 164 | Train Accuracy: 88.50% | Train Loss (BCE): 0.3611 | Test Accuracy: 88.50% | Test Loss (BCE): 0.3612\n",
      "\n",
      "Epoch 165 | Train Accuracy: 88.62% | Train Loss (BCE): 0.3592 | Test Accuracy: 88.50% | Test Loss (BCE): 0.3594\n",
      "\n",
      "Epoch 166 | Train Accuracy: 88.75% | Train Loss (BCE): 0.3574 | Test Accuracy: 89.00% | Test Loss (BCE): 0.3577\n",
      "\n",
      "Epoch 167 | Train Accuracy: 88.88% | Train Loss (BCE): 0.3555 | Test Accuracy: 89.00% | Test Loss (BCE): 0.3559\n",
      "\n",
      "Epoch 168 | Train Accuracy: 89.00% | Train Loss (BCE): 0.3537 | Test Accuracy: 89.00% | Test Loss (BCE): 0.3542\n",
      "\n",
      "Epoch 169 | Train Accuracy: 89.12% | Train Loss (BCE): 0.3518 | Test Accuracy: 89.00% | Test Loss (BCE): 0.3525\n",
      "\n",
      "Epoch 170 | Train Accuracy: 89.25% | Train Loss (BCE): 0.3500 | Test Accuracy: 89.00% | Test Loss (BCE): 0.3507\n",
      "\n",
      "Epoch 171 | Train Accuracy: 89.38% | Train Loss (BCE): 0.3481 | Test Accuracy: 89.00% | Test Loss (BCE): 0.3490\n",
      "\n",
      "Epoch 172 | Train Accuracy: 89.62% | Train Loss (BCE): 0.3463 | Test Accuracy: 89.00% | Test Loss (BCE): 0.3473\n",
      "\n",
      "Epoch 173 | Train Accuracy: 89.62% | Train Loss (BCE): 0.3445 | Test Accuracy: 89.50% | Test Loss (BCE): 0.3456\n",
      "\n",
      "Epoch 174 | Train Accuracy: 89.75% | Train Loss (BCE): 0.3427 | Test Accuracy: 89.50% | Test Loss (BCE): 0.3438\n",
      "\n",
      "Epoch 175 | Train Accuracy: 89.75% | Train Loss (BCE): 0.3408 | Test Accuracy: 89.50% | Test Loss (BCE): 0.3421\n",
      "\n",
      "Epoch 176 | Train Accuracy: 89.75% | Train Loss (BCE): 0.3390 | Test Accuracy: 90.50% | Test Loss (BCE): 0.3403\n",
      "\n",
      "Epoch 177 | Train Accuracy: 89.75% | Train Loss (BCE): 0.3371 | Test Accuracy: 90.50% | Test Loss (BCE): 0.3385\n",
      "\n",
      "Epoch 178 | Train Accuracy: 90.00% | Train Loss (BCE): 0.3353 | Test Accuracy: 90.50% | Test Loss (BCE): 0.3368\n",
      "\n",
      "Epoch 179 | Train Accuracy: 90.12% | Train Loss (BCE): 0.3334 | Test Accuracy: 90.50% | Test Loss (BCE): 0.3350\n",
      "\n",
      "Epoch 180 | Train Accuracy: 90.12% | Train Loss (BCE): 0.3316 | Test Accuracy: 90.50% | Test Loss (BCE): 0.3332\n",
      "\n",
      "Epoch 181 | Train Accuracy: 90.12% | Train Loss (BCE): 0.3297 | Test Accuracy: 90.50% | Test Loss (BCE): 0.3314\n",
      "\n",
      "Epoch 182 | Train Accuracy: 90.38% | Train Loss (BCE): 0.3279 | Test Accuracy: 90.50% | Test Loss (BCE): 0.3296\n",
      "\n",
      "Epoch 183 | Train Accuracy: 90.62% | Train Loss (BCE): 0.3261 | Test Accuracy: 90.50% | Test Loss (BCE): 0.3279\n",
      "\n",
      "Epoch 184 | Train Accuracy: 90.62% | Train Loss (BCE): 0.3242 | Test Accuracy: 90.50% | Test Loss (BCE): 0.3261\n",
      "\n",
      "Epoch 185 | Train Accuracy: 90.62% | Train Loss (BCE): 0.3224 | Test Accuracy: 90.50% | Test Loss (BCE): 0.3244\n",
      "\n",
      "Epoch 186 | Train Accuracy: 90.62% | Train Loss (BCE): 0.3206 | Test Accuracy: 90.50% | Test Loss (BCE): 0.3226\n",
      "\n",
      "Epoch 187 | Train Accuracy: 90.75% | Train Loss (BCE): 0.3188 | Test Accuracy: 90.50% | Test Loss (BCE): 0.3209\n",
      "\n",
      "Epoch 188 | Train Accuracy: 90.88% | Train Loss (BCE): 0.3170 | Test Accuracy: 92.00% | Test Loss (BCE): 0.3192\n",
      "\n",
      "Epoch 189 | Train Accuracy: 91.00% | Train Loss (BCE): 0.3153 | Test Accuracy: 92.50% | Test Loss (BCE): 0.3175\n",
      "\n",
      "Epoch 190 | Train Accuracy: 91.12% | Train Loss (BCE): 0.3135 | Test Accuracy: 92.50% | Test Loss (BCE): 0.3158\n",
      "\n",
      "Epoch 191 | Train Accuracy: 91.12% | Train Loss (BCE): 0.3117 | Test Accuracy: 92.50% | Test Loss (BCE): 0.3141\n",
      "\n",
      "Epoch 192 | Train Accuracy: 91.12% | Train Loss (BCE): 0.3100 | Test Accuracy: 92.50% | Test Loss (BCE): 0.3124\n",
      "\n",
      "Epoch 193 | Train Accuracy: 91.25% | Train Loss (BCE): 0.3083 | Test Accuracy: 92.50% | Test Loss (BCE): 0.3108\n",
      "\n",
      "Epoch 194 | Train Accuracy: 91.38% | Train Loss (BCE): 0.3065 | Test Accuracy: 92.50% | Test Loss (BCE): 0.3091\n",
      "\n",
      "Epoch 195 | Train Accuracy: 91.38% | Train Loss (BCE): 0.3048 | Test Accuracy: 93.00% | Test Loss (BCE): 0.3074\n",
      "\n",
      "Epoch 196 | Train Accuracy: 91.50% | Train Loss (BCE): 0.3030 | Test Accuracy: 93.00% | Test Loss (BCE): 0.3057\n",
      "\n",
      "Epoch 197 | Train Accuracy: 91.62% | Train Loss (BCE): 0.3013 | Test Accuracy: 93.00% | Test Loss (BCE): 0.3040\n",
      "\n",
      "Epoch 198 | Train Accuracy: 91.75% | Train Loss (BCE): 0.2995 | Test Accuracy: 93.50% | Test Loss (BCE): 0.3023\n",
      "\n",
      "Epoch 199 | Train Accuracy: 91.88% | Train Loss (BCE): 0.2978 | Test Accuracy: 93.50% | Test Loss (BCE): 0.3007\n",
      "\n",
      "Epoch 200 | Train Accuracy: 92.12% | Train Loss (BCE): 0.2961 | Test Accuracy: 93.50% | Test Loss (BCE): 0.2990\n",
      "\n",
      "Epoch 201 | Train Accuracy: 92.25% | Train Loss (BCE): 0.2944 | Test Accuracy: 93.50% | Test Loss (BCE): 0.2973\n",
      "\n",
      "Epoch 202 | Train Accuracy: 92.38% | Train Loss (BCE): 0.2927 | Test Accuracy: 93.50% | Test Loss (BCE): 0.2956\n",
      "\n",
      "Epoch 203 | Train Accuracy: 92.38% | Train Loss (BCE): 0.2909 | Test Accuracy: 93.50% | Test Loss (BCE): 0.2939\n",
      "\n",
      "Epoch 204 | Train Accuracy: 92.62% | Train Loss (BCE): 0.2892 | Test Accuracy: 93.50% | Test Loss (BCE): 0.2923\n",
      "\n",
      "Epoch 205 | Train Accuracy: 92.75% | Train Loss (BCE): 0.2875 | Test Accuracy: 93.50% | Test Loss (BCE): 0.2906\n",
      "\n",
      "Epoch 206 | Train Accuracy: 92.62% | Train Loss (BCE): 0.2859 | Test Accuracy: 94.00% | Test Loss (BCE): 0.2890\n",
      "\n",
      "Epoch 207 | Train Accuracy: 92.62% | Train Loss (BCE): 0.2842 | Test Accuracy: 94.00% | Test Loss (BCE): 0.2873\n",
      "\n",
      "Epoch 208 | Train Accuracy: 92.88% | Train Loss (BCE): 0.2825 | Test Accuracy: 94.00% | Test Loss (BCE): 0.2857\n",
      "\n",
      "Epoch 209 | Train Accuracy: 93.00% | Train Loss (BCE): 0.2808 | Test Accuracy: 94.00% | Test Loss (BCE): 0.2840\n",
      "\n",
      "Epoch 210 | Train Accuracy: 93.00% | Train Loss (BCE): 0.2792 | Test Accuracy: 94.00% | Test Loss (BCE): 0.2824\n",
      "\n",
      "Epoch 211 | Train Accuracy: 93.12% | Train Loss (BCE): 0.2775 | Test Accuracy: 94.00% | Test Loss (BCE): 0.2808\n",
      "\n",
      "Epoch 212 | Train Accuracy: 93.25% | Train Loss (BCE): 0.2759 | Test Accuracy: 94.00% | Test Loss (BCE): 0.2792\n",
      "\n",
      "Epoch 213 | Train Accuracy: 93.38% | Train Loss (BCE): 0.2743 | Test Accuracy: 94.00% | Test Loss (BCE): 0.2776\n",
      "\n",
      "Epoch 214 | Train Accuracy: 93.38% | Train Loss (BCE): 0.2726 | Test Accuracy: 94.00% | Test Loss (BCE): 0.2761\n",
      "\n",
      "Epoch 215 | Train Accuracy: 93.38% | Train Loss (BCE): 0.2711 | Test Accuracy: 94.00% | Test Loss (BCE): 0.2746\n",
      "\n",
      "Epoch 216 | Train Accuracy: 93.50% | Train Loss (BCE): 0.2695 | Test Accuracy: 94.00% | Test Loss (BCE): 0.2730\n",
      "\n",
      "Epoch 217 | Train Accuracy: 93.88% | Train Loss (BCE): 0.2679 | Test Accuracy: 94.50% | Test Loss (BCE): 0.2715\n",
      "\n",
      "Epoch 218 | Train Accuracy: 94.12% | Train Loss (BCE): 0.2664 | Test Accuracy: 94.50% | Test Loss (BCE): 0.2700\n",
      "\n",
      "Epoch 219 | Train Accuracy: 94.25% | Train Loss (BCE): 0.2648 | Test Accuracy: 95.00% | Test Loss (BCE): 0.2684\n",
      "\n",
      "Epoch 220 | Train Accuracy: 94.25% | Train Loss (BCE): 0.2633 | Test Accuracy: 95.00% | Test Loss (BCE): 0.2670\n",
      "\n",
      "Epoch 221 | Train Accuracy: 94.50% | Train Loss (BCE): 0.2617 | Test Accuracy: 95.00% | Test Loss (BCE): 0.2655\n",
      "\n",
      "Epoch 222 | Train Accuracy: 94.50% | Train Loss (BCE): 0.2602 | Test Accuracy: 95.00% | Test Loss (BCE): 0.2640\n",
      "\n",
      "Epoch 223 | Train Accuracy: 94.62% | Train Loss (BCE): 0.2587 | Test Accuracy: 95.50% | Test Loss (BCE): 0.2625\n",
      "\n",
      "Epoch 224 | Train Accuracy: 94.62% | Train Loss (BCE): 0.2572 | Test Accuracy: 95.50% | Test Loss (BCE): 0.2611\n",
      "\n",
      "Epoch 225 | Train Accuracy: 94.62% | Train Loss (BCE): 0.2557 | Test Accuracy: 95.50% | Test Loss (BCE): 0.2596\n",
      "\n",
      "Epoch 226 | Train Accuracy: 94.62% | Train Loss (BCE): 0.2542 | Test Accuracy: 95.50% | Test Loss (BCE): 0.2582\n",
      "\n",
      "Epoch 227 | Train Accuracy: 94.75% | Train Loss (BCE): 0.2527 | Test Accuracy: 96.00% | Test Loss (BCE): 0.2568\n",
      "\n",
      "Epoch 228 | Train Accuracy: 95.12% | Train Loss (BCE): 0.2512 | Test Accuracy: 96.00% | Test Loss (BCE): 0.2554\n",
      "\n",
      "Epoch 229 | Train Accuracy: 95.25% | Train Loss (BCE): 0.2497 | Test Accuracy: 96.00% | Test Loss (BCE): 0.2539\n",
      "\n",
      "Epoch 230 | Train Accuracy: 95.25% | Train Loss (BCE): 0.2482 | Test Accuracy: 96.00% | Test Loss (BCE): 0.2525\n",
      "\n",
      "Epoch 231 | Train Accuracy: 95.38% | Train Loss (BCE): 0.2468 | Test Accuracy: 96.00% | Test Loss (BCE): 0.2511\n",
      "\n",
      "Epoch 232 | Train Accuracy: 95.50% | Train Loss (BCE): 0.2453 | Test Accuracy: 96.00% | Test Loss (BCE): 0.2497\n",
      "\n",
      "Epoch 233 | Train Accuracy: 95.62% | Train Loss (BCE): 0.2439 | Test Accuracy: 96.00% | Test Loss (BCE): 0.2483\n",
      "\n",
      "Epoch 234 | Train Accuracy: 95.62% | Train Loss (BCE): 0.2424 | Test Accuracy: 96.00% | Test Loss (BCE): 0.2469\n",
      "\n",
      "Epoch 235 | Train Accuracy: 95.75% | Train Loss (BCE): 0.2410 | Test Accuracy: 96.00% | Test Loss (BCE): 0.2456\n",
      "\n",
      "Epoch 236 | Train Accuracy: 95.75% | Train Loss (BCE): 0.2396 | Test Accuracy: 96.50% | Test Loss (BCE): 0.2442\n",
      "\n",
      "Epoch 237 | Train Accuracy: 95.75% | Train Loss (BCE): 0.2382 | Test Accuracy: 97.00% | Test Loss (BCE): 0.2428\n",
      "\n",
      "Epoch 238 | Train Accuracy: 95.75% | Train Loss (BCE): 0.2368 | Test Accuracy: 97.00% | Test Loss (BCE): 0.2415\n",
      "\n",
      "Epoch 239 | Train Accuracy: 95.88% | Train Loss (BCE): 0.2354 | Test Accuracy: 97.00% | Test Loss (BCE): 0.2402\n",
      "\n",
      "Epoch 240 | Train Accuracy: 95.88% | Train Loss (BCE): 0.2340 | Test Accuracy: 97.00% | Test Loss (BCE): 0.2388\n",
      "\n",
      "Epoch 241 | Train Accuracy: 95.88% | Train Loss (BCE): 0.2327 | Test Accuracy: 97.00% | Test Loss (BCE): 0.2375\n",
      "\n",
      "Epoch 242 | Train Accuracy: 95.88% | Train Loss (BCE): 0.2313 | Test Accuracy: 97.00% | Test Loss (BCE): 0.2362\n",
      "\n",
      "Epoch 243 | Train Accuracy: 95.88% | Train Loss (BCE): 0.2300 | Test Accuracy: 97.00% | Test Loss (BCE): 0.2349\n",
      "\n",
      "Epoch 244 | Train Accuracy: 95.88% | Train Loss (BCE): 0.2287 | Test Accuracy: 97.50% | Test Loss (BCE): 0.2336\n",
      "\n",
      "Epoch 245 | Train Accuracy: 95.88% | Train Loss (BCE): 0.2273 | Test Accuracy: 98.00% | Test Loss (BCE): 0.2324\n",
      "\n",
      "Epoch 246 | Train Accuracy: 95.88% | Train Loss (BCE): 0.2260 | Test Accuracy: 98.00% | Test Loss (BCE): 0.2311\n",
      "\n",
      "Epoch 247 | Train Accuracy: 95.88% | Train Loss (BCE): 0.2247 | Test Accuracy: 98.00% | Test Loss (BCE): 0.2299\n",
      "\n",
      "Epoch 248 | Train Accuracy: 95.88% | Train Loss (BCE): 0.2235 | Test Accuracy: 98.00% | Test Loss (BCE): 0.2286\n",
      "\n",
      "Epoch 249 | Train Accuracy: 95.88% | Train Loss (BCE): 0.2222 | Test Accuracy: 98.00% | Test Loss (BCE): 0.2274\n",
      "\n",
      "Epoch 250 | Train Accuracy: 95.88% | Train Loss (BCE): 0.2209 | Test Accuracy: 98.00% | Test Loss (BCE): 0.2262\n",
      "\n",
      "Epoch 251 | Train Accuracy: 95.88% | Train Loss (BCE): 0.2197 | Test Accuracy: 98.00% | Test Loss (BCE): 0.2251\n",
      "\n",
      "Epoch 252 | Train Accuracy: 96.00% | Train Loss (BCE): 0.2185 | Test Accuracy: 98.00% | Test Loss (BCE): 0.2239\n",
      "\n",
      "Epoch 253 | Train Accuracy: 96.25% | Train Loss (BCE): 0.2172 | Test Accuracy: 98.00% | Test Loss (BCE): 0.2227\n",
      "\n",
      "Epoch 254 | Train Accuracy: 96.25% | Train Loss (BCE): 0.2160 | Test Accuracy: 98.00% | Test Loss (BCE): 0.2216\n",
      "\n",
      "Epoch 255 | Train Accuracy: 96.25% | Train Loss (BCE): 0.2148 | Test Accuracy: 98.00% | Test Loss (BCE): 0.2204\n",
      "\n",
      "Epoch 256 | Train Accuracy: 96.25% | Train Loss (BCE): 0.2136 | Test Accuracy: 98.00% | Test Loss (BCE): 0.2193\n",
      "\n",
      "Epoch 257 | Train Accuracy: 96.50% | Train Loss (BCE): 0.2124 | Test Accuracy: 98.00% | Test Loss (BCE): 0.2181\n",
      "\n",
      "Epoch 258 | Train Accuracy: 96.50% | Train Loss (BCE): 0.2112 | Test Accuracy: 98.00% | Test Loss (BCE): 0.2170\n",
      "\n",
      "Epoch 259 | Train Accuracy: 96.62% | Train Loss (BCE): 0.2100 | Test Accuracy: 98.00% | Test Loss (BCE): 0.2159\n",
      "\n",
      "Epoch 260 | Train Accuracy: 96.75% | Train Loss (BCE): 0.2089 | Test Accuracy: 98.00% | Test Loss (BCE): 0.2149\n",
      "\n",
      "Epoch 261 | Train Accuracy: 96.75% | Train Loss (BCE): 0.2077 | Test Accuracy: 98.00% | Test Loss (BCE): 0.2138\n",
      "\n",
      "Epoch 262 | Train Accuracy: 96.75% | Train Loss (BCE): 0.2066 | Test Accuracy: 98.00% | Test Loss (BCE): 0.2128\n",
      "\n",
      "Epoch 263 | Train Accuracy: 96.75% | Train Loss (BCE): 0.2054 | Test Accuracy: 98.00% | Test Loss (BCE): 0.2118\n",
      "\n",
      "Epoch 264 | Train Accuracy: 96.75% | Train Loss (BCE): 0.2043 | Test Accuracy: 98.00% | Test Loss (BCE): 0.2108\n",
      "\n",
      "Epoch 265 | Train Accuracy: 96.75% | Train Loss (BCE): 0.2032 | Test Accuracy: 98.00% | Test Loss (BCE): 0.2098\n",
      "\n",
      "Epoch 266 | Train Accuracy: 96.88% | Train Loss (BCE): 0.2021 | Test Accuracy: 98.00% | Test Loss (BCE): 0.2088\n",
      "\n",
      "Epoch 267 | Train Accuracy: 97.12% | Train Loss (BCE): 0.2010 | Test Accuracy: 98.00% | Test Loss (BCE): 0.2078\n",
      "\n",
      "Epoch 268 | Train Accuracy: 97.12% | Train Loss (BCE): 0.1999 | Test Accuracy: 98.00% | Test Loss (BCE): 0.2068\n",
      "\n",
      "Epoch 269 | Train Accuracy: 97.38% | Train Loss (BCE): 0.1988 | Test Accuracy: 98.00% | Test Loss (BCE): 0.2058\n",
      "\n",
      "Epoch 270 | Train Accuracy: 97.38% | Train Loss (BCE): 0.1978 | Test Accuracy: 98.00% | Test Loss (BCE): 0.2048\n",
      "\n",
      "Epoch 271 | Train Accuracy: 97.62% | Train Loss (BCE): 0.1967 | Test Accuracy: 98.00% | Test Loss (BCE): 0.2038\n",
      "\n",
      "Epoch 272 | Train Accuracy: 97.62% | Train Loss (BCE): 0.1957 | Test Accuracy: 98.00% | Test Loss (BCE): 0.2028\n",
      "\n",
      "Epoch 273 | Train Accuracy: 97.62% | Train Loss (BCE): 0.1946 | Test Accuracy: 98.00% | Test Loss (BCE): 0.2019\n",
      "\n",
      "Epoch 274 | Train Accuracy: 97.62% | Train Loss (BCE): 0.1936 | Test Accuracy: 98.00% | Test Loss (BCE): 0.2009\n",
      "\n",
      "Epoch 275 | Train Accuracy: 97.75% | Train Loss (BCE): 0.1926 | Test Accuracy: 98.00% | Test Loss (BCE): 0.2000\n",
      "\n",
      "Epoch 276 | Train Accuracy: 97.75% | Train Loss (BCE): 0.1916 | Test Accuracy: 98.00% | Test Loss (BCE): 0.1991\n",
      "\n",
      "Epoch 277 | Train Accuracy: 97.75% | Train Loss (BCE): 0.1906 | Test Accuracy: 98.00% | Test Loss (BCE): 0.1981\n",
      "\n",
      "Epoch 278 | Train Accuracy: 97.75% | Train Loss (BCE): 0.1896 | Test Accuracy: 98.00% | Test Loss (BCE): 0.1972\n",
      "\n",
      "Epoch 279 | Train Accuracy: 97.75% | Train Loss (BCE): 0.1886 | Test Accuracy: 98.00% | Test Loss (BCE): 0.1963\n",
      "\n",
      "Epoch 280 | Train Accuracy: 97.75% | Train Loss (BCE): 0.1877 | Test Accuracy: 98.00% | Test Loss (BCE): 0.1954\n",
      "\n",
      "Epoch 281 | Train Accuracy: 97.75% | Train Loss (BCE): 0.1867 | Test Accuracy: 97.50% | Test Loss (BCE): 0.1945\n",
      "\n",
      "Epoch 282 | Train Accuracy: 97.62% | Train Loss (BCE): 0.1858 | Test Accuracy: 97.50% | Test Loss (BCE): 0.1936\n",
      "\n",
      "Epoch 283 | Train Accuracy: 97.62% | Train Loss (BCE): 0.1848 | Test Accuracy: 97.50% | Test Loss (BCE): 0.1927\n",
      "\n",
      "Epoch 284 | Train Accuracy: 97.62% | Train Loss (BCE): 0.1839 | Test Accuracy: 97.50% | Test Loss (BCE): 0.1918\n",
      "\n",
      "Epoch 285 | Train Accuracy: 97.62% | Train Loss (BCE): 0.1830 | Test Accuracy: 97.50% | Test Loss (BCE): 0.1909\n",
      "\n",
      "Epoch 286 | Train Accuracy: 97.62% | Train Loss (BCE): 0.1821 | Test Accuracy: 97.50% | Test Loss (BCE): 0.1900\n",
      "\n",
      "Epoch 287 | Train Accuracy: 97.62% | Train Loss (BCE): 0.1812 | Test Accuracy: 97.50% | Test Loss (BCE): 0.1891\n",
      "\n",
      "Epoch 288 | Train Accuracy: 97.62% | Train Loss (BCE): 0.1803 | Test Accuracy: 97.50% | Test Loss (BCE): 0.1883\n",
      "\n",
      "Epoch 289 | Train Accuracy: 97.62% | Train Loss (BCE): 0.1794 | Test Accuracy: 97.50% | Test Loss (BCE): 0.1874\n",
      "\n",
      "Epoch 290 | Train Accuracy: 97.62% | Train Loss (BCE): 0.1785 | Test Accuracy: 97.50% | Test Loss (BCE): 0.1866\n",
      "\n",
      "Epoch 291 | Train Accuracy: 97.62% | Train Loss (BCE): 0.1776 | Test Accuracy: 97.50% | Test Loss (BCE): 0.1857\n",
      "\n",
      "Epoch 292 | Train Accuracy: 97.62% | Train Loss (BCE): 0.1768 | Test Accuracy: 97.50% | Test Loss (BCE): 0.1849\n",
      "\n",
      "Epoch 293 | Train Accuracy: 97.62% | Train Loss (BCE): 0.1759 | Test Accuracy: 97.50% | Test Loss (BCE): 0.1841\n",
      "\n",
      "Epoch 294 | Train Accuracy: 97.62% | Train Loss (BCE): 0.1750 | Test Accuracy: 97.50% | Test Loss (BCE): 0.1833\n",
      "\n",
      "Epoch 295 | Train Accuracy: 97.62% | Train Loss (BCE): 0.1742 | Test Accuracy: 97.50% | Test Loss (BCE): 0.1825\n",
      "\n",
      "Epoch 296 | Train Accuracy: 97.62% | Train Loss (BCE): 0.1733 | Test Accuracy: 97.50% | Test Loss (BCE): 0.1817\n",
      "\n",
      "Epoch 297 | Train Accuracy: 97.62% | Train Loss (BCE): 0.1725 | Test Accuracy: 98.00% | Test Loss (BCE): 0.1809\n",
      "\n",
      "Epoch 298 | Train Accuracy: 97.62% | Train Loss (BCE): 0.1716 | Test Accuracy: 98.00% | Test Loss (BCE): 0.1801\n",
      "\n",
      "Epoch 299 | Train Accuracy: 97.62% | Train Loss (BCE): 0.1708 | Test Accuracy: 98.00% | Test Loss (BCE): 0.1793\n",
      "\n",
      "Epoch 300 | Train Accuracy: 97.62% | Train Loss (BCE): 0.1700 | Test Accuracy: 98.00% | Test Loss (BCE): 0.1785\n",
      "\n",
      "Epoch 301 | Train Accuracy: 97.62% | Train Loss (BCE): 0.1692 | Test Accuracy: 98.00% | Test Loss (BCE): 0.1778\n",
      "\n",
      "Epoch 302 | Train Accuracy: 97.75% | Train Loss (BCE): 0.1684 | Test Accuracy: 98.00% | Test Loss (BCE): 0.1770\n",
      "\n",
      "Epoch 303 | Train Accuracy: 97.75% | Train Loss (BCE): 0.1676 | Test Accuracy: 98.50% | Test Loss (BCE): 0.1763\n",
      "\n",
      "Epoch 304 | Train Accuracy: 97.75% | Train Loss (BCE): 0.1668 | Test Accuracy: 98.50% | Test Loss (BCE): 0.1756\n",
      "\n",
      "Epoch 305 | Train Accuracy: 97.75% | Train Loss (BCE): 0.1660 | Test Accuracy: 98.50% | Test Loss (BCE): 0.1748\n",
      "\n",
      "Epoch 306 | Train Accuracy: 97.75% | Train Loss (BCE): 0.1652 | Test Accuracy: 98.50% | Test Loss (BCE): 0.1741\n",
      "\n",
      "Epoch 307 | Train Accuracy: 97.88% | Train Loss (BCE): 0.1644 | Test Accuracy: 98.50% | Test Loss (BCE): 0.1734\n",
      "\n",
      "Epoch 308 | Train Accuracy: 98.00% | Train Loss (BCE): 0.1636 | Test Accuracy: 98.50% | Test Loss (BCE): 0.1726\n",
      "\n",
      "Epoch 309 | Train Accuracy: 98.12% | Train Loss (BCE): 0.1629 | Test Accuracy: 98.50% | Test Loss (BCE): 0.1719\n",
      "\n",
      "Epoch 310 | Train Accuracy: 98.12% | Train Loss (BCE): 0.1621 | Test Accuracy: 98.50% | Test Loss (BCE): 0.1712\n",
      "\n",
      "Epoch 311 | Train Accuracy: 98.12% | Train Loss (BCE): 0.1614 | Test Accuracy: 98.50% | Test Loss (BCE): 0.1705\n",
      "\n",
      "Epoch 312 | Train Accuracy: 98.12% | Train Loss (BCE): 0.1606 | Test Accuracy: 98.50% | Test Loss (BCE): 0.1698\n",
      "\n",
      "Epoch 313 | Train Accuracy: 98.12% | Train Loss (BCE): 0.1599 | Test Accuracy: 98.50% | Test Loss (BCE): 0.1691\n",
      "\n",
      "Epoch 314 | Train Accuracy: 98.12% | Train Loss (BCE): 0.1591 | Test Accuracy: 98.50% | Test Loss (BCE): 0.1685\n",
      "\n",
      "Epoch 315 | Train Accuracy: 98.12% | Train Loss (BCE): 0.1584 | Test Accuracy: 98.50% | Test Loss (BCE): 0.1678\n",
      "\n",
      "Epoch 316 | Train Accuracy: 98.12% | Train Loss (BCE): 0.1577 | Test Accuracy: 98.50% | Test Loss (BCE): 0.1671\n",
      "\n",
      "Epoch 317 | Train Accuracy: 98.12% | Train Loss (BCE): 0.1570 | Test Accuracy: 98.50% | Test Loss (BCE): 0.1664\n",
      "\n",
      "Epoch 318 | Train Accuracy: 98.12% | Train Loss (BCE): 0.1562 | Test Accuracy: 98.50% | Test Loss (BCE): 0.1657\n",
      "\n",
      "Epoch 319 | Train Accuracy: 98.12% | Train Loss (BCE): 0.1555 | Test Accuracy: 98.50% | Test Loss (BCE): 0.1651\n",
      "\n",
      "Epoch 320 | Train Accuracy: 98.12% | Train Loss (BCE): 0.1548 | Test Accuracy: 98.50% | Test Loss (BCE): 0.1644\n",
      "\n",
      "Epoch 321 | Train Accuracy: 98.25% | Train Loss (BCE): 0.1542 | Test Accuracy: 98.50% | Test Loss (BCE): 0.1638\n",
      "\n",
      "Epoch 322 | Train Accuracy: 98.38% | Train Loss (BCE): 0.1535 | Test Accuracy: 98.50% | Test Loss (BCE): 0.1631\n",
      "\n",
      "Epoch 323 | Train Accuracy: 98.25% | Train Loss (BCE): 0.1528 | Test Accuracy: 98.50% | Test Loss (BCE): 0.1625\n",
      "\n",
      "Epoch 324 | Train Accuracy: 98.25% | Train Loss (BCE): 0.1521 | Test Accuracy: 99.00% | Test Loss (BCE): 0.1619\n",
      "\n",
      "Epoch 325 | Train Accuracy: 98.25% | Train Loss (BCE): 0.1515 | Test Accuracy: 99.00% | Test Loss (BCE): 0.1612\n",
      "\n",
      "Epoch 326 | Train Accuracy: 98.25% | Train Loss (BCE): 0.1508 | Test Accuracy: 99.00% | Test Loss (BCE): 0.1606\n",
      "\n",
      "Epoch 327 | Train Accuracy: 98.25% | Train Loss (BCE): 0.1502 | Test Accuracy: 99.00% | Test Loss (BCE): 0.1600\n",
      "\n",
      "Epoch 328 | Train Accuracy: 98.25% | Train Loss (BCE): 0.1495 | Test Accuracy: 99.00% | Test Loss (BCE): 0.1594\n",
      "\n",
      "Epoch 329 | Train Accuracy: 98.25% | Train Loss (BCE): 0.1489 | Test Accuracy: 99.00% | Test Loss (BCE): 0.1588\n",
      "\n",
      "Epoch 330 | Train Accuracy: 98.25% | Train Loss (BCE): 0.1482 | Test Accuracy: 99.00% | Test Loss (BCE): 0.1582\n",
      "\n",
      "Epoch 331 | Train Accuracy: 98.25% | Train Loss (BCE): 0.1476 | Test Accuracy: 99.00% | Test Loss (BCE): 0.1576\n",
      "\n",
      "Epoch 332 | Train Accuracy: 98.38% | Train Loss (BCE): 0.1470 | Test Accuracy: 99.00% | Test Loss (BCE): 0.1570\n",
      "\n",
      "Epoch 333 | Train Accuracy: 98.38% | Train Loss (BCE): 0.1464 | Test Accuracy: 99.00% | Test Loss (BCE): 0.1564\n",
      "\n",
      "Epoch 334 | Train Accuracy: 98.38% | Train Loss (BCE): 0.1458 | Test Accuracy: 99.00% | Test Loss (BCE): 0.1558\n",
      "\n",
      "Epoch 335 | Train Accuracy: 98.38% | Train Loss (BCE): 0.1452 | Test Accuracy: 99.00% | Test Loss (BCE): 0.1553\n",
      "\n",
      "Epoch 336 | Train Accuracy: 98.38% | Train Loss (BCE): 0.1446 | Test Accuracy: 99.00% | Test Loss (BCE): 0.1547\n",
      "\n",
      "Epoch 337 | Train Accuracy: 98.38% | Train Loss (BCE): 0.1440 | Test Accuracy: 99.00% | Test Loss (BCE): 0.1541\n",
      "\n",
      "Epoch 338 | Train Accuracy: 98.38% | Train Loss (BCE): 0.1434 | Test Accuracy: 99.00% | Test Loss (BCE): 0.1536\n",
      "\n",
      "Epoch 339 | Train Accuracy: 98.38% | Train Loss (BCE): 0.1428 | Test Accuracy: 99.00% | Test Loss (BCE): 0.1530\n",
      "\n",
      "Epoch 340 | Train Accuracy: 98.38% | Train Loss (BCE): 0.1423 | Test Accuracy: 99.00% | Test Loss (BCE): 0.1525\n",
      "\n",
      "Epoch 341 | Train Accuracy: 98.38% | Train Loss (BCE): 0.1417 | Test Accuracy: 99.00% | Test Loss (BCE): 0.1520\n",
      "\n",
      "Epoch 342 | Train Accuracy: 98.38% | Train Loss (BCE): 0.1412 | Test Accuracy: 99.00% | Test Loss (BCE): 0.1514\n",
      "\n",
      "Epoch 343 | Train Accuracy: 98.38% | Train Loss (BCE): 0.1406 | Test Accuracy: 99.00% | Test Loss (BCE): 0.1509\n",
      "\n",
      "Epoch 344 | Train Accuracy: 98.38% | Train Loss (BCE): 0.1401 | Test Accuracy: 99.00% | Test Loss (BCE): 0.1504\n",
      "\n",
      "Epoch 345 | Train Accuracy: 98.38% | Train Loss (BCE): 0.1395 | Test Accuracy: 99.00% | Test Loss (BCE): 0.1499\n",
      "\n",
      "Epoch 346 | Train Accuracy: 98.38% | Train Loss (BCE): 0.1390 | Test Accuracy: 99.00% | Test Loss (BCE): 0.1493\n",
      "\n",
      "Epoch 347 | Train Accuracy: 98.38% | Train Loss (BCE): 0.1384 | Test Accuracy: 99.00% | Test Loss (BCE): 0.1488\n",
      "\n",
      "Epoch 348 | Train Accuracy: 98.38% | Train Loss (BCE): 0.1379 | Test Accuracy: 99.00% | Test Loss (BCE): 0.1483\n",
      "\n",
      "Epoch 349 | Train Accuracy: 98.38% | Train Loss (BCE): 0.1374 | Test Accuracy: 99.00% | Test Loss (BCE): 0.1478\n",
      "\n",
      "Epoch 350 | Train Accuracy: 98.38% | Train Loss (BCE): 0.1368 | Test Accuracy: 99.00% | Test Loss (BCE): 0.1473\n",
      "\n",
      "Epoch 351 | Train Accuracy: 98.38% | Train Loss (BCE): 0.1363 | Test Accuracy: 99.00% | Test Loss (BCE): 0.1468\n",
      "\n",
      "Epoch 352 | Train Accuracy: 98.38% | Train Loss (BCE): 0.1358 | Test Accuracy: 99.00% | Test Loss (BCE): 0.1463\n",
      "\n",
      "Epoch 353 | Train Accuracy: 98.50% | Train Loss (BCE): 0.1353 | Test Accuracy: 99.00% | Test Loss (BCE): 0.1458\n",
      "\n",
      "Epoch 354 | Train Accuracy: 98.62% | Train Loss (BCE): 0.1348 | Test Accuracy: 99.00% | Test Loss (BCE): 0.1453\n",
      "\n",
      "Epoch 355 | Train Accuracy: 98.62% | Train Loss (BCE): 0.1343 | Test Accuracy: 99.00% | Test Loss (BCE): 0.1448\n",
      "\n",
      "Epoch 356 | Train Accuracy: 98.62% | Train Loss (BCE): 0.1338 | Test Accuracy: 99.00% | Test Loss (BCE): 0.1443\n",
      "\n",
      "Epoch 357 | Train Accuracy: 98.62% | Train Loss (BCE): 0.1333 | Test Accuracy: 99.00% | Test Loss (BCE): 0.1438\n",
      "\n",
      "Epoch 358 | Train Accuracy: 98.50% | Train Loss (BCE): 0.1328 | Test Accuracy: 99.00% | Test Loss (BCE): 0.1433\n",
      "\n",
      "Epoch 359 | Train Accuracy: 98.50% | Train Loss (BCE): 0.1323 | Test Accuracy: 99.00% | Test Loss (BCE): 0.1428\n",
      "\n",
      "Epoch 360 | Train Accuracy: 98.50% | Train Loss (BCE): 0.1318 | Test Accuracy: 99.00% | Test Loss (BCE): 0.1423\n",
      "\n",
      "Epoch 361 | Train Accuracy: 98.50% | Train Loss (BCE): 0.1313 | Test Accuracy: 99.00% | Test Loss (BCE): 0.1419\n",
      "\n",
      "Epoch 362 | Train Accuracy: 98.50% | Train Loss (BCE): 0.1308 | Test Accuracy: 99.00% | Test Loss (BCE): 0.1414\n",
      "\n",
      "Epoch 363 | Train Accuracy: 98.50% | Train Loss (BCE): 0.1303 | Test Accuracy: 99.00% | Test Loss (BCE): 0.1409\n",
      "\n",
      "Epoch 364 | Train Accuracy: 98.50% | Train Loss (BCE): 0.1299 | Test Accuracy: 99.00% | Test Loss (BCE): 0.1405\n",
      "\n",
      "Epoch 365 | Train Accuracy: 98.50% | Train Loss (BCE): 0.1294 | Test Accuracy: 99.00% | Test Loss (BCE): 0.1400\n",
      "\n",
      "Epoch 366 | Train Accuracy: 98.50% | Train Loss (BCE): 0.1289 | Test Accuracy: 99.00% | Test Loss (BCE): 0.1396\n",
      "\n",
      "Epoch 367 | Train Accuracy: 98.50% | Train Loss (BCE): 0.1285 | Test Accuracy: 99.00% | Test Loss (BCE): 0.1391\n",
      "\n",
      "Epoch 368 | Train Accuracy: 98.62% | Train Loss (BCE): 0.1280 | Test Accuracy: 99.00% | Test Loss (BCE): 0.1387\n",
      "\n",
      "Epoch 369 | Train Accuracy: 98.62% | Train Loss (BCE): 0.1276 | Test Accuracy: 99.00% | Test Loss (BCE): 0.1382\n",
      "\n",
      "Epoch 370 | Train Accuracy: 98.62% | Train Loss (BCE): 0.1271 | Test Accuracy: 99.00% | Test Loss (BCE): 0.1378\n",
      "\n",
      "Epoch 371 | Train Accuracy: 98.62% | Train Loss (BCE): 0.1267 | Test Accuracy: 99.00% | Test Loss (BCE): 0.1374\n",
      "\n",
      "Epoch 372 | Train Accuracy: 98.50% | Train Loss (BCE): 0.1262 | Test Accuracy: 99.00% | Test Loss (BCE): 0.1369\n",
      "\n",
      "Epoch 373 | Train Accuracy: 98.50% | Train Loss (BCE): 0.1258 | Test Accuracy: 99.00% | Test Loss (BCE): 0.1365\n",
      "\n",
      "Epoch 374 | Train Accuracy: 98.50% | Train Loss (BCE): 0.1254 | Test Accuracy: 99.00% | Test Loss (BCE): 0.1361\n",
      "\n",
      "Epoch 375 | Train Accuracy: 98.50% | Train Loss (BCE): 0.1249 | Test Accuracy: 99.00% | Test Loss (BCE): 0.1356\n",
      "\n",
      "Epoch 376 | Train Accuracy: 98.50% | Train Loss (BCE): 0.1245 | Test Accuracy: 99.00% | Test Loss (BCE): 0.1352\n",
      "\n",
      "Epoch 377 | Train Accuracy: 98.50% | Train Loss (BCE): 0.1241 | Test Accuracy: 99.00% | Test Loss (BCE): 0.1348\n",
      "\n",
      "Epoch 378 | Train Accuracy: 98.50% | Train Loss (BCE): 0.1236 | Test Accuracy: 99.00% | Test Loss (BCE): 0.1344\n",
      "\n",
      "Epoch 379 | Train Accuracy: 98.50% | Train Loss (BCE): 0.1232 | Test Accuracy: 99.00% | Test Loss (BCE): 0.1340\n",
      "\n",
      "Epoch 380 | Train Accuracy: 98.50% | Train Loss (BCE): 0.1228 | Test Accuracy: 99.00% | Test Loss (BCE): 0.1336\n",
      "\n",
      "Epoch 381 | Train Accuracy: 98.50% | Train Loss (BCE): 0.1224 | Test Accuracy: 99.00% | Test Loss (BCE): 0.1332\n",
      "\n",
      "Epoch 382 | Train Accuracy: 98.50% | Train Loss (BCE): 0.1220 | Test Accuracy: 99.00% | Test Loss (BCE): 0.1328\n",
      "\n",
      "Epoch 383 | Train Accuracy: 98.50% | Train Loss (BCE): 0.1216 | Test Accuracy: 99.00% | Test Loss (BCE): 0.1324\n",
      "\n",
      "Epoch 384 | Train Accuracy: 98.50% | Train Loss (BCE): 0.1212 | Test Accuracy: 99.00% | Test Loss (BCE): 0.1320\n",
      "\n",
      "Epoch 385 | Train Accuracy: 98.62% | Train Loss (BCE): 0.1208 | Test Accuracy: 99.00% | Test Loss (BCE): 0.1316\n",
      "\n",
      "Epoch 386 | Train Accuracy: 98.62% | Train Loss (BCE): 0.1204 | Test Accuracy: 99.00% | Test Loss (BCE): 0.1312\n",
      "\n",
      "Epoch 387 | Train Accuracy: 98.62% | Train Loss (BCE): 0.1200 | Test Accuracy: 99.00% | Test Loss (BCE): 0.1308\n",
      "\n",
      "Epoch 388 | Train Accuracy: 98.62% | Train Loss (BCE): 0.1196 | Test Accuracy: 99.00% | Test Loss (BCE): 0.1305\n",
      "\n",
      "Epoch 389 | Train Accuracy: 98.62% | Train Loss (BCE): 0.1192 | Test Accuracy: 99.00% | Test Loss (BCE): 0.1301\n",
      "\n",
      "Epoch 390 | Train Accuracy: 98.62% | Train Loss (BCE): 0.1188 | Test Accuracy: 99.00% | Test Loss (BCE): 0.1297\n",
      "\n",
      "Epoch 391 | Train Accuracy: 98.62% | Train Loss (BCE): 0.1184 | Test Accuracy: 99.00% | Test Loss (BCE): 0.1293\n",
      "\n",
      "Epoch 392 | Train Accuracy: 98.62% | Train Loss (BCE): 0.1181 | Test Accuracy: 99.00% | Test Loss (BCE): 0.1290\n",
      "\n",
      "Epoch 393 | Train Accuracy: 98.62% | Train Loss (BCE): 0.1177 | Test Accuracy: 99.00% | Test Loss (BCE): 0.1286\n",
      "\n",
      "Epoch 394 | Train Accuracy: 98.62% | Train Loss (BCE): 0.1173 | Test Accuracy: 99.00% | Test Loss (BCE): 0.1282\n",
      "\n",
      "Epoch 395 | Train Accuracy: 98.62% | Train Loss (BCE): 0.1169 | Test Accuracy: 99.00% | Test Loss (BCE): 0.1279\n",
      "\n",
      "Epoch 396 | Train Accuracy: 98.50% | Train Loss (BCE): 0.1166 | Test Accuracy: 99.00% | Test Loss (BCE): 0.1275\n",
      "\n",
      "Epoch 397 | Train Accuracy: 98.50% | Train Loss (BCE): 0.1162 | Test Accuracy: 99.00% | Test Loss (BCE): 0.1272\n",
      "\n",
      "Epoch 398 | Train Accuracy: 98.50% | Train Loss (BCE): 0.1158 | Test Accuracy: 99.00% | Test Loss (BCE): 0.1268\n",
      "\n",
      "Epoch 399 | Train Accuracy: 98.62% | Train Loss (BCE): 0.1155 | Test Accuracy: 99.00% | Test Loss (BCE): 0.1265\n",
      "\n",
      "Epoch 400 | Train Accuracy: 98.62% | Train Loss (BCE): 0.1151 | Test Accuracy: 99.00% | Test Loss (BCE): 0.1261\n",
      "\n",
      "Epoch 401 | Train Accuracy: 98.62% | Train Loss (BCE): 0.1148 | Test Accuracy: 99.00% | Test Loss (BCE): 0.1258\n",
      "\n",
      "Epoch 402 | Train Accuracy: 98.75% | Train Loss (BCE): 0.1144 | Test Accuracy: 99.00% | Test Loss (BCE): 0.1254\n",
      "\n",
      "Epoch 403 | Train Accuracy: 98.75% | Train Loss (BCE): 0.1141 | Test Accuracy: 99.00% | Test Loss (BCE): 0.1251\n",
      "\n",
      "Epoch 404 | Train Accuracy: 98.75% | Train Loss (BCE): 0.1137 | Test Accuracy: 99.00% | Test Loss (BCE): 0.1248\n",
      "\n",
      "Epoch 405 | Train Accuracy: 98.75% | Train Loss (BCE): 0.1134 | Test Accuracy: 99.00% | Test Loss (BCE): 0.1244\n",
      "\n",
      "Epoch 406 | Train Accuracy: 98.75% | Train Loss (BCE): 0.1130 | Test Accuracy: 99.00% | Test Loss (BCE): 0.1241\n",
      "\n",
      "Epoch 407 | Train Accuracy: 98.75% | Train Loss (BCE): 0.1127 | Test Accuracy: 99.00% | Test Loss (BCE): 0.1238\n",
      "\n",
      "Epoch 408 | Train Accuracy: 98.88% | Train Loss (BCE): 0.1124 | Test Accuracy: 99.00% | Test Loss (BCE): 0.1234\n",
      "\n",
      "Epoch 409 | Train Accuracy: 98.88% | Train Loss (BCE): 0.1120 | Test Accuracy: 99.00% | Test Loss (BCE): 0.1231\n",
      "\n",
      "Epoch 410 | Train Accuracy: 98.88% | Train Loss (BCE): 0.1117 | Test Accuracy: 99.00% | Test Loss (BCE): 0.1228\n",
      "\n",
      "Epoch 411 | Train Accuracy: 98.88% | Train Loss (BCE): 0.1114 | Test Accuracy: 99.00% | Test Loss (BCE): 0.1225\n",
      "\n",
      "Epoch 412 | Train Accuracy: 98.88% | Train Loss (BCE): 0.1111 | Test Accuracy: 99.00% | Test Loss (BCE): 0.1222\n",
      "\n",
      "Epoch 413 | Train Accuracy: 98.88% | Train Loss (BCE): 0.1108 | Test Accuracy: 99.00% | Test Loss (BCE): 0.1218\n",
      "\n",
      "Epoch 414 | Train Accuracy: 98.88% | Train Loss (BCE): 0.1104 | Test Accuracy: 99.00% | Test Loss (BCE): 0.1215\n",
      "\n",
      "Epoch 415 | Train Accuracy: 98.88% | Train Loss (BCE): 0.1101 | Test Accuracy: 99.00% | Test Loss (BCE): 0.1212\n",
      "\n",
      "Epoch 416 | Train Accuracy: 98.88% | Train Loss (BCE): 0.1098 | Test Accuracy: 99.00% | Test Loss (BCE): 0.1209\n",
      "\n",
      "Epoch 417 | Train Accuracy: 98.88% | Train Loss (BCE): 0.1095 | Test Accuracy: 99.00% | Test Loss (BCE): 0.1206\n",
      "\n",
      "Epoch 418 | Train Accuracy: 98.88% | Train Loss (BCE): 0.1092 | Test Accuracy: 99.00% | Test Loss (BCE): 0.1203\n",
      "\n",
      "Epoch 419 | Train Accuracy: 98.88% | Train Loss (BCE): 0.1089 | Test Accuracy: 99.00% | Test Loss (BCE): 0.1200\n",
      "\n",
      "Epoch 420 | Train Accuracy: 98.88% | Train Loss (BCE): 0.1086 | Test Accuracy: 99.00% | Test Loss (BCE): 0.1197\n",
      "\n",
      "Epoch 421 | Train Accuracy: 98.88% | Train Loss (BCE): 0.1083 | Test Accuracy: 99.00% | Test Loss (BCE): 0.1194\n",
      "\n",
      "Epoch 422 | Train Accuracy: 98.88% | Train Loss (BCE): 0.1080 | Test Accuracy: 99.00% | Test Loss (BCE): 0.1191\n",
      "\n",
      "Epoch 423 | Train Accuracy: 98.88% | Train Loss (BCE): 0.1077 | Test Accuracy: 99.00% | Test Loss (BCE): 0.1188\n",
      "\n",
      "Epoch 424 | Train Accuracy: 98.88% | Train Loss (BCE): 0.1074 | Test Accuracy: 99.00% | Test Loss (BCE): 0.1185\n",
      "\n",
      "Epoch 425 | Train Accuracy: 99.00% | Train Loss (BCE): 0.1071 | Test Accuracy: 99.00% | Test Loss (BCE): 0.1182\n",
      "\n",
      "Epoch 426 | Train Accuracy: 99.00% | Train Loss (BCE): 0.1068 | Test Accuracy: 99.00% | Test Loss (BCE): 0.1179\n",
      "\n",
      "Epoch 427 | Train Accuracy: 99.00% | Train Loss (BCE): 0.1065 | Test Accuracy: 99.00% | Test Loss (BCE): 0.1176\n",
      "\n",
      "Epoch 428 | Train Accuracy: 99.00% | Train Loss (BCE): 0.1062 | Test Accuracy: 99.00% | Test Loss (BCE): 0.1173\n",
      "\n",
      "Epoch 429 | Train Accuracy: 99.00% | Train Loss (BCE): 0.1059 | Test Accuracy: 99.00% | Test Loss (BCE): 0.1170\n",
      "\n",
      "Epoch 430 | Train Accuracy: 99.00% | Train Loss (BCE): 0.1056 | Test Accuracy: 99.00% | Test Loss (BCE): 0.1168\n",
      "\n",
      "Epoch 431 | Train Accuracy: 99.00% | Train Loss (BCE): 0.1053 | Test Accuracy: 99.00% | Test Loss (BCE): 0.1165\n",
      "\n",
      "Epoch 432 | Train Accuracy: 99.00% | Train Loss (BCE): 0.1050 | Test Accuracy: 99.00% | Test Loss (BCE): 0.1162\n",
      "\n",
      "Epoch 433 | Train Accuracy: 99.00% | Train Loss (BCE): 0.1048 | Test Accuracy: 99.00% | Test Loss (BCE): 0.1159\n",
      "\n",
      "Epoch 434 | Train Accuracy: 99.00% | Train Loss (BCE): 0.1045 | Test Accuracy: 99.00% | Test Loss (BCE): 0.1157\n",
      "\n",
      "Epoch 435 | Train Accuracy: 99.00% | Train Loss (BCE): 0.1042 | Test Accuracy: 99.00% | Test Loss (BCE): 0.1154\n",
      "\n",
      "Epoch 436 | Train Accuracy: 99.00% | Train Loss (BCE): 0.1039 | Test Accuracy: 99.00% | Test Loss (BCE): 0.1151\n",
      "\n",
      "Epoch 437 | Train Accuracy: 99.00% | Train Loss (BCE): 0.1036 | Test Accuracy: 99.00% | Test Loss (BCE): 0.1148\n",
      "\n",
      "Epoch 438 | Train Accuracy: 99.00% | Train Loss (BCE): 0.1034 | Test Accuracy: 99.00% | Test Loss (BCE): 0.1146\n",
      "\n",
      "Epoch 439 | Train Accuracy: 99.00% | Train Loss (BCE): 0.1031 | Test Accuracy: 99.00% | Test Loss (BCE): 0.1143\n",
      "\n",
      "Epoch 440 | Train Accuracy: 99.00% | Train Loss (BCE): 0.1028 | Test Accuracy: 99.00% | Test Loss (BCE): 0.1140\n",
      "\n",
      "Epoch 441 | Train Accuracy: 99.00% | Train Loss (BCE): 0.1026 | Test Accuracy: 99.00% | Test Loss (BCE): 0.1138\n",
      "\n",
      "Epoch 442 | Train Accuracy: 99.00% | Train Loss (BCE): 0.1023 | Test Accuracy: 99.00% | Test Loss (BCE): 0.1135\n",
      "\n",
      "Epoch 443 | Train Accuracy: 98.88% | Train Loss (BCE): 0.1020 | Test Accuracy: 99.00% | Test Loss (BCE): 0.1133\n",
      "\n",
      "Epoch 444 | Train Accuracy: 98.88% | Train Loss (BCE): 0.1018 | Test Accuracy: 99.00% | Test Loss (BCE): 0.1130\n",
      "\n",
      "Epoch 445 | Train Accuracy: 98.88% | Train Loss (BCE): 0.1015 | Test Accuracy: 99.00% | Test Loss (BCE): 0.1128\n",
      "\n",
      "Epoch 446 | Train Accuracy: 99.00% | Train Loss (BCE): 0.1012 | Test Accuracy: 99.00% | Test Loss (BCE): 0.1125\n",
      "\n",
      "Epoch 447 | Train Accuracy: 99.00% | Train Loss (BCE): 0.1010 | Test Accuracy: 99.00% | Test Loss (BCE): 0.1123\n",
      "\n",
      "Epoch 448 | Train Accuracy: 99.00% | Train Loss (BCE): 0.1007 | Test Accuracy: 99.00% | Test Loss (BCE): 0.1120\n",
      "\n",
      "Epoch 449 | Train Accuracy: 99.00% | Train Loss (BCE): 0.1005 | Test Accuracy: 99.00% | Test Loss (BCE): 0.1118\n",
      "\n",
      "Epoch 450 | Train Accuracy: 99.00% | Train Loss (BCE): 0.1002 | Test Accuracy: 99.00% | Test Loss (BCE): 0.1115\n",
      "\n",
      "Epoch 451 | Train Accuracy: 99.00% | Train Loss (BCE): 0.1000 | Test Accuracy: 99.00% | Test Loss (BCE): 0.1113\n",
      "\n",
      "Epoch 452 | Train Accuracy: 99.00% | Train Loss (BCE): 0.0997 | Test Accuracy: 99.00% | Test Loss (BCE): 0.1110\n",
      "\n",
      "Epoch 453 | Train Accuracy: 99.00% | Train Loss (BCE): 0.0995 | Test Accuracy: 99.00% | Test Loss (BCE): 0.1108\n",
      "\n",
      "Epoch 454 | Train Accuracy: 99.00% | Train Loss (BCE): 0.0992 | Test Accuracy: 99.00% | Test Loss (BCE): 0.1105\n",
      "\n",
      "Epoch 455 | Train Accuracy: 99.12% | Train Loss (BCE): 0.0990 | Test Accuracy: 99.00% | Test Loss (BCE): 0.1103\n",
      "\n",
      "Epoch 456 | Train Accuracy: 99.12% | Train Loss (BCE): 0.0987 | Test Accuracy: 99.00% | Test Loss (BCE): 0.1101\n",
      "\n",
      "Epoch 457 | Train Accuracy: 99.12% | Train Loss (BCE): 0.0985 | Test Accuracy: 99.00% | Test Loss (BCE): 0.1098\n",
      "\n",
      "Epoch 458 | Train Accuracy: 99.12% | Train Loss (BCE): 0.0983 | Test Accuracy: 99.00% | Test Loss (BCE): 0.1096\n",
      "\n",
      "Epoch 459 | Train Accuracy: 99.25% | Train Loss (BCE): 0.0980 | Test Accuracy: 99.00% | Test Loss (BCE): 0.1094\n",
      "\n",
      "Epoch 460 | Train Accuracy: 99.25% | Train Loss (BCE): 0.0978 | Test Accuracy: 99.00% | Test Loss (BCE): 0.1091\n",
      "\n",
      "Epoch 461 | Train Accuracy: 99.25% | Train Loss (BCE): 0.0975 | Test Accuracy: 99.00% | Test Loss (BCE): 0.1089\n",
      "\n",
      "Epoch 462 | Train Accuracy: 99.25% | Train Loss (BCE): 0.0973 | Test Accuracy: 99.00% | Test Loss (BCE): 0.1087\n",
      "\n",
      "Epoch 463 | Train Accuracy: 99.25% | Train Loss (BCE): 0.0971 | Test Accuracy: 99.00% | Test Loss (BCE): 0.1085\n",
      "\n",
      "Epoch 464 | Train Accuracy: 99.25% | Train Loss (BCE): 0.0968 | Test Accuracy: 99.00% | Test Loss (BCE): 0.1082\n",
      "\n",
      "Epoch 465 | Train Accuracy: 99.25% | Train Loss (BCE): 0.0966 | Test Accuracy: 99.00% | Test Loss (BCE): 0.1080\n",
      "\n",
      "Epoch 466 | Train Accuracy: 99.25% | Train Loss (BCE): 0.0964 | Test Accuracy: 99.00% | Test Loss (BCE): 0.1078\n",
      "\n",
      "Epoch 467 | Train Accuracy: 99.25% | Train Loss (BCE): 0.0962 | Test Accuracy: 99.00% | Test Loss (BCE): 0.1076\n",
      "\n",
      "Epoch 468 | Train Accuracy: 99.25% | Train Loss (BCE): 0.0959 | Test Accuracy: 99.00% | Test Loss (BCE): 0.1073\n",
      "\n",
      "Epoch 469 | Train Accuracy: 99.25% | Train Loss (BCE): 0.0957 | Test Accuracy: 99.00% | Test Loss (BCE): 0.1071\n",
      "\n",
      "Epoch 470 | Train Accuracy: 99.25% | Train Loss (BCE): 0.0955 | Test Accuracy: 99.00% | Test Loss (BCE): 0.1069\n",
      "\n",
      "Epoch 471 | Train Accuracy: 99.25% | Train Loss (BCE): 0.0953 | Test Accuracy: 99.00% | Test Loss (BCE): 0.1067\n",
      "\n",
      "Epoch 472 | Train Accuracy: 99.25% | Train Loss (BCE): 0.0950 | Test Accuracy: 99.00% | Test Loss (BCE): 0.1064\n",
      "\n",
      "Epoch 473 | Train Accuracy: 99.25% | Train Loss (BCE): 0.0948 | Test Accuracy: 99.00% | Test Loss (BCE): 0.1062\n",
      "\n",
      "Epoch 474 | Train Accuracy: 99.25% | Train Loss (BCE): 0.0946 | Test Accuracy: 99.00% | Test Loss (BCE): 0.1060\n",
      "\n",
      "Epoch 475 | Train Accuracy: 99.25% | Train Loss (BCE): 0.0944 | Test Accuracy: 99.00% | Test Loss (BCE): 0.1058\n",
      "\n",
      "Epoch 476 | Train Accuracy: 99.25% | Train Loss (BCE): 0.0942 | Test Accuracy: 99.00% | Test Loss (BCE): 0.1056\n",
      "\n",
      "Epoch 477 | Train Accuracy: 99.25% | Train Loss (BCE): 0.0940 | Test Accuracy: 99.00% | Test Loss (BCE): 0.1054\n",
      "\n",
      "Epoch 478 | Train Accuracy: 99.25% | Train Loss (BCE): 0.0937 | Test Accuracy: 99.00% | Test Loss (BCE): 0.1052\n",
      "\n",
      "Epoch 479 | Train Accuracy: 99.25% | Train Loss (BCE): 0.0935 | Test Accuracy: 99.00% | Test Loss (BCE): 0.1049\n",
      "\n",
      "Epoch 480 | Train Accuracy: 99.25% | Train Loss (BCE): 0.0933 | Test Accuracy: 99.00% | Test Loss (BCE): 0.1047\n",
      "\n",
      "Epoch 481 | Train Accuracy: 99.25% | Train Loss (BCE): 0.0931 | Test Accuracy: 99.00% | Test Loss (BCE): 0.1045\n",
      "\n",
      "Epoch 482 | Train Accuracy: 99.25% | Train Loss (BCE): 0.0929 | Test Accuracy: 99.00% | Test Loss (BCE): 0.1043\n",
      "\n",
      "Epoch 483 | Train Accuracy: 99.25% | Train Loss (BCE): 0.0927 | Test Accuracy: 99.00% | Test Loss (BCE): 0.1041\n",
      "\n",
      "Epoch 484 | Train Accuracy: 99.25% | Train Loss (BCE): 0.0925 | Test Accuracy: 99.00% | Test Loss (BCE): 0.1039\n",
      "\n",
      "Epoch 485 | Train Accuracy: 99.25% | Train Loss (BCE): 0.0923 | Test Accuracy: 99.00% | Test Loss (BCE): 0.1037\n",
      "\n",
      "Epoch 486 | Train Accuracy: 99.25% | Train Loss (BCE): 0.0921 | Test Accuracy: 99.00% | Test Loss (BCE): 0.1035\n",
      "\n",
      "Epoch 487 | Train Accuracy: 99.25% | Train Loss (BCE): 0.0919 | Test Accuracy: 99.00% | Test Loss (BCE): 0.1033\n",
      "\n",
      "Epoch 488 | Train Accuracy: 99.25% | Train Loss (BCE): 0.0917 | Test Accuracy: 99.00% | Test Loss (BCE): 0.1031\n",
      "\n",
      "Epoch 489 | Train Accuracy: 99.25% | Train Loss (BCE): 0.0915 | Test Accuracy: 99.00% | Test Loss (BCE): 0.1029\n",
      "\n",
      "Epoch 490 | Train Accuracy: 99.25% | Train Loss (BCE): 0.0913 | Test Accuracy: 99.00% | Test Loss (BCE): 0.1027\n",
      "\n",
      "Epoch 491 | Train Accuracy: 99.25% | Train Loss (BCE): 0.0911 | Test Accuracy: 99.00% | Test Loss (BCE): 0.1025\n",
      "\n",
      "Epoch 492 | Train Accuracy: 99.25% | Train Loss (BCE): 0.0909 | Test Accuracy: 99.00% | Test Loss (BCE): 0.1023\n",
      "\n",
      "Epoch 493 | Train Accuracy: 99.25% | Train Loss (BCE): 0.0907 | Test Accuracy: 99.00% | Test Loss (BCE): 0.1021\n",
      "\n",
      "Epoch 494 | Train Accuracy: 99.25% | Train Loss (BCE): 0.0905 | Test Accuracy: 99.00% | Test Loss (BCE): 0.1019\n",
      "\n",
      "Epoch 495 | Train Accuracy: 99.25% | Train Loss (BCE): 0.0903 | Test Accuracy: 99.00% | Test Loss (BCE): 0.1017\n",
      "\n",
      "Epoch 496 | Train Accuracy: 99.25% | Train Loss (BCE): 0.0901 | Test Accuracy: 99.00% | Test Loss (BCE): 0.1015\n",
      "\n",
      "Epoch 497 | Train Accuracy: 99.25% | Train Loss (BCE): 0.0899 | Test Accuracy: 99.00% | Test Loss (BCE): 0.1013\n",
      "\n",
      "Epoch 498 | Train Accuracy: 99.25% | Train Loss (BCE): 0.0897 | Test Accuracy: 99.00% | Test Loss (BCE): 0.1011\n",
      "\n",
      "Epoch 499 | Train Accuracy: 99.25% | Train Loss (BCE): 0.0895 | Test Accuracy: 99.00% | Test Loss (BCE): 0.1009\n",
      "\n",
      "Epoch 500 | Train Accuracy: 99.25% | Train Loss (BCE): 0.0893 | Test Accuracy: 99.00% | Test Loss (BCE): 0.1007\n",
      "\n"
     ]
    }
   ],
   "source": [
    "training_ds_loss_history_2, testing_ds_loss_history_2 = nn2.train(X_train, y_train, X_test, y_test, epochs=500, lr=0.1)"
   ]
  },
  {
   "cell_type": "code",
   "execution_count": 203,
   "metadata": {},
   "outputs": [
    {
     "data": {
      "image/png": "[encoded data removed]",
      "text/plain": [
       "<Figure size 900x600 with 1 Axes>"
      ]
     },
     "metadata": {},
     "output_type": "display_data"
    }
   ],
   "source": [
    "iterations = np.arange(1, len(training_ds_loss_history_2)+1)\n",
    "plt.figure(figsize=(9, 6))\n",
    "plt.plot(iterations, training_ds_loss_history_2, linewidth=2)\n",
    "plt.title('Binary Cross Entropy of Training Dataset vs Epochs', fontsize=20)\n",
    "plt.xlabel('Epoch', fontsize=16)\n",
    "plt.ylabel('Binary Cross Entropy ', fontsize=16)\n",
    "plt.xticks(fontsize=16)\n",
    "plt.yticks(fontsize=16)\n",
    "plt.grid(True)\n",
    "plt.tight_layout()\n",
    "# plt.savefig('bce_nn2.png', dpi=300)\n",
    "plt.show()"
   ]
  },
  {
   "cell_type": "code",
   "execution_count": 196,
   "metadata": {},
   "outputs": [
    {
     "name": "stdout",
     "output_type": "stream",
     "text": [
      "Accuracy: 99.00% | Loss (BCE): 0.1007\n"
     ]
    }
   ],
   "source": [
    "accuracy_2, bce_2 = nn2.evaluate(X_test, y_test)\n",
    "print(f\"Accuracy: {accuracy_2:.2f}% | Loss (BCE): {bce_2:.4f}\")"
   ]
  },
  {
   "cell_type": "code",
   "execution_count": 199,
   "metadata": {},
   "outputs": [
    {
     "data": {
      "application/vnd.plotly.v1+json": {
       "config": {
        "plotlyServerURL": "https://plot.ly"
       },
       "data": [
        {
         "gauge": {
          "axis": {
           "range": [
            0,
            100
           ]
          },
          "bar": {
           "color": "green"
          },
          "steps": [
           {
            "color": "lightcoral",
            "range": [
             0,
             50
            ]
           },
           {
            "color": "#FFA500",
            "range": [
             50,
             70
            ]
           },
           {
            "color": "yellow",
            "range": [
             70,
             90
            ]
           },
           {
            "color": "lightgreen",
            "range": [
             90,
             100
            ]
           }
          ]
         },
         "mode": "gauge+number",
         "number": {
          "suffix": "%"
         },
         "title": {
          "text": "Model Accuracy"
         },
         "type": "indicator",
         "value": 99
        }
       ],
       "layout": {
        "height": 400,
        "template": {
         "data": {
          "bar": [
           {
            "error_x": {
             "color": "#2a3f5f"
            },
            "error_y": {
             "color": "#2a3f5f"
            },
            "marker": {
             "line": {
              "color": "#E5ECF6",
              "width": 0.5
             },
             "pattern": {
              "fillmode": "overlay",
              "size": 10,
              "solidity": 0.2
             }
            },
            "type": "bar"
           }
          ],
          "barpolar": [
           {
            "marker": {
             "line": {
              "color": "#E5ECF6",
              "width": 0.5
             },
             "pattern": {
              "fillmode": "overlay",
              "size": 10,
              "solidity": 0.2
             }
            },
            "type": "barpolar"
           }
          ],
          "carpet": [
           {
            "aaxis": {
             "endlinecolor": "#2a3f5f",
             "gridcolor": "white",
             "linecolor": "white",
             "minorgridcolor": "white",
             "startlinecolor": "#2a3f5f"
            },
            "baxis": {
             "endlinecolor": "#2a3f5f",
             "gridcolor": "white",
             "linecolor": "white",
             "minorgridcolor": "white",
             "startlinecolor": "#2a3f5f"
            },
            "type": "carpet"
           }
          ],
          "choropleth": [
           {
            "colorbar": {
             "outlinewidth": 0,
             "ticks": ""
            },
            "type": "choropleth"
           }
          ],
          "contour": [
           {
            "colorbar": {
             "outlinewidth": 0,
             "ticks": ""
            },
            "colorscale": [
             [
              0,
              "#0d0887"
             ],
             [
              0.1111111111111111,
              "#46039f"
             ],
             [
              0.2222222222222222,
              "#7201a8"
             ],
             [
              0.3333333333333333,
              "#9c179e"
             ],
             [
              0.4444444444444444,
              "#bd3786"
             ],
             [
              0.5555555555555556,
              "#d8576b"
             ],
             [
              0.6666666666666666,
              "#ed7953"
             ],
             [
              0.7777777777777778,
              "#fb9f3a"
             ],
             [
              0.8888888888888888,
              "#fdca26"
             ],
             [
              1,
              "#f0f921"
             ]
            ],
            "type": "contour"
           }
          ],
          "contourcarpet": [
           {
            "colorbar": {
             "outlinewidth": 0,
             "ticks": ""
            },
            "type": "contourcarpet"
           }
          ],
          "heatmap": [
           {
            "colorbar": {
             "outlinewidth": 0,
             "ticks": ""
            },
            "colorscale": [
             [
              0,
              "#0d0887"
             ],
             [
              0.1111111111111111,
              "#46039f"
             ],
             [
              0.2222222222222222,
              "#7201a8"
             ],
             [
              0.3333333333333333,
              "#9c179e"
             ],
             [
              0.4444444444444444,
              "#bd3786"
             ],
             [
              0.5555555555555556,
              "#d8576b"
             ],
             [
              0.6666666666666666,
              "#ed7953"
             ],
             [
              0.7777777777777778,
              "#fb9f3a"
             ],
             [
              0.8888888888888888,
              "#fdca26"
             ],
             [
              1,
              "#f0f921"
             ]
            ],
            "type": "heatmap"
           }
          ],
          "heatmapgl": [
           {
            "colorbar": {
             "outlinewidth": 0,
             "ticks": ""
            },
            "colorscale": [
             [
              0,
              "#0d0887"
             ],
             [
              0.1111111111111111,
              "#46039f"
             ],
             [
              0.2222222222222222,
              "#7201a8"
             ],
             [
              0.3333333333333333,
              "#9c179e"
             ],
             [
              0.4444444444444444,
              "#bd3786"
             ],
             [
              0.5555555555555556,
              "#d8576b"
             ],
             [
              0.6666666666666666,
              "#ed7953"
             ],
             [
              0.7777777777777778,
              "#fb9f3a"
             ],
             [
              0.8888888888888888,
              "#fdca26"
             ],
             [
              1,
              "#f0f921"
             ]
            ],
            "type": "heatmapgl"
           }
          ],
          "histogram": [
           {
            "marker": {
             "pattern": {
              "fillmode": "overlay",
              "size": 10,
              "solidity": 0.2
             }
            },
            "type": "histogram"
           }
          ],
          "histogram2d": [
           {
            "colorbar": {
             "outlinewidth": 0,
             "ticks": ""
            },
            "colorscale": [
             [
              0,
              "#0d0887"
             ],
             [
              0.1111111111111111,
              "#46039f"
             ],
             [
              0.2222222222222222,
              "#7201a8"
             ],
             [
              0.3333333333333333,
              "#9c179e"
             ],
             [
              0.4444444444444444,
              "#bd3786"
             ],
             [
              0.5555555555555556,
              "#d8576b"
             ],
             [
              0.6666666666666666,
              "#ed7953"
             ],
             [
              0.7777777777777778,
              "#fb9f3a"
             ],
             [
              0.8888888888888888,
              "#fdca26"
             ],
             [
              1,
              "#f0f921"
             ]
            ],
            "type": "histogram2d"
           }
          ],
          "histogram2dcontour": [
           {
            "colorbar": {
             "outlinewidth": 0,
             "ticks": ""
            },
            "colorscale": [
             [
              0,
              "#0d0887"
             ],
             [
              0.1111111111111111,
              "#46039f"
             ],
             [
              0.2222222222222222,
              "#7201a8"
             ],
             [
              0.3333333333333333,
              "#9c179e"
             ],
             [
              0.4444444444444444,
              "#bd3786"
             ],
             [
              0.5555555555555556,
              "#d8576b"
             ],
             [
              0.6666666666666666,
              "#ed7953"
             ],
             [
              0.7777777777777778,
              "#fb9f3a"
             ],
             [
              0.8888888888888888,
              "#fdca26"
             ],
             [
              1,
              "#f0f921"
             ]
            ],
            "type": "histogram2dcontour"
           }
          ],
          "mesh3d": [
           {
            "colorbar": {
             "outlinewidth": 0,
             "ticks": ""
            },
            "type": "mesh3d"
           }
          ],
          "parcoords": [
           {
            "line": {
             "colorbar": {
              "outlinewidth": 0,
              "ticks": ""
             }
            },
            "type": "parcoords"
           }
          ],
          "pie": [
           {
            "automargin": true,
            "type": "pie"
           }
          ],
          "scatter": [
           {
            "fillpattern": {
             "fillmode": "overlay",
             "size": 10,
             "solidity": 0.2
            },
            "type": "scatter"
           }
          ],
          "scatter3d": [
           {
            "line": {
             "colorbar": {
              "outlinewidth": 0,
              "ticks": ""
             }
            },
            "marker": {
             "colorbar": {
              "outlinewidth": 0,
              "ticks": ""
             }
            },
            "type": "scatter3d"
           }
          ],
          "scattercarpet": [
           {
            "marker": {
             "colorbar": {
              "outlinewidth": 0,
              "ticks": ""
             }
            },
            "type": "scattercarpet"
           }
          ],
          "scattergeo": [
           {
            "marker": {
             "colorbar": {
              "outlinewidth": 0,
              "ticks": ""
             }
            },
            "type": "scattergeo"
           }
          ],
          "scattergl": [
           {
            "marker": {
             "colorbar": {
              "outlinewidth": 0,
              "ticks": ""
             }
            },
            "type": "scattergl"
           }
          ],
          "scattermapbox": [
           {
            "marker": {
             "colorbar": {
              "outlinewidth": 0,
              "ticks": ""
             }
            },
            "type": "scattermapbox"
           }
          ],
          "scatterpolar": [
           {
            "marker": {
             "colorbar": {
              "outlinewidth": 0,
              "ticks": ""
             }
            },
            "type": "scatterpolar"
           }
          ],
          "scatterpolargl": [
           {
            "marker": {
             "colorbar": {
              "outlinewidth": 0,
              "ticks": ""
             }
            },
            "type": "scatterpolargl"
           }
          ],
          "scatterternary": [
           {
            "marker": {
             "colorbar": {
              "outlinewidth": 0,
              "ticks": ""
             }
            },
            "type": "scatterternary"
           }
          ],
          "surface": [
           {
            "colorbar": {
             "outlinewidth": 0,
             "ticks": ""
            },
            "colorscale": [
             [
              0,
              "#0d0887"
             ],
             [
              0.1111111111111111,
              "#46039f"
             ],
             [
              0.2222222222222222,
              "#7201a8"
             ],
             [
              0.3333333333333333,
              "#9c179e"
             ],
             [
              0.4444444444444444,
              "#bd3786"
             ],
             [
              0.5555555555555556,
              "#d8576b"
             ],
             [
              0.6666666666666666,
              "#ed7953"
             ],
             [
              0.7777777777777778,
              "#fb9f3a"
             ],
             [
              0.8888888888888888,
              "#fdca26"
             ],
             [
              1,
              "#f0f921"
             ]
            ],
            "type": "surface"
           }
          ],
          "table": [
           {
            "cells": {
             "fill": {
              "color": "#EBF0F8"
             },
             "line": {
              "color": "white"
             }
            },
            "header": {
             "fill": {
              "color": "#C8D4E3"
             },
             "line": {
              "color": "white"
             }
            },
            "type": "table"
           }
          ]
         },
         "layout": {
          "annotationdefaults": {
           "arrowcolor": "#2a3f5f",
           "arrowhead": 0,
           "arrowwidth": 1
          },
          "autotypenumbers": "strict",
          "coloraxis": {
           "colorbar": {
            "outlinewidth": 0,
            "ticks": ""
           }
          },
          "colorscale": {
           "diverging": [
            [
             0,
             "#8e0152"
            ],
            [
             0.1,
             "#c51b7d"
            ],
            [
             0.2,
             "#de77ae"
            ],
            [
             0.3,
             "#f1b6da"
            ],
            [
             0.4,
             "#fde0ef"
            ],
            [
             0.5,
             "#f7f7f7"
            ],
            [
             0.6,
             "#e6f5d0"
            ],
            [
             0.7,
             "#b8e186"
            ],
            [
             0.8,
             "#7fbc41"
            ],
            [
             0.9,
             "#4d9221"
            ],
            [
             1,
             "#276419"
            ]
           ],
           "sequential": [
            [
             0,
             "#0d0887"
            ],
            [
             0.1111111111111111,
             "#46039f"
            ],
            [
             0.2222222222222222,
             "#7201a8"
            ],
            [
             0.3333333333333333,
             "#9c179e"
            ],
            [
             0.4444444444444444,
             "#bd3786"
            ],
            [
             0.5555555555555556,
             "#d8576b"
            ],
            [
             0.6666666666666666,
             "#ed7953"
            ],
            [
             0.7777777777777778,
             "#fb9f3a"
            ],
            [
             0.8888888888888888,
             "#fdca26"
            ],
            [
             1,
             "#f0f921"
            ]
           ],
           "sequentialminus": [
            [
             0,
             "#0d0887"
            ],
            [
             0.1111111111111111,
             "#46039f"
            ],
            [
             0.2222222222222222,
             "#7201a8"
            ],
            [
             0.3333333333333333,
             "#9c179e"
            ],
            [
             0.4444444444444444,
             "#bd3786"
            ],
            [
             0.5555555555555556,
             "#d8576b"
            ],
            [
             0.6666666666666666,
             "#ed7953"
            ],
            [
             0.7777777777777778,
             "#fb9f3a"
            ],
            [
             0.8888888888888888,
             "#fdca26"
            ],
            [
             1,
             "#f0f921"
            ]
           ]
          },
          "colorway": [
           "#636efa",
           "#EF553B",
           "#00cc96",
           "#ab63fa",
           "#FFA15A",
           "#19d3f3",
           "#FF6692",
           "#B6E880",
           "#FF97FF",
           "#FECB52"
          ],
          "font": {
           "color": "#2a3f5f"
          },
          "geo": {
           "bgcolor": "white",
           "lakecolor": "white",
           "landcolor": "#E5ECF6",
           "showlakes": true,
           "showland": true,
           "subunitcolor": "white"
          },
          "hoverlabel": {
           "align": "left"
          },
          "hovermode": "closest",
          "mapbox": {
           "style": "light"
          },
          "paper_bgcolor": "white",
          "plot_bgcolor": "#E5ECF6",
          "polar": {
           "angularaxis": {
            "gridcolor": "white",
            "linecolor": "white",
            "ticks": ""
           },
           "bgcolor": "#E5ECF6",
           "radialaxis": {
            "gridcolor": "white",
            "linecolor": "white",
            "ticks": ""
           }
          },
          "scene": {
           "xaxis": {
            "backgroundcolor": "#E5ECF6",
            "gridcolor": "white",
            "gridwidth": 2,
            "linecolor": "white",
            "showbackground": true,
            "ticks": "",
            "zerolinecolor": "white"
           },
           "yaxis": {
            "backgroundcolor": "#E5ECF6",
            "gridcolor": "white",
            "gridwidth": 2,
            "linecolor": "white",
            "showbackground": true,
            "ticks": "",
            "zerolinecolor": "white"
           },
           "zaxis": {
            "backgroundcolor": "#E5ECF6",
            "gridcolor": "white",
            "gridwidth": 2,
            "linecolor": "white",
            "showbackground": true,
            "ticks": "",
            "zerolinecolor": "white"
           }
          },
          "shapedefaults": {
           "line": {
            "color": "#2a3f5f"
           }
          },
          "ternary": {
           "aaxis": {
            "gridcolor": "white",
            "linecolor": "white",
            "ticks": ""
           },
           "baxis": {
            "gridcolor": "white",
            "linecolor": "white",
            "ticks": ""
           },
           "bgcolor": "#E5ECF6",
           "caxis": {
            "gridcolor": "white",
            "linecolor": "white",
            "ticks": ""
           }
          },
          "title": {
           "x": 0.05
          },
          "xaxis": {
           "automargin": true,
           "gridcolor": "white",
           "linecolor": "white",
           "ticks": "",
           "title": {
            "standoff": 15
           },
           "zerolinecolor": "white",
           "zerolinewidth": 2
          },
          "yaxis": {
           "automargin": true,
           "gridcolor": "white",
           "linecolor": "white",
           "ticks": "",
           "title": {
            "standoff": 15
           },
           "zerolinecolor": "white",
           "zerolinewidth": 2
          }
         }
        },
        "width": 600
       }
      }
     },
     "metadata": {},
     "output_type": "display_data"
    }
   ],
   "source": [
    "fig = go.Figure(go.Indicator(\n",
    "    mode=\"gauge+number\",\n",
    "    value=accuracy_2,\n",
    "    title={'text': \"Model Accuracy\"},\n",
    "    number={'suffix': \"%\"},\n",
    "    gauge={\n",
    "        'axis': {'range': [0, 100]},\n",
    "        'bar': {'color': \"green\"},\n",
    "        'steps': [\n",
    "            {'range': [0, 50], 'color': \"lightcoral\"},\n",
    "            {'range': [50, 70], 'color': \"#FFA500\"},\n",
    "            {'range': [70, 90], 'color': \"yellow\"},\n",
    "            {'range': [90, 100], 'color': \"lightgreen\"}\n",
    "        ],\n",
    "    }\n",
    "))\n",
    "fig.update_layout(\n",
    "    width=600,\n",
    "    height=400,\n",
    ")\n",
    "# fig.write_image(\"accuracy_nn2.png\", scale=2)\n",
    "fig.show()"
   ]
  },
  {
   "cell_type": "code",
   "execution_count": 215,
   "metadata": {},
   "outputs": [
    {
     "name": "stdout",
     "output_type": "stream",
     "text": [
      "Confusion Matrix:\n",
      " [[ 88   1]\n",
      " [  1 110]] \n",
      "\n",
      "True negative (Actually negative, classified as negative): 88\n",
      "False positive (Actually negative, classified as positive): 1\n",
      "False negative (Actually positive, classified as negative): 1\n",
      "True positive (Actually positive, classified as positive): 110\n"
     ]
    }
   ],
   "source": [
    "# Generating Confusion matrix\n",
    "y_pred_2 = nn2.predict(X_test)\n",
    "y_pred_classes_2 = np.where(y_pred_2 > 0.5, 1, 0)\n",
    "cm_2 = confusion_matrix(y_test, y_pred_classes_2)\n",
    "print('Confusion Matrix:\\n', cm_2, '\\n')\n",
    "print('True negative (Actually negative, classified as negative):', cm_2[0][0])\n",
    "print('False positive (Actually negative, classified as positive):', cm_2[0][1])\n",
    "print('False negative (Actually positive, classified as negative):', cm_2[1][0])\n",
    "print('True positive (Actually positive, classified as positive):', cm_2[1][1])"
   ]
  },
  {
   "cell_type": "code",
   "execution_count": 216,
   "metadata": {},
   "outputs": [
    {
     "data": {
      "image/png": "[encoded data removed]",
      "text/plain": [
       "<Figure size 640x480 with 2 Axes>"
      ]
     },
     "metadata": {},
     "output_type": "display_data"
    }
   ],
   "source": [
    "disp = ConfusionMatrixDisplay(confusion_matrix=cm_2)\n",
    "disp.plot(cmap=plt.cm.Blues)\n",
    "plt.title('Confusion Matrix')\n",
    "# plt.savefig('cm_nn2', dpi=300)\n",
    "plt.show()"
   ]
  },
  {
   "cell_type": "code",
   "execution_count": 219,
   "metadata": {},
   "outputs": [
    {
     "name": "stdout",
     "output_type": "stream",
     "text": [
      "Classification Report\n",
      "\n",
      "               precision    recall  f1-score   support\n",
      "\n",
      "           0       0.99      0.99      0.99        89\n",
      "           1       0.99      0.99      0.99       111\n",
      "\n",
      "    accuracy                           0.99       200\n",
      "   macro avg       0.99      0.99      0.99       200\n",
      "weighted avg       0.99      0.99      0.99       200\n",
      "\n"
     ]
    }
   ],
   "source": [
    "# Generating classification report from scikit-learn\n",
    "cr_2 = classification_report(y_test, y_pred_classes_2)\n",
    "print('Classification Report\\n\\n', cr_2)"
   ]
  }
 ],
 "metadata": {
  "kernelspec": {
   "display_name": "Python 3",
   "language": "python",
   "name": "python3"
  },
  "language_info": {
   "codemirror_mode": {
    "name": "ipython",
    "version": 3
   },
   "file_extension": ".py",
   "mimetype": "text/x-python",
   "name": "python",
   "nbconvert_exporter": "python",
   "pygments_lexer": "ipython3",
   "version": "3.12.4"
  }
 },
 "nbformat": 4,
 "nbformat_minor": 2
}
